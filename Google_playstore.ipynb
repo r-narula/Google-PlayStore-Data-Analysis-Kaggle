{
  "nbformat": 4,
  "nbformat_minor": 0,
  "metadata": {
    "kernelspec": {
      "display_name": "Python 3",
      "language": "python",
      "name": "python3"
    },
    "language_info": {
      "codemirror_mode": {
        "name": "ipython",
        "version": 3
      },
      "file_extension": ".py",
      "mimetype": "text/x-python",
      "name": "python",
      "nbconvert_exporter": "python",
      "pygments_lexer": "ipython3",
      "version": "3.7.4"
    },
    "toc": {
      "base_numbering": 1,
      "nav_menu": {},
      "number_sections": true,
      "sideBar": true,
      "skip_h1_title": false,
      "title_cell": "Table of Contents",
      "title_sidebar": "Contents",
      "toc_cell": false,
      "toc_position": {},
      "toc_section_display": true,
      "toc_window_display": false
    },
    "colab": {
      "name": "Google_playstore.ipynb",
      "provenance": [],
      "collapsed_sections": [],
      "include_colab_link": true
    }
  },
  "cells": [
    {
      "cell_type": "markdown",
      "metadata": {
        "id": "view-in-github",
        "colab_type": "text"
      },
      "source": [
        "<a href=\"https://colab.research.google.com/github/dimi-fn/Google-Playstore-Apps/blob/master/Google_playstore.ipynb\" target=\"_parent\"><img src=\"https://colab.research.google.com/assets/colab-badge.svg\" alt=\"Open In Colab\"/></a>"
      ]
    },
    {
      "cell_type": "code",
      "metadata": {
        "id": "OoH1VXsjcNlm",
        "colab_type": "code",
        "colab": {
          "base_uri": "https://localhost:8080/",
          "height": 70
        },
        "outputId": "2131a232-0ab1-47f1-8ecd-6fa659548d24"
      },
      "source": [
        "# Import statements\n",
        "# Import necessary python libraries and packages\n",
        "\n",
        "\n",
        "# For data analysis & manipulation\n",
        "import pandas as pd\n",
        "import numpy as np\n",
        "\n",
        "# For visualising distributional values\n",
        "import seaborn as sns\n",
        "import matplotlib.pyplot as plt"
      ],
      "execution_count": 1,
      "outputs": [
        {
          "output_type": "stream",
          "text": [
            "/usr/local/lib/python3.6/dist-packages/statsmodels/tools/_testing.py:19: FutureWarning: pandas.util.testing is deprecated. Use the functions in the public API at pandas.testing instead.\n",
            "  import pandas.util.testing as tm\n"
          ],
          "name": "stderr"
        }
      ]
    },
    {
      "cell_type": "code",
      "metadata": {
        "id": "tNjT7pqMcNlu",
        "colab_type": "code",
        "colab": {
          "base_uri": "https://localhost:8080/",
          "height": 50
        },
        "outputId": "c7dca5d9-f115-438f-86a8-1df1469570c2"
      },
      "source": [
        "# Python version\n",
        "\n",
        "import sys\n",
        "print (\"The Python version is: {}\".format(sys.version))"
      ],
      "execution_count": 2,
      "outputs": [
        {
          "output_type": "stream",
          "text": [
            "The Python version is: 3.6.9 (default, Jul 17 2020, 12:50:27) \n",
            "[GCC 8.4.0]\n"
          ],
          "name": "stdout"
        }
      ]
    },
    {
      "cell_type": "code",
      "metadata": {
        "id": "P507x5zMcNl1",
        "colab_type": "code",
        "colab": {
          "base_uri": "https://localhost:8080/",
          "height": 1000
        },
        "outputId": "ed0061eb-40da-4449-87a6-a466625a821a"
      },
      "source": [
        "# Generating the version of a wide variety of packages/libraries used\n",
        "\n",
        "pd.__version__\n",
        "pd.show_versions(as_json=False)"
      ],
      "execution_count": 3,
      "outputs": [
        {
          "output_type": "stream",
          "text": [
            "/usr/local/lib/python3.6/dist-packages/psycopg2/__init__.py:144: UserWarning: The psycopg2 wheel package will be renamed from release 2.8; in order to keep installing from binary please use \"pip install psycopg2-binary\" instead. For details see: <http://initd.org/psycopg/docs/install.html#binary-install-from-pypi>.\n",
            "  \"\"\")\n"
          ],
          "name": "stderr"
        },
        {
          "output_type": "stream",
          "text": [
            "\n",
            "INSTALLED VERSIONS\n",
            "------------------\n",
            "commit           : None\n",
            "python           : 3.6.9.final.0\n",
            "python-bits      : 64\n",
            "OS               : Linux\n",
            "OS-release       : 4.19.112+\n",
            "machine          : x86_64\n",
            "processor        : x86_64\n",
            "byteorder        : little\n",
            "LC_ALL           : None\n",
            "LANG             : en_US.UTF-8\n",
            "LOCALE           : en_US.UTF-8\n",
            "\n",
            "pandas           : 1.0.5\n",
            "numpy            : 1.18.5\n",
            "pytz             : 2018.9\n",
            "dateutil         : 2.8.1\n",
            "pip              : 19.3.1\n",
            "setuptools       : 49.6.0\n",
            "Cython           : 0.29.21\n",
            "pytest           : 3.6.4\n",
            "hypothesis       : None\n",
            "sphinx           : 1.8.5\n",
            "blosc            : None\n",
            "feather          : 0.4.1\n",
            "xlsxwriter       : None\n",
            "lxml.etree       : 4.2.6\n",
            "html5lib         : 1.0.1\n",
            "pymysql          : None\n",
            "psycopg2         : 2.7.6.1 (dt dec pq3 ext lo64)\n",
            "jinja2           : 2.11.2\n",
            "IPython          : 5.5.0\n",
            "pandas_datareader: 0.8.1\n",
            "bs4              : 4.6.3\n",
            "bottleneck       : 1.3.2\n",
            "fastparquet      : None\n",
            "gcsfs            : None\n",
            "lxml.etree       : 4.2.6\n",
            "matplotlib       : 3.2.2\n",
            "numexpr          : 2.7.1\n",
            "odfpy            : None\n",
            "openpyxl         : 2.5.9\n",
            "pandas_gbq       : 0.11.0\n",
            "pyarrow          : 0.14.1\n",
            "pytables         : None\n",
            "pytest           : 3.6.4\n",
            "pyxlsb           : None\n",
            "s3fs             : None\n",
            "scipy            : 1.4.1\n",
            "sqlalchemy       : 1.3.19\n",
            "tables           : 3.4.4\n",
            "tabulate         : 0.8.7\n",
            "xarray           : 0.15.1\n",
            "xlrd             : 1.1.0\n",
            "xlwt             : 1.3.0\n",
            "xlsxwriter       : None\n",
            "numba            : 0.48.0\n"
          ],
          "name": "stdout"
        }
      ]
    },
    {
      "cell_type": "code",
      "metadata": {
        "id": "QAZJ8sfIhnmM",
        "colab_type": "code",
        "colab": {}
      },
      "source": [
        "# Code to read csv file into colaboratory:\n",
        "!pip install -U -q PyDrive\n",
        "from pydrive.auth import GoogleAuth\n",
        "from pydrive.drive import GoogleDrive\n",
        "from google.colab import auth\n",
        "from oauth2client.client import GoogleCredentials"
      ],
      "execution_count": 4,
      "outputs": []
    },
    {
      "cell_type": "code",
      "metadata": {
        "id": "S7HGdKWQh3sG",
        "colab_type": "code",
        "colab": {}
      },
      "source": [
        "auth.authenticate_user()\n",
        "gauth = GoogleAuth()\n",
        "gauth.credentials = GoogleCredentials.get_application_default()\n",
        "drive = GoogleDrive(gauth)"
      ],
      "execution_count": 5,
      "outputs": []
    },
    {
      "cell_type": "code",
      "metadata": {
        "id": "WFioYw7OcNl9",
        "colab_type": "code",
        "colab": {
          "base_uri": "https://localhost:8080/",
          "height": 70
        },
        "outputId": "00f937c2-4495-4c3a-e7f1-6e0f54945271"
      },
      "source": [
        "# Assigning the dataset with the name: \"app\"\n",
        "\n",
        "downloaded = drive.CreateFile({'id':'1s5mJCccMkkVGSAVrzRYn0rdP-gJz849C'}) \n",
        "downloaded.GetContentFile('Google-Playstore-Full.csv') \n",
        "\n",
        "app = pd.read_csv('Google-Playstore-Full.csv') "
      ],
      "execution_count": 6,
      "outputs": [
        {
          "output_type": "stream",
          "text": [
            "/usr/local/lib/python3.6/dist-packages/IPython/core/interactiveshell.py:2718: DtypeWarning: Columns (2,3,11,12,13) have mixed types.Specify dtype option on import or set low_memory=False.\n",
            "  interactivity=interactivity, compiler=compiler, result=result)\n"
          ],
          "name": "stderr"
        }
      ]
    },
    {
      "cell_type": "code",
      "metadata": {
        "id": "2JTD9WTUcNmC",
        "colab_type": "code",
        "colab": {
          "base_uri": "https://localhost:8080/",
          "height": 34
        },
        "outputId": "95e139b0-fe18-4d20-e454-71937e2af39d"
      },
      "source": [
        "# The type of this dataset is a dataframe\n",
        "type(app)"
      ],
      "execution_count": 7,
      "outputs": [
        {
          "output_type": "execute_result",
          "data": {
            "text/plain": [
              "pandas.core.frame.DataFrame"
            ]
          },
          "metadata": {
            "tags": []
          },
          "execution_count": 7
        }
      ]
    },
    {
      "cell_type": "code",
      "metadata": {
        "id": "erUfJO9TcNmI",
        "colab_type": "code",
        "colab": {
          "base_uri": "https://localhost:8080/",
          "height": 34
        },
        "outputId": "eb84cb5a-a589-46b8-de68-b64d101f79f5"
      },
      "source": [
        "# The columns of this dataframe are \"series\"\n",
        "type(app[\"Installs\"])"
      ],
      "execution_count": 8,
      "outputs": [
        {
          "output_type": "execute_result",
          "data": {
            "text/plain": [
              "pandas.core.series.Series"
            ]
          },
          "metadata": {
            "tags": []
          },
          "execution_count": 8
        }
      ]
    },
    {
      "cell_type": "code",
      "metadata": {
        "id": "9APotmTVcNmN",
        "colab_type": "code",
        "colab": {
          "base_uri": "https://localhost:8080/",
          "height": 346
        },
        "outputId": "c66c3703-5a2b-4526-aeb7-fada6721d238"
      },
      "source": [
        "# First 5 rows of the dataframe\n",
        "\n",
        "app.head()"
      ],
      "execution_count": 9,
      "outputs": [
        {
          "output_type": "execute_result",
          "data": {
            "text/html": [
              "<div>\n",
              "<style scoped>\n",
              "    .dataframe tbody tr th:only-of-type {\n",
              "        vertical-align: middle;\n",
              "    }\n",
              "\n",
              "    .dataframe tbody tr th {\n",
              "        vertical-align: top;\n",
              "    }\n",
              "\n",
              "    .dataframe thead th {\n",
              "        text-align: right;\n",
              "    }\n",
              "</style>\n",
              "<table border=\"1\" class=\"dataframe\">\n",
              "  <thead>\n",
              "    <tr style=\"text-align: right;\">\n",
              "      <th></th>\n",
              "      <th>App Name</th>\n",
              "      <th>Category</th>\n",
              "      <th>Rating</th>\n",
              "      <th>Reviews</th>\n",
              "      <th>Installs</th>\n",
              "      <th>Size</th>\n",
              "      <th>Price</th>\n",
              "      <th>Content Rating</th>\n",
              "      <th>Last Updated</th>\n",
              "      <th>Minimum Version</th>\n",
              "      <th>Latest Version</th>\n",
              "      <th>Unnamed: 11</th>\n",
              "      <th>Unnamed: 12</th>\n",
              "      <th>Unnamed: 13</th>\n",
              "      <th>Unnamed: 14</th>\n",
              "    </tr>\n",
              "  </thead>\n",
              "  <tbody>\n",
              "    <tr>\n",
              "      <th>0</th>\n",
              "      <td>DoorDash - Food Delivery</td>\n",
              "      <td>FOOD_AND_DRINK</td>\n",
              "      <td>4.548561573</td>\n",
              "      <td>305034</td>\n",
              "      <td>5,000,000+</td>\n",
              "      <td>Varies with device</td>\n",
              "      <td>0</td>\n",
              "      <td>Everyone</td>\n",
              "      <td>March 29, 2019</td>\n",
              "      <td>Varies with device</td>\n",
              "      <td>Varies with device</td>\n",
              "      <td>NaN</td>\n",
              "      <td>NaN</td>\n",
              "      <td>NaN</td>\n",
              "      <td>NaN</td>\n",
              "    </tr>\n",
              "    <tr>\n",
              "      <th>1</th>\n",
              "      <td>TripAdvisor Hotels Flights Restaurants Attract...</td>\n",
              "      <td>TRAVEL_AND_LOCAL</td>\n",
              "      <td>4.400671482</td>\n",
              "      <td>1.20792e+06</td>\n",
              "      <td>100,000,000+</td>\n",
              "      <td>Varies with device</td>\n",
              "      <td>0</td>\n",
              "      <td>Everyone</td>\n",
              "      <td>March 29, 2019</td>\n",
              "      <td>Varies with device</td>\n",
              "      <td>Varies with device</td>\n",
              "      <td>NaN</td>\n",
              "      <td>NaN</td>\n",
              "      <td>NaN</td>\n",
              "      <td>NaN</td>\n",
              "    </tr>\n",
              "    <tr>\n",
              "      <th>2</th>\n",
              "      <td>Peapod</td>\n",
              "      <td>SHOPPING</td>\n",
              "      <td>3.656329393</td>\n",
              "      <td>1967</td>\n",
              "      <td>100,000+</td>\n",
              "      <td>1.4M</td>\n",
              "      <td>0</td>\n",
              "      <td>Everyone</td>\n",
              "      <td>September 20, 2018</td>\n",
              "      <td>5.0 and up</td>\n",
              "      <td>2.2.0</td>\n",
              "      <td>NaN</td>\n",
              "      <td>NaN</td>\n",
              "      <td>NaN</td>\n",
              "      <td>NaN</td>\n",
              "    </tr>\n",
              "    <tr>\n",
              "      <th>3</th>\n",
              "      <td>foodpanda - Local Food Delivery</td>\n",
              "      <td>FOOD_AND_DRINK</td>\n",
              "      <td>4.107232571</td>\n",
              "      <td>389154</td>\n",
              "      <td>10,000,000+</td>\n",
              "      <td>16M</td>\n",
              "      <td>0</td>\n",
              "      <td>Everyone</td>\n",
              "      <td>March 22, 2019</td>\n",
              "      <td>4.2 and up</td>\n",
              "      <td>4.18.2</td>\n",
              "      <td>NaN</td>\n",
              "      <td>NaN</td>\n",
              "      <td>NaN</td>\n",
              "      <td>NaN</td>\n",
              "    </tr>\n",
              "    <tr>\n",
              "      <th>4</th>\n",
              "      <td>My CookBook Pro (Ad Free)</td>\n",
              "      <td>FOOD_AND_DRINK</td>\n",
              "      <td>4.647752285</td>\n",
              "      <td>2291</td>\n",
              "      <td>10,000+</td>\n",
              "      <td>Varies with device</td>\n",
              "      <td>$5.99</td>\n",
              "      <td>Everyone</td>\n",
              "      <td>April 1, 2019</td>\n",
              "      <td>Varies with device</td>\n",
              "      <td>Varies with device</td>\n",
              "      <td>NaN</td>\n",
              "      <td>NaN</td>\n",
              "      <td>NaN</td>\n",
              "      <td>NaN</td>\n",
              "    </tr>\n",
              "  </tbody>\n",
              "</table>\n",
              "</div>"
            ],
            "text/plain": [
              "                                            App Name  ... Unnamed: 14\n",
              "0                           DoorDash - Food Delivery  ...         NaN\n",
              "1  TripAdvisor Hotels Flights Restaurants Attract...  ...         NaN\n",
              "2                                             Peapod  ...         NaN\n",
              "3                    foodpanda - Local Food Delivery  ...         NaN\n",
              "4                          My CookBook Pro (Ad Free)  ...         NaN\n",
              "\n",
              "[5 rows x 15 columns]"
            ]
          },
          "metadata": {
            "tags": []
          },
          "execution_count": 9
        }
      ]
    },
    {
      "cell_type": "code",
      "metadata": {
        "id": "f050eccdcNmT",
        "colab_type": "code",
        "colab": {
          "base_uri": "https://localhost:8080/",
          "height": 296
        },
        "outputId": "c776d978-55bf-4538-9bdd-ab73662030aa"
      },
      "source": [
        "# Getting the last five rows\n",
        "\n",
        "app.tail()"
      ],
      "execution_count": 10,
      "outputs": [
        {
          "output_type": "execute_result",
          "data": {
            "text/html": [
              "<div>\n",
              "<style scoped>\n",
              "    .dataframe tbody tr th:only-of-type {\n",
              "        vertical-align: middle;\n",
              "    }\n",
              "\n",
              "    .dataframe tbody tr th {\n",
              "        vertical-align: top;\n",
              "    }\n",
              "\n",
              "    .dataframe thead th {\n",
              "        text-align: right;\n",
              "    }\n",
              "</style>\n",
              "<table border=\"1\" class=\"dataframe\">\n",
              "  <thead>\n",
              "    <tr style=\"text-align: right;\">\n",
              "      <th></th>\n",
              "      <th>App Name</th>\n",
              "      <th>Category</th>\n",
              "      <th>Rating</th>\n",
              "      <th>Reviews</th>\n",
              "      <th>Installs</th>\n",
              "      <th>Size</th>\n",
              "      <th>Price</th>\n",
              "      <th>Content Rating</th>\n",
              "      <th>Last Updated</th>\n",
              "      <th>Minimum Version</th>\n",
              "      <th>Latest Version</th>\n",
              "      <th>Unnamed: 11</th>\n",
              "      <th>Unnamed: 12</th>\n",
              "      <th>Unnamed: 13</th>\n",
              "      <th>Unnamed: 14</th>\n",
              "    </tr>\n",
              "  </thead>\n",
              "  <tbody>\n",
              "    <tr>\n",
              "      <th>267047</th>\n",
              "      <td>Community Healthplex</td>\n",
              "      <td>HEALTH_AND_FITNESS</td>\n",
              "      <td>5</td>\n",
              "      <td>1</td>\n",
              "      <td>100+</td>\n",
              "      <td>4.2M</td>\n",
              "      <td>0</td>\n",
              "      <td>Everyone</td>\n",
              "      <td>July 27, 2018</td>\n",
              "      <td>5.0 and up</td>\n",
              "      <td>1.0.4.228</td>\n",
              "      <td>NaN</td>\n",
              "      <td>NaN</td>\n",
              "      <td>NaN</td>\n",
              "      <td>NaN</td>\n",
              "    </tr>\n",
              "    <tr>\n",
              "      <th>267048</th>\n",
              "      <td>Pet ads: Buy &amp; Sell</td>\n",
              "      <td>BUSINESS</td>\n",
              "      <td>2.6</td>\n",
              "      <td>5</td>\n",
              "      <td>500+</td>\n",
              "      <td>8.4M</td>\n",
              "      <td>0</td>\n",
              "      <td>Everyone</td>\n",
              "      <td>October 22, 2018</td>\n",
              "      <td>4.0.3 and up</td>\n",
              "      <td>1.8</td>\n",
              "      <td>NaN</td>\n",
              "      <td>NaN</td>\n",
              "      <td>NaN</td>\n",
              "      <td>NaN</td>\n",
              "    </tr>\n",
              "    <tr>\n",
              "      <th>267049</th>\n",
              "      <td>Collectors Market: Buy &amp; Sell</td>\n",
              "      <td>BUSINESS</td>\n",
              "      <td>3.28571</td>\n",
              "      <td>7</td>\n",
              "      <td>1,000+</td>\n",
              "      <td>7.9M</td>\n",
              "      <td>0</td>\n",
              "      <td>Everyone</td>\n",
              "      <td>March 13, 2019</td>\n",
              "      <td>4.0.3 and up</td>\n",
              "      <td>2.4</td>\n",
              "      <td>NaN</td>\n",
              "      <td>NaN</td>\n",
              "      <td>NaN</td>\n",
              "      <td>NaN</td>\n",
              "    </tr>\n",
              "    <tr>\n",
              "      <th>267050</th>\n",
              "      <td>Car Market, Buy &amp; Sell</td>\n",
              "      <td>BUSINESS</td>\n",
              "      <td>5</td>\n",
              "      <td>1</td>\n",
              "      <td>1,000+</td>\n",
              "      <td>8.2M</td>\n",
              "      <td>0</td>\n",
              "      <td>Everyone</td>\n",
              "      <td>August 27, 2018</td>\n",
              "      <td>4.0.3 and up</td>\n",
              "      <td>1.7</td>\n",
              "      <td>NaN</td>\n",
              "      <td>NaN</td>\n",
              "      <td>NaN</td>\n",
              "      <td>NaN</td>\n",
              "    </tr>\n",
              "    <tr>\n",
              "      <th>267051</th>\n",
              "      <td>Selfie with Ariana Grande</td>\n",
              "      <td>PHOTOGRAPHY</td>\n",
              "      <td>4.61111</td>\n",
              "      <td>18</td>\n",
              "      <td>1,000+</td>\n",
              "      <td>7.8M</td>\n",
              "      <td>0</td>\n",
              "      <td>Everyone</td>\n",
              "      <td>October 3, 2018</td>\n",
              "      <td>4.0.3 and up</td>\n",
              "      <td>1</td>\n",
              "      <td>NaN</td>\n",
              "      <td>NaN</td>\n",
              "      <td>NaN</td>\n",
              "      <td>NaN</td>\n",
              "    </tr>\n",
              "  </tbody>\n",
              "</table>\n",
              "</div>"
            ],
            "text/plain": [
              "                             App Name  ... Unnamed: 14\n",
              "267047           Community Healthplex  ...         NaN\n",
              "267048            Pet ads: Buy & Sell  ...         NaN\n",
              "267049  Collectors Market: Buy & Sell  ...         NaN\n",
              "267050         Car Market, Buy & Sell  ...         NaN\n",
              "267051      Selfie with Ariana Grande  ...         NaN\n",
              "\n",
              "[5 rows x 15 columns]"
            ]
          },
          "metadata": {
            "tags": []
          },
          "execution_count": 10
        }
      ]
    },
    {
      "cell_type": "code",
      "metadata": {
        "id": "E02DdjQjcNma",
        "colab_type": "code",
        "colab": {
          "base_uri": "https://localhost:8080/",
          "height": 34
        },
        "outputId": "1699548b-e5e9-455e-b9d4-5b2d3e4d2763"
      },
      "source": [
        "# Getting the number of rows and columns of the dataframe\n",
        "\n",
        "app.shape"
      ],
      "execution_count": 11,
      "outputs": [
        {
          "output_type": "execute_result",
          "data": {
            "text/plain": [
              "(267052, 15)"
            ]
          },
          "metadata": {
            "tags": []
          },
          "execution_count": 11
        }
      ]
    },
    {
      "cell_type": "code",
      "metadata": {
        "id": "3ruc3CUgcNme",
        "colab_type": "code",
        "colab": {}
      },
      "source": [
        "# Removing the columns with index position: 11, 12, 13, 14. They do not seem to offer any substantial value to the data analysis\n",
        "\n",
        "app=app.drop(\"Unnamed: 11\", axis=1)\n",
        "app=app.drop(\"Unnamed: 12\", axis=1)\n",
        "app=app.drop(\"Unnamed: 13\", axis=1)\n",
        "app=app.drop(\"Unnamed: 14\", axis=1)"
      ],
      "execution_count": 12,
      "outputs": []
    },
    {
      "cell_type": "code",
      "metadata": {
        "id": "UeibMlFqcNmk",
        "colab_type": "code",
        "colab": {
          "base_uri": "https://localhost:8080/",
          "height": 34
        },
        "outputId": "83cea696-badc-4f4a-f54b-e86ddd137058"
      },
      "source": [
        "# Number of rows and columns after removing the useless columns\n",
        "\n",
        "app.shape"
      ],
      "execution_count": 13,
      "outputs": [
        {
          "output_type": "execute_result",
          "data": {
            "text/plain": [
              "(267052, 11)"
            ]
          },
          "metadata": {
            "tags": []
          },
          "execution_count": 13
        }
      ]
    },
    {
      "cell_type": "code",
      "metadata": {
        "id": "ECJS-X_wcNmq",
        "colab_type": "code",
        "colab": {
          "base_uri": "https://localhost:8080/",
          "height": 84
        },
        "outputId": "b72fa24e-03bc-4e24-c1c7-bfc09ae15a86"
      },
      "source": [
        "# Columns after removing the useless ones\n",
        "\n",
        "app.columns"
      ],
      "execution_count": 14,
      "outputs": [
        {
          "output_type": "execute_result",
          "data": {
            "text/plain": [
              "Index(['App Name', 'Category', 'Rating', 'Reviews', 'Installs', 'Size',\n",
              "       'Price', 'Content Rating', 'Last Updated', 'Minimum Version',\n",
              "       'Latest Version'],\n",
              "      dtype='object')"
            ]
          },
          "metadata": {
            "tags": []
          },
          "execution_count": 14
        }
      ]
    },
    {
      "cell_type": "code",
      "metadata": {
        "id": "HA20SY8OcNmv",
        "colab_type": "code",
        "colab": {
          "base_uri": "https://localhost:8080/",
          "height": 34
        },
        "outputId": "b49502db-2064-42c0-f3cb-5c90de051bf4"
      },
      "source": [
        "# Number of app categories\n",
        "\n",
        "app[\"Category\"].nunique()"
      ],
      "execution_count": 15,
      "outputs": [
        {
          "output_type": "execute_result",
          "data": {
            "text/plain": [
              "67"
            ]
          },
          "metadata": {
            "tags": []
          },
          "execution_count": 15
        }
      ]
    },
    {
      "cell_type": "code",
      "metadata": {
        "id": "XVmwIoE4cNm1",
        "colab_type": "code",
        "colab": {
          "base_uri": "https://localhost:8080/",
          "height": 319
        },
        "outputId": "55ab29c3-7707-40a4-82bd-ea29d7bd179a"
      },
      "source": [
        "# The app categories\n",
        "\n",
        "app.Category.unique()"
      ],
      "execution_count": 16,
      "outputs": [
        {
          "output_type": "execute_result",
          "data": {
            "text/plain": [
              "array(['FOOD_AND_DRINK', 'TRAVEL_AND_LOCAL', 'SHOPPING', 'LIFESTYLE',\n",
              "       'GAME_ACTION', 'GAME_CASUAL', 'GAME_ROLE_PLAYING', 'GAME_PUZZLE',\n",
              "       'GAME_RACING', 'GAME_ADVENTURE', 'GAME_ARCADE', 'GAME_STRATEGY',\n",
              "       'GAME_SPORTS', 'GAME_SIMULATION', 'GAME_MUSIC', 'MUSIC_AND_AUDIO',\n",
              "       'FINANCE', 'EVENTS', 'ENTERTAINMENT', 'EDUCATION',\n",
              "       'GAME_EDUCATIONAL', 'BOOKS_AND_REFERENCE', 'NEWS_AND_MAGAZINES',\n",
              "       'PHOTOGRAPHY', 'VIDEO_PLAYERS', 'GAME_WORD', 'ART_AND_DESIGN',\n",
              "       'GAME_TRIVIA', 'GAME_BOARD', 'BUSINESS', 'PRODUCTIVITY',\n",
              "       'COMMUNICATION', 'HEALTH_AND_FITNESS', 'HOUSE_AND_HOME', 'SOCIAL',\n",
              "       'BEAUTY', 'GAME_CASINO', 'MAPS_AND_NAVIGATION', 'PERSONALIZATION',\n",
              "       'GAME_CARD', 'TOOLS', 'SPORTS', 'AUTO_AND_VEHICLES',\n",
              "       'LIBRARIES_AND_DEMO', 'COMICS', 'PARENTING', 'DATING', 'WEATHER',\n",
              "       'MEDICAL', ' Podcasts', ')', ' Channel 2 News', nan,\n",
              "       ' Breaking News', '6', 'Gate ALARM', ' Alfabe �?ren',\n",
              "       ' T�rk Alfabesi', ' not notified you follow -', ' Mexpost)',\n",
              "       ' Romantic Song Music Love Songs', ' ETEA & MDCAT', ' Tour Guide',\n",
              "       'TRAVEL', ' Speaker Pro 2019', ' Islamic Name Boy & Girl+Meaning',\n",
              "       ' Accounting', ' super loud speaker booster'], dtype=object)"
            ]
          },
          "metadata": {
            "tags": []
          },
          "execution_count": 16
        }
      ]
    },
    {
      "cell_type": "code",
      "metadata": {
        "id": "y3Xqj1jvcNm7",
        "colab_type": "code",
        "colab": {
          "base_uri": "https://localhost:8080/",
          "height": 34
        },
        "outputId": "02248daa-1fd9-401f-ac98-7ed337f9d9fe"
      },
      "source": [
        "# Viewing the number of classes (gradation) of the number of installations\n",
        "# There are 38 different classes\n",
        "\n",
        "app[\"Installs\"].nunique()"
      ],
      "execution_count": 17,
      "outputs": [
        {
          "output_type": "execute_result",
          "data": {
            "text/plain": [
              "38"
            ]
          },
          "metadata": {
            "tags": []
          },
          "execution_count": 17
        }
      ]
    },
    {
      "cell_type": "code",
      "metadata": {
        "id": "NljuZ3SZcNnA",
        "colab_type": "code",
        "colab": {
          "base_uri": "https://localhost:8080/",
          "height": 118
        },
        "outputId": "dd9b6925-e913-4a1e-b2be-671f682b0ffa"
      },
      "source": [
        "# The gradation of installations in the dataframe\n",
        "\n",
        "# There seem to be some input mistakes, such as \"EDUCATION\", which should not belong in this column. They will be edited\n",
        "\n",
        "\n",
        "app.Installs.unique()"
      ],
      "execution_count": 18,
      "outputs": [
        {
          "output_type": "execute_result",
          "data": {
            "text/plain": [
              "array(['5,000,000+', '100,000,000+', '100,000+', '10,000,000+', '10,000+',\n",
              "       '1,000,000+', '50,000,000+', '500,000+', '50,000+', '5,000+',\n",
              "       '1,000+', '500,000,000+', '1,000,000,000+', '5,000,000,000+',\n",
              "       '100+', '500+', '50+', '5+', '10+', '1+', 'EDUCATION', '6',\n",
              "       '11976', '0+', '20', '156', ' Xmax X', '166', '1', '54', '71',\n",
              "       '59', '13', '117', '511', '927', '4.823529243', '10'], dtype=object)"
            ]
          },
          "metadata": {
            "tags": []
          },
          "execution_count": 18
        }
      ]
    },
    {
      "cell_type": "code",
      "metadata": {
        "id": "28KOeszWcNnG",
        "colab_type": "code",
        "colab": {
          "base_uri": "https://localhost:8080/",
          "height": 34
        },
        "outputId": "d36e0d99-d09b-4c2a-b0a6-b166daca285c"
      },
      "source": [
        "# There are a lot of app sizes\n",
        "\n",
        "app[\"Size\"].nunique()"
      ],
      "execution_count": 19,
      "outputs": [
        {
          "output_type": "execute_result",
          "data": {
            "text/plain": [
              "1248"
            ]
          },
          "metadata": {
            "tags": []
          },
          "execution_count": 19
        }
      ]
    },
    {
      "cell_type": "code",
      "metadata": {
        "id": "lvudevvTcNnL",
        "colab_type": "code",
        "colab": {
          "base_uri": "https://localhost:8080/",
          "height": 67
        },
        "outputId": "12375576-942c-41ff-e963-9121912b2682"
      },
      "source": [
        "# Viewing the content rating; who is permitted to download these apps\n",
        "\n",
        "# There are some invalid contents. They will be edited\n",
        "\n",
        "app[\"Content Rating\"].unique()"
      ],
      "execution_count": 20,
      "outputs": [
        {
          "output_type": "execute_result",
          "data": {
            "text/plain": [
              "array(['Everyone', 'Teen', 'Everyone 10+', 'Mature 17+',\n",
              "       'Adults only 18+', '100,000+', 'Unrated', '$0.99', '0', '3702',\n",
              "       '$2.49', '17M'], dtype=object)"
            ]
          },
          "metadata": {
            "tags": []
          },
          "execution_count": 20
        }
      ]
    },
    {
      "cell_type": "code",
      "metadata": {
        "id": "Cvfx6vSGcNnU",
        "colab_type": "code",
        "colab": {
          "base_uri": "https://localhost:8080/",
          "height": 34
        },
        "outputId": "f9ffd3c6-e109-49cd-8180-e662f777affe"
      },
      "source": [
        "# the number of categories of the age content rating\n",
        "\n",
        "len(app[\"Content Rating\"].unique())"
      ],
      "execution_count": 21,
      "outputs": [
        {
          "output_type": "execute_result",
          "data": {
            "text/plain": [
              "12"
            ]
          },
          "metadata": {
            "tags": []
          },
          "execution_count": 21
        }
      ]
    },
    {
      "cell_type": "code",
      "metadata": {
        "id": "esxlzRr4cNnY",
        "colab_type": "code",
        "colab": {
          "base_uri": "https://localhost:8080/",
          "height": 279
        },
        "outputId": "1bbcd72c-b80b-487c-8bb9-61190fb55912"
      },
      "source": [
        "#current first five rows\n",
        "\n",
        "app.head()"
      ],
      "execution_count": 22,
      "outputs": [
        {
          "output_type": "execute_result",
          "data": {
            "text/html": [
              "<div>\n",
              "<style scoped>\n",
              "    .dataframe tbody tr th:only-of-type {\n",
              "        vertical-align: middle;\n",
              "    }\n",
              "\n",
              "    .dataframe tbody tr th {\n",
              "        vertical-align: top;\n",
              "    }\n",
              "\n",
              "    .dataframe thead th {\n",
              "        text-align: right;\n",
              "    }\n",
              "</style>\n",
              "<table border=\"1\" class=\"dataframe\">\n",
              "  <thead>\n",
              "    <tr style=\"text-align: right;\">\n",
              "      <th></th>\n",
              "      <th>App Name</th>\n",
              "      <th>Category</th>\n",
              "      <th>Rating</th>\n",
              "      <th>Reviews</th>\n",
              "      <th>Installs</th>\n",
              "      <th>Size</th>\n",
              "      <th>Price</th>\n",
              "      <th>Content Rating</th>\n",
              "      <th>Last Updated</th>\n",
              "      <th>Minimum Version</th>\n",
              "      <th>Latest Version</th>\n",
              "    </tr>\n",
              "  </thead>\n",
              "  <tbody>\n",
              "    <tr>\n",
              "      <th>0</th>\n",
              "      <td>DoorDash - Food Delivery</td>\n",
              "      <td>FOOD_AND_DRINK</td>\n",
              "      <td>4.548561573</td>\n",
              "      <td>305034</td>\n",
              "      <td>5,000,000+</td>\n",
              "      <td>Varies with device</td>\n",
              "      <td>0</td>\n",
              "      <td>Everyone</td>\n",
              "      <td>March 29, 2019</td>\n",
              "      <td>Varies with device</td>\n",
              "      <td>Varies with device</td>\n",
              "    </tr>\n",
              "    <tr>\n",
              "      <th>1</th>\n",
              "      <td>TripAdvisor Hotels Flights Restaurants Attract...</td>\n",
              "      <td>TRAVEL_AND_LOCAL</td>\n",
              "      <td>4.400671482</td>\n",
              "      <td>1.20792e+06</td>\n",
              "      <td>100,000,000+</td>\n",
              "      <td>Varies with device</td>\n",
              "      <td>0</td>\n",
              "      <td>Everyone</td>\n",
              "      <td>March 29, 2019</td>\n",
              "      <td>Varies with device</td>\n",
              "      <td>Varies with device</td>\n",
              "    </tr>\n",
              "    <tr>\n",
              "      <th>2</th>\n",
              "      <td>Peapod</td>\n",
              "      <td>SHOPPING</td>\n",
              "      <td>3.656329393</td>\n",
              "      <td>1967</td>\n",
              "      <td>100,000+</td>\n",
              "      <td>1.4M</td>\n",
              "      <td>0</td>\n",
              "      <td>Everyone</td>\n",
              "      <td>September 20, 2018</td>\n",
              "      <td>5.0 and up</td>\n",
              "      <td>2.2.0</td>\n",
              "    </tr>\n",
              "    <tr>\n",
              "      <th>3</th>\n",
              "      <td>foodpanda - Local Food Delivery</td>\n",
              "      <td>FOOD_AND_DRINK</td>\n",
              "      <td>4.107232571</td>\n",
              "      <td>389154</td>\n",
              "      <td>10,000,000+</td>\n",
              "      <td>16M</td>\n",
              "      <td>0</td>\n",
              "      <td>Everyone</td>\n",
              "      <td>March 22, 2019</td>\n",
              "      <td>4.2 and up</td>\n",
              "      <td>4.18.2</td>\n",
              "    </tr>\n",
              "    <tr>\n",
              "      <th>4</th>\n",
              "      <td>My CookBook Pro (Ad Free)</td>\n",
              "      <td>FOOD_AND_DRINK</td>\n",
              "      <td>4.647752285</td>\n",
              "      <td>2291</td>\n",
              "      <td>10,000+</td>\n",
              "      <td>Varies with device</td>\n",
              "      <td>$5.99</td>\n",
              "      <td>Everyone</td>\n",
              "      <td>April 1, 2019</td>\n",
              "      <td>Varies with device</td>\n",
              "      <td>Varies with device</td>\n",
              "    </tr>\n",
              "  </tbody>\n",
              "</table>\n",
              "</div>"
            ],
            "text/plain": [
              "                                            App Name  ...      Latest Version\n",
              "0                           DoorDash - Food Delivery  ...  Varies with device\n",
              "1  TripAdvisor Hotels Flights Restaurants Attract...  ...  Varies with device\n",
              "2                                             Peapod  ...               2.2.0\n",
              "3                    foodpanda - Local Food Delivery  ...              4.18.2\n",
              "4                          My CookBook Pro (Ad Free)  ...  Varies with device\n",
              "\n",
              "[5 rows x 11 columns]"
            ]
          },
          "metadata": {
            "tags": []
          },
          "execution_count": 22
        }
      ]
    },
    {
      "cell_type": "code",
      "metadata": {
        "id": "gLnpt3WucNnc",
        "colab_type": "code",
        "colab": {
          "base_uri": "https://localhost:8080/",
          "height": 218
        },
        "outputId": "f941c126-e20f-4d5f-98ac-6fd2bc4c14c3"
      },
      "source": [
        "app.isnull().sum()"
      ],
      "execution_count": 23,
      "outputs": [
        {
          "output_type": "execute_result",
          "data": {
            "text/plain": [
              "App Name           1\n",
              "Category           1\n",
              "Rating             0\n",
              "Reviews            1\n",
              "Installs           0\n",
              "Size               0\n",
              "Price              0\n",
              "Content Rating     0\n",
              "Last Updated       0\n",
              "Minimum Version    1\n",
              "Latest Version     3\n",
              "dtype: int64"
            ]
          },
          "metadata": {
            "tags": []
          },
          "execution_count": 23
        }
      ]
    },
    {
      "cell_type": "code",
      "metadata": {
        "id": "HrUVGyAycNnh",
        "colab_type": "code",
        "colab": {
          "base_uri": "https://localhost:8080/",
          "height": 34
        },
        "outputId": "9b5d7ff7-432c-45d1-eca5-23c99f6bd4f7"
      },
      "source": [
        "# There are totally 11 empty data entries which will be dropped\n",
        "len(app.isnull().sum())"
      ],
      "execution_count": 24,
      "outputs": [
        {
          "output_type": "execute_result",
          "data": {
            "text/plain": [
              "11"
            ]
          },
          "metadata": {
            "tags": []
          },
          "execution_count": 24
        }
      ]
    },
    {
      "cell_type": "code",
      "metadata": {
        "id": "a0X_YNCUcNnm",
        "colab_type": "code",
        "colab": {}
      },
      "source": [
        "# Dropping the entries where there are missing values\n",
        "\n",
        "app=app.dropna()"
      ],
      "execution_count": 25,
      "outputs": []
    },
    {
      "cell_type": "code",
      "metadata": {
        "id": "uqfcZu5PcNnt",
        "colab_type": "code",
        "colab": {
          "base_uri": "https://localhost:8080/",
          "height": 218
        },
        "outputId": "2c79a843-fc1c-4458-bdbe-d39aeab0d30d"
      },
      "source": [
        "app.isnull().any()\n",
        "\n",
        "# False for every category means that there are no longer missing values"
      ],
      "execution_count": 26,
      "outputs": [
        {
          "output_type": "execute_result",
          "data": {
            "text/plain": [
              "App Name           False\n",
              "Category           False\n",
              "Rating             False\n",
              "Reviews            False\n",
              "Installs           False\n",
              "Size               False\n",
              "Price              False\n",
              "Content Rating     False\n",
              "Last Updated       False\n",
              "Minimum Version    False\n",
              "Latest Version     False\n",
              "dtype: bool"
            ]
          },
          "metadata": {
            "tags": []
          },
          "execution_count": 26
        }
      ]
    },
    {
      "cell_type": "code",
      "metadata": {
        "id": "bpQlTWeCcNn1",
        "colab_type": "code",
        "colab": {
          "base_uri": "https://localhost:8080/",
          "height": 34
        },
        "outputId": "d1b03337-eb23-4bfc-c8e5-5037fa4180e5"
      },
      "source": [
        "# Ensuring there are no missing values in any column, in any data of every column\n",
        "\n",
        "app.isnull().any().any()"
      ],
      "execution_count": 27,
      "outputs": [
        {
          "output_type": "execute_result",
          "data": {
            "text/plain": [
              "False"
            ]
          },
          "metadata": {
            "tags": []
          },
          "execution_count": 27
        }
      ]
    },
    {
      "cell_type": "markdown",
      "metadata": {
        "id": "B43z8t9wcNoL",
        "colab_type": "text"
      },
      "source": [
        "# Cleaning of the Data - Exploring and Managing the Data"
      ]
    },
    {
      "cell_type": "code",
      "metadata": {
        "id": "kD2YJZdgcNoM",
        "colab_type": "code",
        "colab": {
          "base_uri": "https://localhost:8080/",
          "height": 77
        },
        "outputId": "917d358e-a424-4d7b-e6e9-96bfdae5ebc8"
      },
      "source": [
        "# Start of cleaning\n",
        "# There were given some commands to locate any invalid data\n",
        "# I noticed that are some misplacing, e.g. here, \"4\" should move to \"Rating\", and \"GAME_STRATEGY\" should move to \"Category\"\n",
        "\n",
        "# Wherever the data are misplaced but valid, the data will be kept and edited (correcting the entry positions)\n",
        "# Wherever the data are misplaced and invalid too (with lot's of mistakes), the data will be removed\n",
        "\n",
        "app[app[\"Rating\"]== \"GAME_STRATEGY\"]"
      ],
      "execution_count": 28,
      "outputs": [
        {
          "output_type": "execute_result",
          "data": {
            "text/html": [
              "<div>\n",
              "<style scoped>\n",
              "    .dataframe tbody tr th:only-of-type {\n",
              "        vertical-align: middle;\n",
              "    }\n",
              "\n",
              "    .dataframe tbody tr th {\n",
              "        vertical-align: top;\n",
              "    }\n",
              "\n",
              "    .dataframe thead th {\n",
              "        text-align: right;\n",
              "    }\n",
              "</style>\n",
              "<table border=\"1\" class=\"dataframe\">\n",
              "  <thead>\n",
              "    <tr style=\"text-align: right;\">\n",
              "      <th></th>\n",
              "      <th>App Name</th>\n",
              "      <th>Category</th>\n",
              "      <th>Rating</th>\n",
              "      <th>Reviews</th>\n",
              "      <th>Installs</th>\n",
              "      <th>Size</th>\n",
              "      <th>Price</th>\n",
              "      <th>Content Rating</th>\n",
              "      <th>Last Updated</th>\n",
              "      <th>Minimum Version</th>\n",
              "      <th>Latest Version</th>\n",
              "    </tr>\n",
              "  </thead>\n",
              "  <tbody>\n",
              "    <tr>\n",
              "      <th>13504</th>\n",
              "      <td>Never have I ever 18+</td>\n",
              "      <td>)</td>\n",
              "      <td>GAME_STRATEGY</td>\n",
              "      <td>4</td>\n",
              "      <td>6</td>\n",
              "      <td>100+</td>\n",
              "      <td>2.4M</td>\n",
              "      <td>$0.99</td>\n",
              "      <td>Mature 17+</td>\n",
              "      <td>December 30, 2018</td>\n",
              "      <td>4.0.3 and up</td>\n",
              "    </tr>\n",
              "  </tbody>\n",
              "</table>\n",
              "</div>"
            ],
            "text/plain": [
              "                     App Name Category  ...    Minimum Version Latest Version\n",
              "13504  Never have I ever 18+         )  ...  December 30, 2018   4.0.3 and up\n",
              "\n",
              "[1 rows x 11 columns]"
            ]
          },
          "metadata": {
            "tags": []
          },
          "execution_count": 28
        }
      ]
    },
    {
      "cell_type": "code",
      "metadata": {
        "id": "qo2w_7utcNoQ",
        "colab_type": "code",
        "colab": {}
      },
      "source": [
        "# dropping the invalid entry\n",
        "\n",
        "app.drop(index=13504, inplace=True)  "
      ],
      "execution_count": 29,
      "outputs": []
    },
    {
      "cell_type": "code",
      "metadata": {
        "id": "K1jtvbd2cNoU",
        "colab_type": "code",
        "colab": {
          "base_uri": "https://localhost:8080/",
          "height": 47
        },
        "outputId": "882c803e-f95e-40a1-c5b6-880086bc97df"
      },
      "source": [
        "# Now the column \"Rating\" is fixed\n",
        "\n",
        "app[app[\"Rating\"]== \"GAME_STRATEGY\"]"
      ],
      "execution_count": 30,
      "outputs": [
        {
          "output_type": "execute_result",
          "data": {
            "text/html": [
              "<div>\n",
              "<style scoped>\n",
              "    .dataframe tbody tr th:only-of-type {\n",
              "        vertical-align: middle;\n",
              "    }\n",
              "\n",
              "    .dataframe tbody tr th {\n",
              "        vertical-align: top;\n",
              "    }\n",
              "\n",
              "    .dataframe thead th {\n",
              "        text-align: right;\n",
              "    }\n",
              "</style>\n",
              "<table border=\"1\" class=\"dataframe\">\n",
              "  <thead>\n",
              "    <tr style=\"text-align: right;\">\n",
              "      <th></th>\n",
              "      <th>App Name</th>\n",
              "      <th>Category</th>\n",
              "      <th>Rating</th>\n",
              "      <th>Reviews</th>\n",
              "      <th>Installs</th>\n",
              "      <th>Size</th>\n",
              "      <th>Price</th>\n",
              "      <th>Content Rating</th>\n",
              "      <th>Last Updated</th>\n",
              "      <th>Minimum Version</th>\n",
              "      <th>Latest Version</th>\n",
              "    </tr>\n",
              "  </thead>\n",
              "  <tbody>\n",
              "  </tbody>\n",
              "</table>\n",
              "</div>"
            ],
            "text/plain": [
              "Empty DataFrame\n",
              "Columns: [App Name, Category, Rating, Reviews, Installs, Size, Price, Content Rating, Last Updated, Minimum Version, Latest Version]\n",
              "Index: []"
            ]
          },
          "metadata": {
            "tags": []
          },
          "execution_count": 30
        }
      ]
    },
    {
      "cell_type": "code",
      "metadata": {
        "id": "VLViuuJ1cNod",
        "colab_type": "code",
        "colab": {
          "base_uri": "https://localhost:8080/",
          "height": 157
        },
        "outputId": "a84e9255-2c18-4e97-84b9-ff876eaae1e2"
      },
      "source": [
        "# Noticing the same pattern. Wrong entry data in the columns\n",
        "\n",
        "app[app[\"Rating\"]== \"NEWS_AND_MAGAZINES\"]"
      ],
      "execution_count": 31,
      "outputs": [
        {
          "output_type": "execute_result",
          "data": {
            "text/html": [
              "<div>\n",
              "<style scoped>\n",
              "    .dataframe tbody tr th:only-of-type {\n",
              "        vertical-align: middle;\n",
              "    }\n",
              "\n",
              "    .dataframe tbody tr th {\n",
              "        vertical-align: top;\n",
              "    }\n",
              "\n",
              "    .dataframe thead th {\n",
              "        text-align: right;\n",
              "    }\n",
              "</style>\n",
              "<table border=\"1\" class=\"dataframe\">\n",
              "  <thead>\n",
              "    <tr style=\"text-align: right;\">\n",
              "      <th></th>\n",
              "      <th>App Name</th>\n",
              "      <th>Category</th>\n",
              "      <th>Rating</th>\n",
              "      <th>Reviews</th>\n",
              "      <th>Installs</th>\n",
              "      <th>Size</th>\n",
              "      <th>Price</th>\n",
              "      <th>Content Rating</th>\n",
              "      <th>Last Updated</th>\n",
              "      <th>Minimum Version</th>\n",
              "      <th>Latest Version</th>\n",
              "    </tr>\n",
              "  </thead>\n",
              "  <tbody>\n",
              "    <tr>\n",
              "      <th>23457</th>\n",
              "      <td>Israel News</td>\n",
              "      <td>Channel 2 News</td>\n",
              "      <td>NEWS_AND_MAGAZINES</td>\n",
              "      <td>3.8578</td>\n",
              "      <td>11976</td>\n",
              "      <td>1,000,000+</td>\n",
              "      <td>Varies with device</td>\n",
              "      <td>0</td>\n",
              "      <td>Everyone 10+</td>\n",
              "      <td>March 16, 2019</td>\n",
              "      <td>Varies with device</td>\n",
              "    </tr>\n",
              "    <tr>\n",
              "      <th>48438</th>\n",
              "      <td>Mojo Times: Bihar Hindi Video News</td>\n",
              "      <td>Breaking News</td>\n",
              "      <td>NEWS_AND_MAGAZINES</td>\n",
              "      <td>4.77564</td>\n",
              "      <td>156</td>\n",
              "      <td>10,000+</td>\n",
              "      <td>6.9M</td>\n",
              "      <td>0</td>\n",
              "      <td>Teen</td>\n",
              "      <td>March 30, 2019</td>\n",
              "      <td>4.1 and up</td>\n",
              "    </tr>\n",
              "  </tbody>\n",
              "</table>\n",
              "</div>"
            ],
            "text/plain": [
              "                                 App Name  ...      Latest Version\n",
              "23457                         Israel News  ...  Varies with device\n",
              "48438  Mojo Times: Bihar Hindi Video News  ...          4.1 and up\n",
              "\n",
              "[2 rows x 11 columns]"
            ]
          },
          "metadata": {
            "tags": []
          },
          "execution_count": 31
        }
      ]
    },
    {
      "cell_type": "code",
      "metadata": {
        "id": "9j1cjSyCcNoh",
        "colab_type": "code",
        "colab": {}
      },
      "source": [
        "# Here the data are misplaced but valid\n",
        "\n",
        "# I am manually fixing the misplacing data values\n",
        "\n",
        "app.loc[23457, [\"Category\", \"Rating\", \"Reviews\", \"Installs\", \"Size\", \"Price\", \"Content Rating\", \"Last Updated\", \"Minimum Version\", \"Latest Version\"]] = \"NEWS_AND_MAGAZINES\", \"3.857798815\", \"11976\", \"1,000,000+\", \"Varies with device\", \"0\", \"Everyone 10+\", \"March 16, 2019\", \"Varies with device\", \"NaN\" "
      ],
      "execution_count": 32,
      "outputs": []
    },
    {
      "cell_type": "code",
      "metadata": {
        "id": "8w6PDIYucNol",
        "colab_type": "code",
        "colab": {
          "base_uri": "https://localhost:8080/",
          "height": 218
        },
        "outputId": "95cb1fe2-d0bf-4aa7-f9bb-f00014262fc6"
      },
      "source": [
        "app.loc[23457]"
      ],
      "execution_count": 33,
      "outputs": [
        {
          "output_type": "execute_result",
          "data": {
            "text/plain": [
              "App Name                  Israel News\n",
              "Category           NEWS_AND_MAGAZINES\n",
              "Rating                    3.857798815\n",
              "Reviews                         11976\n",
              "Installs                   1,000,000+\n",
              "Size               Varies with device\n",
              "Price                               0\n",
              "Content Rating           Everyone 10+\n",
              "Last Updated           March 16, 2019\n",
              "Minimum Version    Varies with device\n",
              "Latest Version                    NaN\n",
              "Name: 23457, dtype: object"
            ]
          },
          "metadata": {
            "tags": []
          },
          "execution_count": 33
        }
      ]
    },
    {
      "cell_type": "code",
      "metadata": {
        "id": "HT-eKomfcNoq",
        "colab_type": "code",
        "colab": {}
      },
      "source": [
        "app.loc[48438, [\"Category\", \"Rating\", \"Reviews\", \"Installs\", \"Size\", \"Price\", \"Content Rating\", \"Last Updated\", \"Minimum Version\", \"Latest Version\"]] = \"NEWS_AND_MAGAZINES\", \"4.775640965\", \"156\", \"10,000+\", \"6.9M\", \"0\", \"Teen\", \"March 30, 2019\",\"4.1 and up\", \"NaN\" "
      ],
      "execution_count": 34,
      "outputs": []
    },
    {
      "cell_type": "code",
      "metadata": {
        "id": "hNHaWLj_cNov",
        "colab_type": "code",
        "colab": {
          "base_uri": "https://localhost:8080/",
          "height": 218
        },
        "outputId": "5d40194d-b495-493a-877b-84aa9f9533c0"
      },
      "source": [
        "app.loc[48438]"
      ],
      "execution_count": 35,
      "outputs": [
        {
          "output_type": "execute_result",
          "data": {
            "text/plain": [
              "App Name           Mojo Times: Bihar Hindi Video News\n",
              "Category                           NEWS_AND_MAGAZINES\n",
              "Rating                                    4.775640965\n",
              "Reviews                                           156\n",
              "Installs                                      10,000+\n",
              "Size                                             6.9M\n",
              "Price                                               0\n",
              "Content Rating                                   Teen\n",
              "Last Updated                           March 30, 2019\n",
              "Minimum Version                            4.1 and up\n",
              "Latest Version                                    NaN\n",
              "Name: 48438, dtype: object"
            ]
          },
          "metadata": {
            "tags": []
          },
          "execution_count": 35
        }
      ]
    },
    {
      "cell_type": "code",
      "metadata": {
        "id": "YRDP1Hr3cNo5",
        "colab_type": "code",
        "colab": {
          "base_uri": "https://localhost:8080/",
          "height": 77
        },
        "outputId": "b02b37a8-b3fd-49a7-cfea-aaf3c809d5eb"
      },
      "source": [
        "# Here is an example of misplaced data with a lot of mistakes. It does not seem important to be fixed, it will be dropped\n",
        "\n",
        "app[app[\"Rating\"]== \"ENTERTAINMENT\"]"
      ],
      "execution_count": 36,
      "outputs": [
        {
          "output_type": "execute_result",
          "data": {
            "text/html": [
              "<div>\n",
              "<style scoped>\n",
              "    .dataframe tbody tr th:only-of-type {\n",
              "        vertical-align: middle;\n",
              "    }\n",
              "\n",
              "    .dataframe tbody tr th {\n",
              "        vertical-align: top;\n",
              "    }\n",
              "\n",
              "    .dataframe thead th {\n",
              "        text-align: right;\n",
              "    }\n",
              "</style>\n",
              "<table border=\"1\" class=\"dataframe\">\n",
              "  <thead>\n",
              "    <tr style=\"text-align: right;\">\n",
              "      <th></th>\n",
              "      <th>App Name</th>\n",
              "      <th>Category</th>\n",
              "      <th>Rating</th>\n",
              "      <th>Reviews</th>\n",
              "      <th>Installs</th>\n",
              "      <th>Size</th>\n",
              "      <th>Price</th>\n",
              "      <th>Content Rating</th>\n",
              "      <th>Last Updated</th>\n",
              "      <th>Minimum Version</th>\n",
              "      <th>Latest Version</th>\n",
              "    </tr>\n",
              "  </thead>\n",
              "  <tbody>\n",
              "    <tr>\n",
              "      <th>113151</th>\n",
              "      <td>Steins</td>\n",
              "      <td>Gate ALARM</td>\n",
              "      <td>ENTERTAINMENT</td>\n",
              "      <td>4.71687</td>\n",
              "      <td>166</td>\n",
              "      <td>500+</td>\n",
              "      <td>67M</td>\n",
              "      <td>$0.99</td>\n",
              "      <td>Teen</td>\n",
              "      <td>November 12, 2018</td>\n",
              "      <td>4.4 and up</td>\n",
              "    </tr>\n",
              "  </tbody>\n",
              "</table>\n",
              "</div>"
            ],
            "text/plain": [
              "       App Name    Category  ...    Minimum Version Latest Version\n",
              "113151   Steins  Gate ALARM  ...  November 12, 2018     4.4 and up\n",
              "\n",
              "[1 rows x 11 columns]"
            ]
          },
          "metadata": {
            "tags": []
          },
          "execution_count": 36
        }
      ]
    },
    {
      "cell_type": "code",
      "metadata": {
        "id": "fRXyY0fIcNo9",
        "colab_type": "code",
        "colab": {}
      },
      "source": [
        "app.drop(index=113151, inplace=True)  "
      ],
      "execution_count": 37,
      "outputs": []
    },
    {
      "cell_type": "code",
      "metadata": {
        "id": "0ILhP7zfcNpB",
        "colab_type": "code",
        "colab": {
          "base_uri": "https://localhost:8080/",
          "height": 47
        },
        "outputId": "6cbe28ed-5c80-4b97-8166-42fc63d7c8d0"
      },
      "source": [
        "# Ensuring that there are no longer wrong entries in the column \"Rating\"\n",
        "\n",
        "app[app[\"Rating\"]== \"ENTERTAINMENT\"]"
      ],
      "execution_count": 38,
      "outputs": [
        {
          "output_type": "execute_result",
          "data": {
            "text/html": [
              "<div>\n",
              "<style scoped>\n",
              "    .dataframe tbody tr th:only-of-type {\n",
              "        vertical-align: middle;\n",
              "    }\n",
              "\n",
              "    .dataframe tbody tr th {\n",
              "        vertical-align: top;\n",
              "    }\n",
              "\n",
              "    .dataframe thead th {\n",
              "        text-align: right;\n",
              "    }\n",
              "</style>\n",
              "<table border=\"1\" class=\"dataframe\">\n",
              "  <thead>\n",
              "    <tr style=\"text-align: right;\">\n",
              "      <th></th>\n",
              "      <th>App Name</th>\n",
              "      <th>Category</th>\n",
              "      <th>Rating</th>\n",
              "      <th>Reviews</th>\n",
              "      <th>Installs</th>\n",
              "      <th>Size</th>\n",
              "      <th>Price</th>\n",
              "      <th>Content Rating</th>\n",
              "      <th>Last Updated</th>\n",
              "      <th>Minimum Version</th>\n",
              "      <th>Latest Version</th>\n",
              "    </tr>\n",
              "  </thead>\n",
              "  <tbody>\n",
              "  </tbody>\n",
              "</table>\n",
              "</div>"
            ],
            "text/plain": [
              "Empty DataFrame\n",
              "Columns: [App Name, Category, Rating, Reviews, Installs, Size, Price, Content Rating, Last Updated, Minimum Version, Latest Version]\n",
              "Index: []"
            ]
          },
          "metadata": {
            "tags": []
          },
          "execution_count": 38
        }
      ]
    },
    {
      "cell_type": "code",
      "metadata": {
        "id": "j2C77A68cNpO",
        "colab_type": "code",
        "colab": {
          "base_uri": "https://localhost:8080/",
          "height": 136
        },
        "outputId": "1a79e4c3-80ae-42a1-d1f2-d1f1f823940b"
      },
      "source": [
        "app[app[\"Rating\"]== \"EDUCATION\"]"
      ],
      "execution_count": 39,
      "outputs": [
        {
          "output_type": "execute_result",
          "data": {
            "text/html": [
              "<div>\n",
              "<style scoped>\n",
              "    .dataframe tbody tr th:only-of-type {\n",
              "        vertical-align: middle;\n",
              "    }\n",
              "\n",
              "    .dataframe tbody tr th {\n",
              "        vertical-align: top;\n",
              "    }\n",
              "\n",
              "    .dataframe thead th {\n",
              "        text-align: right;\n",
              "    }\n",
              "</style>\n",
              "<table border=\"1\" class=\"dataframe\">\n",
              "  <thead>\n",
              "    <tr style=\"text-align: right;\">\n",
              "      <th></th>\n",
              "      <th>App Name</th>\n",
              "      <th>Category</th>\n",
              "      <th>Rating</th>\n",
              "      <th>Reviews</th>\n",
              "      <th>Installs</th>\n",
              "      <th>Size</th>\n",
              "      <th>Price</th>\n",
              "      <th>Content Rating</th>\n",
              "      <th>Last Updated</th>\n",
              "      <th>Minimum Version</th>\n",
              "      <th>Latest Version</th>\n",
              "    </tr>\n",
              "  </thead>\n",
              "  <tbody>\n",
              "    <tr>\n",
              "      <th>125479</th>\n",
              "      <td>2-6 Ya? E?itici �ocuk Zeka Oyunlar?</td>\n",
              "      <td>Alfabe �?ren</td>\n",
              "      <td>EDUCATION</td>\n",
              "      <td>5</td>\n",
              "      <td>1</td>\n",
              "      <td>10+</td>\n",
              "      <td>57M</td>\n",
              "      <td>$2.49</td>\n",
              "      <td>Everyone</td>\n",
              "      <td>October 31, 2017</td>\n",
              "      <td>2.3 and up</td>\n",
              "    </tr>\n",
              "    <tr>\n",
              "      <th>125480</th>\n",
              "      <td>2-6 Ya? E?itici �ocuk Zeka Oyunlar?</td>\n",
              "      <td>T�rk Alfabesi</td>\n",
              "      <td>EDUCATION</td>\n",
              "      <td>4.33333</td>\n",
              "      <td>54</td>\n",
              "      <td>50,000+</td>\n",
              "      <td>43M</td>\n",
              "      <td>0</td>\n",
              "      <td>Everyone</td>\n",
              "      <td>October 31, 2017</td>\n",
              "      <td>2.3 and up</td>\n",
              "    </tr>\n",
              "    <tr>\n",
              "      <th>180371</th>\n",
              "      <td>eShagird - Online academy</td>\n",
              "      <td>ETEA &amp; MDCAT</td>\n",
              "      <td>EDUCATION</td>\n",
              "      <td>4.50427</td>\n",
              "      <td>117</td>\n",
              "      <td>10,000+</td>\n",
              "      <td>6.9M</td>\n",
              "      <td>0</td>\n",
              "      <td>Everyone</td>\n",
              "      <td>March 2, 2019</td>\n",
              "      <td>4.0 and up</td>\n",
              "    </tr>\n",
              "  </tbody>\n",
              "</table>\n",
              "</div>"
            ],
            "text/plain": [
              "                                   App Name  ... Latest Version\n",
              "125479  2-6 Ya? E?itici �ocuk Zeka Oyunlar?  ...     2.3 and up\n",
              "125480  2-6 Ya? E?itici �ocuk Zeka Oyunlar?  ...     2.3 and up\n",
              "180371            eShagird - Online academy  ...     4.0 and up\n",
              "\n",
              "[3 rows x 11 columns]"
            ]
          },
          "metadata": {
            "tags": []
          },
          "execution_count": 39
        }
      ]
    },
    {
      "cell_type": "code",
      "metadata": {
        "id": "W0De3fNFcNpS",
        "colab_type": "code",
        "colab": {
          "base_uri": "https://localhost:8080/",
          "height": 47
        },
        "outputId": "c574a33c-323a-4a7e-c477-e5c213d772fd"
      },
      "source": [
        "# Dropping these data entries which do not seem important and they have a lot of mistakes\n",
        "\n",
        "app.drop(index=125479, inplace=True)  \n",
        "app.drop(index=125480, inplace=True)  \n",
        "app.drop(index=180371, inplace=True) \n",
        "app[app[\"Rating\"]== \"EDUCATION\"]"
      ],
      "execution_count": 40,
      "outputs": [
        {
          "output_type": "execute_result",
          "data": {
            "text/html": [
              "<div>\n",
              "<style scoped>\n",
              "    .dataframe tbody tr th:only-of-type {\n",
              "        vertical-align: middle;\n",
              "    }\n",
              "\n",
              "    .dataframe tbody tr th {\n",
              "        vertical-align: top;\n",
              "    }\n",
              "\n",
              "    .dataframe thead th {\n",
              "        text-align: right;\n",
              "    }\n",
              "</style>\n",
              "<table border=\"1\" class=\"dataframe\">\n",
              "  <thead>\n",
              "    <tr style=\"text-align: right;\">\n",
              "      <th></th>\n",
              "      <th>App Name</th>\n",
              "      <th>Category</th>\n",
              "      <th>Rating</th>\n",
              "      <th>Reviews</th>\n",
              "      <th>Installs</th>\n",
              "      <th>Size</th>\n",
              "      <th>Price</th>\n",
              "      <th>Content Rating</th>\n",
              "      <th>Last Updated</th>\n",
              "      <th>Minimum Version</th>\n",
              "      <th>Latest Version</th>\n",
              "    </tr>\n",
              "  </thead>\n",
              "  <tbody>\n",
              "  </tbody>\n",
              "</table>\n",
              "</div>"
            ],
            "text/plain": [
              "Empty DataFrame\n",
              "Columns: [App Name, Category, Rating, Reviews, Installs, Size, Price, Content Rating, Last Updated, Minimum Version, Latest Version]\n",
              "Index: []"
            ]
          },
          "metadata": {
            "tags": []
          },
          "execution_count": 40
        }
      ]
    },
    {
      "cell_type": "code",
      "metadata": {
        "id": "t7KQjhf1cNpe",
        "colab_type": "code",
        "colab": {
          "base_uri": "https://localhost:8080/",
          "height": 77
        },
        "outputId": "3b468d53-256a-42cc-d4f8-8784cb7acc1b"
      },
      "source": [
        "# In this line respecting the column \"Rating\" there are misplaced but valid data\n",
        "\n",
        "# Data will be fixed manually, putting them in the correct position\n",
        "\n",
        "app[app[\"Rating\"]== \"SOCIAL\"]"
      ],
      "execution_count": 41,
      "outputs": [
        {
          "output_type": "execute_result",
          "data": {
            "text/html": [
              "<div>\n",
              "<style scoped>\n",
              "    .dataframe tbody tr th:only-of-type {\n",
              "        vertical-align: middle;\n",
              "    }\n",
              "\n",
              "    .dataframe tbody tr th {\n",
              "        vertical-align: top;\n",
              "    }\n",
              "\n",
              "    .dataframe thead th {\n",
              "        text-align: right;\n",
              "    }\n",
              "</style>\n",
              "<table border=\"1\" class=\"dataframe\">\n",
              "  <thead>\n",
              "    <tr style=\"text-align: right;\">\n",
              "      <th></th>\n",
              "      <th>App Name</th>\n",
              "      <th>Category</th>\n",
              "      <th>Rating</th>\n",
              "      <th>Reviews</th>\n",
              "      <th>Installs</th>\n",
              "      <th>Size</th>\n",
              "      <th>Price</th>\n",
              "      <th>Content Rating</th>\n",
              "      <th>Last Updated</th>\n",
              "      <th>Minimum Version</th>\n",
              "      <th>Latest Version</th>\n",
              "    </tr>\n",
              "  </thead>\n",
              "  <tbody>\n",
              "    <tr>\n",
              "      <th>165230</th>\n",
              "      <td>Shytter -Twitter client</td>\n",
              "      <td>not notified you follow -</td>\n",
              "      <td>SOCIAL</td>\n",
              "      <td>4.09859</td>\n",
              "      <td>71</td>\n",
              "      <td>5,000+</td>\n",
              "      <td>7.7M</td>\n",
              "      <td>0</td>\n",
              "      <td>Everyone</td>\n",
              "      <td>March 30, 2019</td>\n",
              "      <td>4.1 and up</td>\n",
              "    </tr>\n",
              "  </tbody>\n",
              "</table>\n",
              "</div>"
            ],
            "text/plain": [
              "                       App Name  ... Latest Version\n",
              "165230  Shytter -Twitter client  ...     4.1 and up\n",
              "\n",
              "[1 rows x 11 columns]"
            ]
          },
          "metadata": {
            "tags": []
          },
          "execution_count": 41
        }
      ]
    },
    {
      "cell_type": "code",
      "metadata": {
        "id": "RYS3TzXfcNpj",
        "colab_type": "code",
        "colab": {}
      },
      "source": [
        "# Fixing the data entry positions manually\n",
        "\n",
        "app.loc[165230, [\"Category\", \"Rating\", \"Reviews\", \"Installs\", \"Size\", \"Price\", \"Content Rating\", \"Last Updated\", \"Minimum Version\", \"Latest Version\"]] = \"SOCIAL\", \"4.098591328\", \"71\", \"5,000+\", \"7.7M\", \"0\", \"Everyone\", \"March 30, 2019\",\"4.1 and up\", \"NaN\" "
      ],
      "execution_count": 42,
      "outputs": []
    },
    {
      "cell_type": "code",
      "metadata": {
        "id": "Hj269oKvcNpo",
        "colab_type": "code",
        "colab": {
          "base_uri": "https://localhost:8080/",
          "height": 47
        },
        "outputId": "f414a0dd-2c73-4bfa-ad75-2884ef5cb86b"
      },
      "source": [
        "app[app[\"Rating\"]== \"SOCIAL\"]"
      ],
      "execution_count": 43,
      "outputs": [
        {
          "output_type": "execute_result",
          "data": {
            "text/html": [
              "<div>\n",
              "<style scoped>\n",
              "    .dataframe tbody tr th:only-of-type {\n",
              "        vertical-align: middle;\n",
              "    }\n",
              "\n",
              "    .dataframe tbody tr th {\n",
              "        vertical-align: top;\n",
              "    }\n",
              "\n",
              "    .dataframe thead th {\n",
              "        text-align: right;\n",
              "    }\n",
              "</style>\n",
              "<table border=\"1\" class=\"dataframe\">\n",
              "  <thead>\n",
              "    <tr style=\"text-align: right;\">\n",
              "      <th></th>\n",
              "      <th>App Name</th>\n",
              "      <th>Category</th>\n",
              "      <th>Rating</th>\n",
              "      <th>Reviews</th>\n",
              "      <th>Installs</th>\n",
              "      <th>Size</th>\n",
              "      <th>Price</th>\n",
              "      <th>Content Rating</th>\n",
              "      <th>Last Updated</th>\n",
              "      <th>Minimum Version</th>\n",
              "      <th>Latest Version</th>\n",
              "    </tr>\n",
              "  </thead>\n",
              "  <tbody>\n",
              "  </tbody>\n",
              "</table>\n",
              "</div>"
            ],
            "text/plain": [
              "Empty DataFrame\n",
              "Columns: [App Name, Category, Rating, Reviews, Installs, Size, Price, Content Rating, Last Updated, Minimum Version, Latest Version]\n",
              "Index: []"
            ]
          },
          "metadata": {
            "tags": []
          },
          "execution_count": 43
        }
      ]
    },
    {
      "cell_type": "code",
      "metadata": {
        "id": "S2M9QVCbcNpx",
        "colab_type": "code",
        "colab": {
          "base_uri": "https://localhost:8080/",
          "height": 77
        },
        "outputId": "de74e54a-01c9-476e-d195-ec4925fafc7b"
      },
      "source": [
        "app[app[\"Rating\"]== \"PRODUCTIVITY\"]"
      ],
      "execution_count": 44,
      "outputs": [
        {
          "output_type": "execute_result",
          "data": {
            "text/html": [
              "<div>\n",
              "<style scoped>\n",
              "    .dataframe tbody tr th:only-of-type {\n",
              "        vertical-align: middle;\n",
              "    }\n",
              "\n",
              "    .dataframe tbody tr th {\n",
              "        vertical-align: top;\n",
              "    }\n",
              "\n",
              "    .dataframe thead th {\n",
              "        text-align: right;\n",
              "    }\n",
              "</style>\n",
              "<table border=\"1\" class=\"dataframe\">\n",
              "  <thead>\n",
              "    <tr style=\"text-align: right;\">\n",
              "      <th></th>\n",
              "      <th>App Name</th>\n",
              "      <th>Category</th>\n",
              "      <th>Rating</th>\n",
              "      <th>Reviews</th>\n",
              "      <th>Installs</th>\n",
              "      <th>Size</th>\n",
              "      <th>Price</th>\n",
              "      <th>Content Rating</th>\n",
              "      <th>Last Updated</th>\n",
              "      <th>Minimum Version</th>\n",
              "      <th>Latest Version</th>\n",
              "    </tr>\n",
              "  </thead>\n",
              "  <tbody>\n",
              "    <tr>\n",
              "      <th>168914</th>\n",
              "      <td>CorreosTrack 2.0 (Correos de M�xico</td>\n",
              "      <td>Mexpost)</td>\n",
              "      <td>PRODUCTIVITY</td>\n",
              "      <td>4.38983</td>\n",
              "      <td>59</td>\n",
              "      <td>10,000+</td>\n",
              "      <td>16M</td>\n",
              "      <td>0</td>\n",
              "      <td>Everyone</td>\n",
              "      <td>December 21, 2018</td>\n",
              "      <td>4.1 and up</td>\n",
              "    </tr>\n",
              "  </tbody>\n",
              "</table>\n",
              "</div>"
            ],
            "text/plain": [
              "                                   App Name  ... Latest Version\n",
              "168914  CorreosTrack 2.0 (Correos de M�xico  ...     4.1 and up\n",
              "\n",
              "[1 rows x 11 columns]"
            ]
          },
          "metadata": {
            "tags": []
          },
          "execution_count": 44
        }
      ]
    },
    {
      "cell_type": "code",
      "metadata": {
        "id": "0HY8VF_0cNp0",
        "colab_type": "code",
        "colab": {
          "base_uri": "https://localhost:8080/",
          "height": 47
        },
        "outputId": "217697d9-06f1-4a4f-d264-b91e98308627"
      },
      "source": [
        "# Fixing the data entry positions manually for the index position 168914\n",
        "\n",
        "app.loc[168914, [\"Category\", \"Rating\", \"Reviews\", \"Installs\", \"Size\", \"Price\", \"Content Rating\", \"Last Updated\", \"Minimum Version\", \"Latest Version\"]] = \"PRODUCTIVITY\", \"4.389830589\", \"59\", \"10,000+\", \"16M\", \"0\", \"Everyone\", \"December 21, 2018\",\"4.1 and up\", \"NaN\"\n",
        "app[app[\"Rating\"]== \"PRODUCTIVITY\"] # Ensuring that column \"Rating\" is fixed from this kind of data entry"
      ],
      "execution_count": 45,
      "outputs": [
        {
          "output_type": "execute_result",
          "data": {
            "text/html": [
              "<div>\n",
              "<style scoped>\n",
              "    .dataframe tbody tr th:only-of-type {\n",
              "        vertical-align: middle;\n",
              "    }\n",
              "\n",
              "    .dataframe tbody tr th {\n",
              "        vertical-align: top;\n",
              "    }\n",
              "\n",
              "    .dataframe thead th {\n",
              "        text-align: right;\n",
              "    }\n",
              "</style>\n",
              "<table border=\"1\" class=\"dataframe\">\n",
              "  <thead>\n",
              "    <tr style=\"text-align: right;\">\n",
              "      <th></th>\n",
              "      <th>App Name</th>\n",
              "      <th>Category</th>\n",
              "      <th>Rating</th>\n",
              "      <th>Reviews</th>\n",
              "      <th>Installs</th>\n",
              "      <th>Size</th>\n",
              "      <th>Price</th>\n",
              "      <th>Content Rating</th>\n",
              "      <th>Last Updated</th>\n",
              "      <th>Minimum Version</th>\n",
              "      <th>Latest Version</th>\n",
              "    </tr>\n",
              "  </thead>\n",
              "  <tbody>\n",
              "  </tbody>\n",
              "</table>\n",
              "</div>"
            ],
            "text/plain": [
              "Empty DataFrame\n",
              "Columns: [App Name, Category, Rating, Reviews, Installs, Size, Price, Content Rating, Last Updated, Minimum Version, Latest Version]\n",
              "Index: []"
            ]
          },
          "metadata": {
            "tags": []
          },
          "execution_count": 45
        }
      ]
    },
    {
      "cell_type": "code",
      "metadata": {
        "id": "u_oyrSP4cNqG",
        "colab_type": "code",
        "colab": {
          "base_uri": "https://localhost:8080/",
          "height": 186
        },
        "outputId": "5312956a-888d-41ad-aee4-81b8e4b3533d"
      },
      "source": [
        "app[app[\"Rating\"]== \"MUSIC_AND_AUDIO\"]"
      ],
      "execution_count": 46,
      "outputs": [
        {
          "output_type": "execute_result",
          "data": {
            "text/html": [
              "<div>\n",
              "<style scoped>\n",
              "    .dataframe tbody tr th:only-of-type {\n",
              "        vertical-align: middle;\n",
              "    }\n",
              "\n",
              "    .dataframe tbody tr th {\n",
              "        vertical-align: top;\n",
              "    }\n",
              "\n",
              "    .dataframe thead th {\n",
              "        text-align: right;\n",
              "    }\n",
              "</style>\n",
              "<table border=\"1\" class=\"dataframe\">\n",
              "  <thead>\n",
              "    <tr style=\"text-align: right;\">\n",
              "      <th></th>\n",
              "      <th>App Name</th>\n",
              "      <th>Category</th>\n",
              "      <th>Rating</th>\n",
              "      <th>Reviews</th>\n",
              "      <th>Installs</th>\n",
              "      <th>Size</th>\n",
              "      <th>Price</th>\n",
              "      <th>Content Rating</th>\n",
              "      <th>Last Updated</th>\n",
              "      <th>Minimum Version</th>\n",
              "      <th>Latest Version</th>\n",
              "    </tr>\n",
              "  </thead>\n",
              "  <tbody>\n",
              "    <tr>\n",
              "      <th>177165</th>\n",
              "      <td>Music Love Song</td>\n",
              "      <td>Romantic Song Music Love Songs</td>\n",
              "      <td>MUSIC_AND_AUDIO</td>\n",
              "      <td>4.53846</td>\n",
              "      <td>13</td>\n",
              "      <td>1,000+</td>\n",
              "      <td>Varies with device</td>\n",
              "      <td>0</td>\n",
              "      <td>Teen</td>\n",
              "      <td>October 24, 2018</td>\n",
              "      <td>Varies with device</td>\n",
              "    </tr>\n",
              "    <tr>\n",
              "      <th>193869</th>\n",
              "      <td>Equalizer &amp; Volume Booster</td>\n",
              "      <td>Speaker Pro 2019</td>\n",
              "      <td>MUSIC_AND_AUDIO</td>\n",
              "      <td>4.63209</td>\n",
              "      <td>511</td>\n",
              "      <td>10,000+</td>\n",
              "      <td>2.5M</td>\n",
              "      <td>0</td>\n",
              "      <td>Everyone</td>\n",
              "      <td>September 25, 2018</td>\n",
              "      <td>2.3 and up</td>\n",
              "    </tr>\n",
              "    <tr>\n",
              "      <th>257773</th>\n",
              "      <td>High Volume Booster</td>\n",
              "      <td>super loud speaker booster</td>\n",
              "      <td>MUSIC_AND_AUDIO</td>\n",
              "      <td>4.400000095</td>\n",
              "      <td>10</td>\n",
              "      <td>1,000+</td>\n",
              "      <td>3.5M</td>\n",
              "      <td>0</td>\n",
              "      <td>Everyone</td>\n",
              "      <td>November 7, 2018</td>\n",
              "      <td>4.0 and up</td>\n",
              "    </tr>\n",
              "  </tbody>\n",
              "</table>\n",
              "</div>"
            ],
            "text/plain": [
              "                           App Name  ...      Latest Version\n",
              "177165              Music Love Song  ...  Varies with device\n",
              "193869  Equalizer & Volume Booster   ...          2.3 and up\n",
              "257773         High Volume Booster   ...          4.0 and up\n",
              "\n",
              "[3 rows x 11 columns]"
            ]
          },
          "metadata": {
            "tags": []
          },
          "execution_count": 46
        }
      ]
    },
    {
      "cell_type": "code",
      "metadata": {
        "id": "T-ATjiURcNqJ",
        "colab_type": "code",
        "colab": {
          "base_uri": "https://localhost:8080/",
          "height": 47
        },
        "outputId": "a8def986-372b-4093-da7e-df3eaea87076"
      },
      "source": [
        "# Same logic here. Misplaced but valid data. They will be edited manually\n",
        "\n",
        "app.loc[177165, [\"Category\", \"Rating\", \"Reviews\", \"Installs\", \"Size\", \"Price\", \"Content Rating\", \"Last Updated\", \"Minimum Version\", \"Latest Version\"]] = \"MUSIC_AND_AUDIO\", \"4.538461685\", \"13\", \"1,000+\", \"Varies with device\", \"0\", \"Teen\", \"October 24, 2018\",\"Varies with device\", \"NaN\"\n",
        "app.loc[193869, [\"Category\", \"Rating\", \"Reviews\", \"Installs\", \"Size\", \"Price\", \"Content Rating\", \"Last Updated\", \"Minimum Version\", \"Latest Version\"]] = \"MUSIC_AND_AUDIO\", \"4.632093906\", \"511\", \"10,000+\", \"2.5M\", \"0\", \"Everyone\", \"September 25, 2018\",\"2.3 and up\", \"NaN\"\n",
        "app.loc[257773, [\"Category\", \"Rating\", \"Reviews\", \"Installs\", \"Size\", \"Price\", \"Content Rating\", \"Last Updated\", \"Minimum Version\", \"Latest Version\"]] = \"MUSIC_AND_AUDIO\", \"4.400000095\", \"10\", \"1,000+\", \"3.5M\", \"0\", \"Everyone\", \"November 7, 2018\",\"4.0 and up\", \"NaN\"\n",
        "app[app[\"Rating\"]== \"PRODUCTIVITY\"]"
      ],
      "execution_count": 47,
      "outputs": [
        {
          "output_type": "execute_result",
          "data": {
            "text/html": [
              "<div>\n",
              "<style scoped>\n",
              "    .dataframe tbody tr th:only-of-type {\n",
              "        vertical-align: middle;\n",
              "    }\n",
              "\n",
              "    .dataframe tbody tr th {\n",
              "        vertical-align: top;\n",
              "    }\n",
              "\n",
              "    .dataframe thead th {\n",
              "        text-align: right;\n",
              "    }\n",
              "</style>\n",
              "<table border=\"1\" class=\"dataframe\">\n",
              "  <thead>\n",
              "    <tr style=\"text-align: right;\">\n",
              "      <th></th>\n",
              "      <th>App Name</th>\n",
              "      <th>Category</th>\n",
              "      <th>Rating</th>\n",
              "      <th>Reviews</th>\n",
              "      <th>Installs</th>\n",
              "      <th>Size</th>\n",
              "      <th>Price</th>\n",
              "      <th>Content Rating</th>\n",
              "      <th>Last Updated</th>\n",
              "      <th>Minimum Version</th>\n",
              "      <th>Latest Version</th>\n",
              "    </tr>\n",
              "  </thead>\n",
              "  <tbody>\n",
              "  </tbody>\n",
              "</table>\n",
              "</div>"
            ],
            "text/plain": [
              "Empty DataFrame\n",
              "Columns: [App Name, Category, Rating, Reviews, Installs, Size, Price, Content Rating, Last Updated, Minimum Version, Latest Version]\n",
              "Index: []"
            ]
          },
          "metadata": {
            "tags": []
          },
          "execution_count": 47
        }
      ]
    },
    {
      "cell_type": "code",
      "metadata": {
        "id": "8MmKdnf-cNqR",
        "colab_type": "code",
        "colab": {
          "base_uri": "https://localhost:8080/",
          "height": 77
        },
        "outputId": "9a6b39c8-51c1-44a6-e753-b4fc316177d7"
      },
      "source": [
        "app[app[\"Rating\"]== \"TRAVEL_AND_LOCAL\"]"
      ],
      "execution_count": 48,
      "outputs": [
        {
          "output_type": "execute_result",
          "data": {
            "text/html": [
              "<div>\n",
              "<style scoped>\n",
              "    .dataframe tbody tr th:only-of-type {\n",
              "        vertical-align: middle;\n",
              "    }\n",
              "\n",
              "    .dataframe tbody tr th {\n",
              "        vertical-align: top;\n",
              "    }\n",
              "\n",
              "    .dataframe thead th {\n",
              "        text-align: right;\n",
              "    }\n",
              "</style>\n",
              "<table border=\"1\" class=\"dataframe\">\n",
              "  <thead>\n",
              "    <tr style=\"text-align: right;\">\n",
              "      <th></th>\n",
              "      <th>App Name</th>\n",
              "      <th>Category</th>\n",
              "      <th>Rating</th>\n",
              "      <th>Reviews</th>\n",
              "      <th>Installs</th>\n",
              "      <th>Size</th>\n",
              "      <th>Price</th>\n",
              "      <th>Content Rating</th>\n",
              "      <th>Last Updated</th>\n",
              "      <th>Minimum Version</th>\n",
              "      <th>Latest Version</th>\n",
              "    </tr>\n",
              "  </thead>\n",
              "  <tbody>\n",
              "    <tr>\n",
              "      <th>190759</th>\n",
              "      <td>Friend in Iceland</td>\n",
              "      <td>Tour Guide</td>\n",
              "      <td>TRAVEL_AND_LOCAL</td>\n",
              "      <td>5</td>\n",
              "      <td>6</td>\n",
              "      <td>1,000+</td>\n",
              "      <td>27M</td>\n",
              "      <td>0</td>\n",
              "      <td>Everyone</td>\n",
              "      <td>October 16, 2017</td>\n",
              "      <td>4.0 and up</td>\n",
              "    </tr>\n",
              "  </tbody>\n",
              "</table>\n",
              "</div>"
            ],
            "text/plain": [
              "                 App Name     Category  ...   Minimum Version Latest Version\n",
              "190759  Friend in Iceland   Tour Guide  ...  October 16, 2017     4.0 and up\n",
              "\n",
              "[1 rows x 11 columns]"
            ]
          },
          "metadata": {
            "tags": []
          },
          "execution_count": 48
        }
      ]
    },
    {
      "cell_type": "code",
      "metadata": {
        "id": "HZKoJYzjcNqV",
        "colab_type": "code",
        "colab": {
          "base_uri": "https://localhost:8080/",
          "height": 47
        },
        "outputId": "406bbceb-137a-4d80-e5fd-131b224d8efa"
      },
      "source": [
        "# Fixing the entries in index position 190759 manually (misplaced but substantial values)\n",
        "\n",
        "app.loc[190759, [\"Category\", \"Rating\", \"Reviews\", \"Installs\", \"Size\", \"Price\", \"Content Rating\", \"Last Updated\", \"Minimum Version\", \"Latest Version\"]] = \"TRAVEL_AND_LOCAL\", \"5\", \"6\", \"1,000+\", \"27M\", \"0\", \"Everyone\", \"October 16, 2017\", \"4.0 and up\", \"NaN\"\n",
        "\n",
        "app[app[\"Rating\"]== \"TRAVEL_AND_LOCAL\"]"
      ],
      "execution_count": 49,
      "outputs": [
        {
          "output_type": "execute_result",
          "data": {
            "text/html": [
              "<div>\n",
              "<style scoped>\n",
              "    .dataframe tbody tr th:only-of-type {\n",
              "        vertical-align: middle;\n",
              "    }\n",
              "\n",
              "    .dataframe tbody tr th {\n",
              "        vertical-align: top;\n",
              "    }\n",
              "\n",
              "    .dataframe thead th {\n",
              "        text-align: right;\n",
              "    }\n",
              "</style>\n",
              "<table border=\"1\" class=\"dataframe\">\n",
              "  <thead>\n",
              "    <tr style=\"text-align: right;\">\n",
              "      <th></th>\n",
              "      <th>App Name</th>\n",
              "      <th>Category</th>\n",
              "      <th>Rating</th>\n",
              "      <th>Reviews</th>\n",
              "      <th>Installs</th>\n",
              "      <th>Size</th>\n",
              "      <th>Price</th>\n",
              "      <th>Content Rating</th>\n",
              "      <th>Last Updated</th>\n",
              "      <th>Minimum Version</th>\n",
              "      <th>Latest Version</th>\n",
              "    </tr>\n",
              "  </thead>\n",
              "  <tbody>\n",
              "  </tbody>\n",
              "</table>\n",
              "</div>"
            ],
            "text/plain": [
              "Empty DataFrame\n",
              "Columns: [App Name, Category, Rating, Reviews, Installs, Size, Price, Content Rating, Last Updated, Minimum Version, Latest Version]\n",
              "Index: []"
            ]
          },
          "metadata": {
            "tags": []
          },
          "execution_count": 49
        }
      ]
    },
    {
      "cell_type": "code",
      "metadata": {
        "id": "77u6B-s5cNqf",
        "colab_type": "code",
        "colab": {
          "base_uri": "https://localhost:8080/",
          "height": 77
        },
        "outputId": "4fb64c5a-4282-402a-93ee-e40020b0748b"
      },
      "source": [
        "app[app[\"Rating\"]== \"LIFESTYLE\"]"
      ],
      "execution_count": 50,
      "outputs": [
        {
          "output_type": "execute_result",
          "data": {
            "text/html": [
              "<div>\n",
              "<style scoped>\n",
              "    .dataframe tbody tr th:only-of-type {\n",
              "        vertical-align: middle;\n",
              "    }\n",
              "\n",
              "    .dataframe tbody tr th {\n",
              "        vertical-align: top;\n",
              "    }\n",
              "\n",
              "    .dataframe thead th {\n",
              "        text-align: right;\n",
              "    }\n",
              "</style>\n",
              "<table border=\"1\" class=\"dataframe\">\n",
              "  <thead>\n",
              "    <tr style=\"text-align: right;\">\n",
              "      <th></th>\n",
              "      <th>App Name</th>\n",
              "      <th>Category</th>\n",
              "      <th>Rating</th>\n",
              "      <th>Reviews</th>\n",
              "      <th>Installs</th>\n",
              "      <th>Size</th>\n",
              "      <th>Price</th>\n",
              "      <th>Content Rating</th>\n",
              "      <th>Last Updated</th>\n",
              "      <th>Minimum Version</th>\n",
              "      <th>Latest Version</th>\n",
              "    </tr>\n",
              "  </thead>\n",
              "  <tbody>\n",
              "    <tr>\n",
              "      <th>194165</th>\n",
              "      <td>Muslim Baby Names</td>\n",
              "      <td>Islamic Name Boy &amp; Girl+Meaning</td>\n",
              "      <td>LIFESTYLE</td>\n",
              "      <td>4.38835</td>\n",
              "      <td>927</td>\n",
              "      <td>100,000+</td>\n",
              "      <td>3.7M</td>\n",
              "      <td>0</td>\n",
              "      <td>Everyone</td>\n",
              "      <td>May 23, 2018</td>\n",
              "      <td>4.0 and up</td>\n",
              "    </tr>\n",
              "  </tbody>\n",
              "</table>\n",
              "</div>"
            ],
            "text/plain": [
              "                 App Name  ... Latest Version\n",
              "194165  Muslim Baby Names  ...     4.0 and up\n",
              "\n",
              "[1 rows x 11 columns]"
            ]
          },
          "metadata": {
            "tags": []
          },
          "execution_count": 50
        }
      ]
    },
    {
      "cell_type": "code",
      "metadata": {
        "id": "q1esWb7VcNqj",
        "colab_type": "code",
        "colab": {
          "base_uri": "https://localhost:8080/",
          "height": 47
        },
        "outputId": "f4377563-b3de-409b-fa5f-1e6c4e418356"
      },
      "source": [
        "# same logic as previously\n",
        "\n",
        "app.loc[194165, [\"Category\", \"Rating\", \"Reviews\", \"Installs\", \"Size\", \"Price\", \"Content Rating\", \"Last Updated\", \"Minimum Version\", \"Latest Version\"]] = \"LIFESTYLE\", \"4.388349533\", \"927\", \"100,000+\", \"3.7M\", \"0\", \"Everyone\", \"May 23, 2018\", \"4.0 and up\", \"NaN\"\n",
        "app[app[\"Rating\"]== \"LIFESTYLE\"]"
      ],
      "execution_count": 51,
      "outputs": [
        {
          "output_type": "execute_result",
          "data": {
            "text/html": [
              "<div>\n",
              "<style scoped>\n",
              "    .dataframe tbody tr th:only-of-type {\n",
              "        vertical-align: middle;\n",
              "    }\n",
              "\n",
              "    .dataframe tbody tr th {\n",
              "        vertical-align: top;\n",
              "    }\n",
              "\n",
              "    .dataframe thead th {\n",
              "        text-align: right;\n",
              "    }\n",
              "</style>\n",
              "<table border=\"1\" class=\"dataframe\">\n",
              "  <thead>\n",
              "    <tr style=\"text-align: right;\">\n",
              "      <th></th>\n",
              "      <th>App Name</th>\n",
              "      <th>Category</th>\n",
              "      <th>Rating</th>\n",
              "      <th>Reviews</th>\n",
              "      <th>Installs</th>\n",
              "      <th>Size</th>\n",
              "      <th>Price</th>\n",
              "      <th>Content Rating</th>\n",
              "      <th>Last Updated</th>\n",
              "      <th>Minimum Version</th>\n",
              "      <th>Latest Version</th>\n",
              "    </tr>\n",
              "  </thead>\n",
              "  <tbody>\n",
              "  </tbody>\n",
              "</table>\n",
              "</div>"
            ],
            "text/plain": [
              "Empty DataFrame\n",
              "Columns: [App Name, Category, Rating, Reviews, Installs, Size, Price, Content Rating, Last Updated, Minimum Version, Latest Version]\n",
              "Index: []"
            ]
          },
          "metadata": {
            "tags": []
          },
          "execution_count": 51
        }
      ]
    },
    {
      "cell_type": "code",
      "metadata": {
        "id": "_TlOxf0PcNqs",
        "colab_type": "code",
        "colab": {
          "base_uri": "https://localhost:8080/",
          "height": 77
        },
        "outputId": "f780dabd-b2f7-43e7-b3eb-e6994c7a7a1d"
      },
      "source": [
        "app[app[\"Rating\"]== \" Economics\"]"
      ],
      "execution_count": 52,
      "outputs": [
        {
          "output_type": "execute_result",
          "data": {
            "text/html": [
              "<div>\n",
              "<style scoped>\n",
              "    .dataframe tbody tr th:only-of-type {\n",
              "        vertical-align: middle;\n",
              "    }\n",
              "\n",
              "    .dataframe tbody tr th {\n",
              "        vertical-align: top;\n",
              "    }\n",
              "\n",
              "    .dataframe thead th {\n",
              "        text-align: right;\n",
              "    }\n",
              "</style>\n",
              "<table border=\"1\" class=\"dataframe\">\n",
              "  <thead>\n",
              "    <tr style=\"text-align: right;\">\n",
              "      <th></th>\n",
              "      <th>App Name</th>\n",
              "      <th>Category</th>\n",
              "      <th>Rating</th>\n",
              "      <th>Reviews</th>\n",
              "      <th>Installs</th>\n",
              "      <th>Size</th>\n",
              "      <th>Price</th>\n",
              "      <th>Content Rating</th>\n",
              "      <th>Last Updated</th>\n",
              "      <th>Minimum Version</th>\n",
              "      <th>Latest Version</th>\n",
              "    </tr>\n",
              "  </thead>\n",
              "  <tbody>\n",
              "    <tr>\n",
              "      <th>232811</th>\n",
              "      <td>Learn Accounts - Finance</td>\n",
              "      <td>Accounting</td>\n",
              "      <td>Economics</td>\n",
              "      <td>BOOKS_AND_REFERENCE</td>\n",
              "      <td>4.823529243</td>\n",
              "      <td>17</td>\n",
              "      <td>1,000+</td>\n",
              "      <td>17M</td>\n",
              "      <td>0</td>\n",
              "      <td>Everyone</td>\n",
              "      <td>October 22, 2018</td>\n",
              "    </tr>\n",
              "  </tbody>\n",
              "</table>\n",
              "</div>"
            ],
            "text/plain": [
              "                        App Name     Category  ... Minimum Version    Latest Version\n",
              "232811  Learn Accounts - Finance   Accounting  ...        Everyone  October 22, 2018\n",
              "\n",
              "[1 rows x 11 columns]"
            ]
          },
          "metadata": {
            "tags": []
          },
          "execution_count": 52
        }
      ]
    },
    {
      "cell_type": "code",
      "metadata": {
        "id": "qeYiFn50cNqu",
        "colab_type": "code",
        "colab": {
          "base_uri": "https://localhost:8080/",
          "height": 47
        },
        "outputId": "4451ced7-1315-4988-9026-d57545b31447"
      },
      "source": [
        "# Applying the same logic. Correting the misplaced (but valid) data\n",
        "\n",
        "app.loc[232811, [\"Category\", \"Rating\", \"Reviews\", \"Installs\", \"Size\", \"Price\", \"Content Rating\", \"Last Updated\", \"Minimum Version\", \"Latest Version\"]] = \" Economics\", \"4.823529243\", \"17\", \"1,000+\", \"17M\", \"0\", \"Everyone\", \"October 22, 2018\", \"NaN\", \"NaN\"\n",
        "app[app[\"Rating\"]== \" Economics\"]"
      ],
      "execution_count": 53,
      "outputs": [
        {
          "output_type": "execute_result",
          "data": {
            "text/html": [
              "<div>\n",
              "<style scoped>\n",
              "    .dataframe tbody tr th:only-of-type {\n",
              "        vertical-align: middle;\n",
              "    }\n",
              "\n",
              "    .dataframe tbody tr th {\n",
              "        vertical-align: top;\n",
              "    }\n",
              "\n",
              "    .dataframe thead th {\n",
              "        text-align: right;\n",
              "    }\n",
              "</style>\n",
              "<table border=\"1\" class=\"dataframe\">\n",
              "  <thead>\n",
              "    <tr style=\"text-align: right;\">\n",
              "      <th></th>\n",
              "      <th>App Name</th>\n",
              "      <th>Category</th>\n",
              "      <th>Rating</th>\n",
              "      <th>Reviews</th>\n",
              "      <th>Installs</th>\n",
              "      <th>Size</th>\n",
              "      <th>Price</th>\n",
              "      <th>Content Rating</th>\n",
              "      <th>Last Updated</th>\n",
              "      <th>Minimum Version</th>\n",
              "      <th>Latest Version</th>\n",
              "    </tr>\n",
              "  </thead>\n",
              "  <tbody>\n",
              "  </tbody>\n",
              "</table>\n",
              "</div>"
            ],
            "text/plain": [
              "Empty DataFrame\n",
              "Columns: [App Name, Category, Rating, Reviews, Installs, Size, Price, Content Rating, Last Updated, Minimum Version, Latest Version]\n",
              "Index: []"
            ]
          },
          "metadata": {
            "tags": []
          },
          "execution_count": 53
        }
      ]
    },
    {
      "cell_type": "code",
      "metadata": {
        "id": "9utOPNIScNqw",
        "colab_type": "code",
        "colab": {
          "base_uri": "https://localhost:8080/",
          "height": 47
        },
        "outputId": "c57cb7ac-28a1-422b-b0c0-99286452eac4"
      },
      "source": [
        "# Here we had an entry in column \"Rating\" which was 7. But we want \"Rating<=5\". \n",
        "# It was fixed so now there is no longer rating with numbers more than \"5\"\n",
        "\n",
        "app[app[\"Rating\"]==7.000000]"
      ],
      "execution_count": 54,
      "outputs": [
        {
          "output_type": "execute_result",
          "data": {
            "text/html": [
              "<div>\n",
              "<style scoped>\n",
              "    .dataframe tbody tr th:only-of-type {\n",
              "        vertical-align: middle;\n",
              "    }\n",
              "\n",
              "    .dataframe tbody tr th {\n",
              "        vertical-align: top;\n",
              "    }\n",
              "\n",
              "    .dataframe thead th {\n",
              "        text-align: right;\n",
              "    }\n",
              "</style>\n",
              "<table border=\"1\" class=\"dataframe\">\n",
              "  <thead>\n",
              "    <tr style=\"text-align: right;\">\n",
              "      <th></th>\n",
              "      <th>App Name</th>\n",
              "      <th>Category</th>\n",
              "      <th>Rating</th>\n",
              "      <th>Reviews</th>\n",
              "      <th>Installs</th>\n",
              "      <th>Size</th>\n",
              "      <th>Price</th>\n",
              "      <th>Content Rating</th>\n",
              "      <th>Last Updated</th>\n",
              "      <th>Minimum Version</th>\n",
              "      <th>Latest Version</th>\n",
              "    </tr>\n",
              "  </thead>\n",
              "  <tbody>\n",
              "  </tbody>\n",
              "</table>\n",
              "</div>"
            ],
            "text/plain": [
              "Empty DataFrame\n",
              "Columns: [App Name, Category, Rating, Reviews, Installs, Size, Price, Content Rating, Last Updated, Minimum Version, Latest Version]\n",
              "Index: []"
            ]
          },
          "metadata": {
            "tags": []
          },
          "execution_count": 54
        }
      ]
    },
    {
      "cell_type": "code",
      "metadata": {
        "id": "QehYYweKcNqy",
        "colab_type": "code",
        "colab": {
          "base_uri": "https://localhost:8080/",
          "height": 47
        },
        "outputId": "36d47156-4d34-4168-9485-c678cb3a3730"
      },
      "source": [
        "app.drop(index=99584, inplace=True)\n",
        "app[app[\"Rating\"]==7.000000]"
      ],
      "execution_count": 55,
      "outputs": [
        {
          "output_type": "execute_result",
          "data": {
            "text/html": [
              "<div>\n",
              "<style scoped>\n",
              "    .dataframe tbody tr th:only-of-type {\n",
              "        vertical-align: middle;\n",
              "    }\n",
              "\n",
              "    .dataframe tbody tr th {\n",
              "        vertical-align: top;\n",
              "    }\n",
              "\n",
              "    .dataframe thead th {\n",
              "        text-align: right;\n",
              "    }\n",
              "</style>\n",
              "<table border=\"1\" class=\"dataframe\">\n",
              "  <thead>\n",
              "    <tr style=\"text-align: right;\">\n",
              "      <th></th>\n",
              "      <th>App Name</th>\n",
              "      <th>Category</th>\n",
              "      <th>Rating</th>\n",
              "      <th>Reviews</th>\n",
              "      <th>Installs</th>\n",
              "      <th>Size</th>\n",
              "      <th>Price</th>\n",
              "      <th>Content Rating</th>\n",
              "      <th>Last Updated</th>\n",
              "      <th>Minimum Version</th>\n",
              "      <th>Latest Version</th>\n",
              "    </tr>\n",
              "  </thead>\n",
              "  <tbody>\n",
              "  </tbody>\n",
              "</table>\n",
              "</div>"
            ],
            "text/plain": [
              "Empty DataFrame\n",
              "Columns: [App Name, Category, Rating, Reviews, Installs, Size, Price, Content Rating, Last Updated, Minimum Version, Latest Version]\n",
              "Index: []"
            ]
          },
          "metadata": {
            "tags": []
          },
          "execution_count": 55
        }
      ]
    },
    {
      "cell_type": "code",
      "metadata": {
        "id": "343BiWC5cNq0",
        "colab_type": "code",
        "colab": {}
      },
      "source": [
        "# Converting the column \"Rating\" to float so that we can apply statistics \n",
        "\n",
        "app.Rating= app.Rating.astype(float) "
      ],
      "execution_count": 56,
      "outputs": []
    },
    {
      "cell_type": "code",
      "metadata": {
        "id": "BGOKdk0XcNq2",
        "colab_type": "code",
        "colab": {
          "base_uri": "https://localhost:8080/",
          "height": 284
        },
        "outputId": "5522f71d-c394-482e-dadd-d6c9cb25974d"
      },
      "source": [
        "app.describe()"
      ],
      "execution_count": 57,
      "outputs": [
        {
          "output_type": "execute_result",
          "data": {
            "text/html": [
              "<div>\n",
              "<style scoped>\n",
              "    .dataframe tbody tr th:only-of-type {\n",
              "        vertical-align: middle;\n",
              "    }\n",
              "\n",
              "    .dataframe tbody tr th {\n",
              "        vertical-align: top;\n",
              "    }\n",
              "\n",
              "    .dataframe thead th {\n",
              "        text-align: right;\n",
              "    }\n",
              "</style>\n",
              "<table border=\"1\" class=\"dataframe\">\n",
              "  <thead>\n",
              "    <tr style=\"text-align: right;\">\n",
              "      <th></th>\n",
              "      <th>Rating</th>\n",
              "    </tr>\n",
              "  </thead>\n",
              "  <tbody>\n",
              "    <tr>\n",
              "      <th>count</th>\n",
              "      <td>267040.000000</td>\n",
              "    </tr>\n",
              "    <tr>\n",
              "      <th>mean</th>\n",
              "      <td>4.269390</td>\n",
              "    </tr>\n",
              "    <tr>\n",
              "      <th>std</th>\n",
              "      <td>0.586244</td>\n",
              "    </tr>\n",
              "    <tr>\n",
              "      <th>min</th>\n",
              "      <td>1.000000</td>\n",
              "    </tr>\n",
              "    <tr>\n",
              "      <th>25%</th>\n",
              "      <td>4.017699</td>\n",
              "    </tr>\n",
              "    <tr>\n",
              "      <th>50%</th>\n",
              "      <td>4.382165</td>\n",
              "    </tr>\n",
              "    <tr>\n",
              "      <th>75%</th>\n",
              "      <td>4.648649</td>\n",
              "    </tr>\n",
              "    <tr>\n",
              "      <th>max</th>\n",
              "      <td>5.000000</td>\n",
              "    </tr>\n",
              "  </tbody>\n",
              "</table>\n",
              "</div>"
            ],
            "text/plain": [
              "              Rating\n",
              "count  267040.000000\n",
              "mean        4.269390\n",
              "std         0.586244\n",
              "min         1.000000\n",
              "25%         4.017699\n",
              "50%         4.382165\n",
              "75%         4.648649\n",
              "max         5.000000"
            ]
          },
          "metadata": {
            "tags": []
          },
          "execution_count": 57
        }
      ]
    },
    {
      "cell_type": "code",
      "metadata": {
        "id": "dC3uU8qlcNq4",
        "colab_type": "code",
        "colab": {}
      },
      "source": [
        "# Converting the data in the column \"Reviews\" to float to that we can apply statistics\n",
        "\n",
        "app.Reviews= app.Reviews.astype(float) "
      ],
      "execution_count": 58,
      "outputs": []
    },
    {
      "cell_type": "code",
      "metadata": {
        "id": "RUQii6sjcNq5",
        "colab_type": "code",
        "colab": {
          "base_uri": "https://localhost:8080/",
          "height": 284
        },
        "outputId": "e32bda08-75e6-4693-fd03-567fa79f393f"
      },
      "source": [
        "app.describe()"
      ],
      "execution_count": 59,
      "outputs": [
        {
          "output_type": "execute_result",
          "data": {
            "text/html": [
              "<div>\n",
              "<style scoped>\n",
              "    .dataframe tbody tr th:only-of-type {\n",
              "        vertical-align: middle;\n",
              "    }\n",
              "\n",
              "    .dataframe tbody tr th {\n",
              "        vertical-align: top;\n",
              "    }\n",
              "\n",
              "    .dataframe thead th {\n",
              "        text-align: right;\n",
              "    }\n",
              "</style>\n",
              "<table border=\"1\" class=\"dataframe\">\n",
              "  <thead>\n",
              "    <tr style=\"text-align: right;\">\n",
              "      <th></th>\n",
              "      <th>Rating</th>\n",
              "      <th>Reviews</th>\n",
              "    </tr>\n",
              "  </thead>\n",
              "  <tbody>\n",
              "    <tr>\n",
              "      <th>count</th>\n",
              "      <td>267040.000000</td>\n",
              "      <td>2.670400e+05</td>\n",
              "    </tr>\n",
              "    <tr>\n",
              "      <th>mean</th>\n",
              "      <td>4.269390</td>\n",
              "      <td>1.459628e+04</td>\n",
              "    </tr>\n",
              "    <tr>\n",
              "      <th>std</th>\n",
              "      <td>0.586244</td>\n",
              "      <td>4.110638e+05</td>\n",
              "    </tr>\n",
              "    <tr>\n",
              "      <th>min</th>\n",
              "      <td>1.000000</td>\n",
              "      <td>1.000000e+00</td>\n",
              "    </tr>\n",
              "    <tr>\n",
              "      <th>25%</th>\n",
              "      <td>4.017699</td>\n",
              "      <td>1.600000e+01</td>\n",
              "    </tr>\n",
              "    <tr>\n",
              "      <th>50%</th>\n",
              "      <td>4.382165</td>\n",
              "      <td>9.300000e+01</td>\n",
              "    </tr>\n",
              "    <tr>\n",
              "      <th>75%</th>\n",
              "      <td>4.648649</td>\n",
              "      <td>6.560000e+02</td>\n",
              "    </tr>\n",
              "    <tr>\n",
              "      <th>max</th>\n",
              "      <td>5.000000</td>\n",
              "      <td>8.621429e+07</td>\n",
              "    </tr>\n",
              "  </tbody>\n",
              "</table>\n",
              "</div>"
            ],
            "text/plain": [
              "              Rating       Reviews\n",
              "count  267040.000000  2.670400e+05\n",
              "mean        4.269390  1.459628e+04\n",
              "std         0.586244  4.110638e+05\n",
              "min         1.000000  1.000000e+00\n",
              "25%         4.017699  1.600000e+01\n",
              "50%         4.382165  9.300000e+01\n",
              "75%         4.648649  6.560000e+02\n",
              "max         5.000000  8.621429e+07"
            ]
          },
          "metadata": {
            "tags": []
          },
          "execution_count": 59
        }
      ]
    },
    {
      "cell_type": "code",
      "metadata": {
        "id": "ozY_CxEccNq8",
        "colab_type": "code",
        "colab": {}
      },
      "source": [
        "# I want to convert the column \"Installs\" into float\n",
        "\n",
        "# I firstly have to remove the \"+\"\n",
        " \n",
        "app.Installs= app[\"Installs\"].str.replace(\"+\", \"\")"
      ],
      "execution_count": 60,
      "outputs": []
    },
    {
      "cell_type": "code",
      "metadata": {
        "id": "GC2jBktUcNrC",
        "colab_type": "code",
        "colab": {}
      },
      "source": [
        "# I had some problems converting the column into float, even when i removed \"+\"\n",
        "\n",
        "# I am removing the commas\n",
        "\n",
        "app.Installs= app[\"Installs\"].str.replace(\",\", \"\")"
      ],
      "execution_count": 61,
      "outputs": []
    },
    {
      "cell_type": "code",
      "metadata": {
        "id": "0Dk5D2MacNrF",
        "colab_type": "code",
        "colab": {}
      },
      "source": [
        "app[\"Installs\"] = pd.to_numeric(app[\"Installs\"])"
      ],
      "execution_count": 62,
      "outputs": []
    },
    {
      "cell_type": "code",
      "metadata": {
        "id": "KQQx2HZfcNrI",
        "colab_type": "code",
        "colab": {}
      },
      "source": [
        "# Removing \"$\" from the data entries in the column \"Price\" so that it can be converted to float\n",
        "\n",
        "app[\"Price\"]= app[\"Price\"].str.replace(\"$\", \"\")"
      ],
      "execution_count": 63,
      "outputs": []
    },
    {
      "cell_type": "code",
      "metadata": {
        "id": "ge4e7pr_cNrN",
        "colab_type": "code",
        "colab": {}
      },
      "source": [
        "# Convert the data in \"Price\" to float\n",
        "\n",
        "\n",
        "app[\"Price\"]= app.Price.astype(float)"
      ],
      "execution_count": 64,
      "outputs": []
    },
    {
      "cell_type": "code",
      "metadata": {
        "id": "sL6xktWjcNrQ",
        "colab_type": "code",
        "colab": {
          "base_uri": "https://localhost:8080/",
          "height": 284
        },
        "outputId": "cf154ffc-b568-4f71-f25f-398585d3df24"
      },
      "source": [
        "# the data in the column \"Prics\" successfully converted to float\n",
        "\n",
        "# In these columns i can do various statistical applications\n",
        "app.describe()"
      ],
      "execution_count": 65,
      "outputs": [
        {
          "output_type": "execute_result",
          "data": {
            "text/html": [
              "<div>\n",
              "<style scoped>\n",
              "    .dataframe tbody tr th:only-of-type {\n",
              "        vertical-align: middle;\n",
              "    }\n",
              "\n",
              "    .dataframe tbody tr th {\n",
              "        vertical-align: top;\n",
              "    }\n",
              "\n",
              "    .dataframe thead th {\n",
              "        text-align: right;\n",
              "    }\n",
              "</style>\n",
              "<table border=\"1\" class=\"dataframe\">\n",
              "  <thead>\n",
              "    <tr style=\"text-align: right;\">\n",
              "      <th></th>\n",
              "      <th>Rating</th>\n",
              "      <th>Reviews</th>\n",
              "      <th>Installs</th>\n",
              "      <th>Price</th>\n",
              "    </tr>\n",
              "  </thead>\n",
              "  <tbody>\n",
              "    <tr>\n",
              "      <th>count</th>\n",
              "      <td>267040.000000</td>\n",
              "      <td>2.670400e+05</td>\n",
              "      <td>2.670400e+05</td>\n",
              "      <td>267040.000000</td>\n",
              "    </tr>\n",
              "    <tr>\n",
              "      <th>mean</th>\n",
              "      <td>4.269390</td>\n",
              "      <td>1.459628e+04</td>\n",
              "      <td>6.410638e+05</td>\n",
              "      <td>0.227872</td>\n",
              "    </tr>\n",
              "    <tr>\n",
              "      <th>std</th>\n",
              "      <td>0.586244</td>\n",
              "      <td>4.110638e+05</td>\n",
              "      <td>2.046801e+07</td>\n",
              "      <td>3.559421</td>\n",
              "    </tr>\n",
              "    <tr>\n",
              "      <th>min</th>\n",
              "      <td>1.000000</td>\n",
              "      <td>1.000000e+00</td>\n",
              "      <td>0.000000e+00</td>\n",
              "      <td>0.000000</td>\n",
              "    </tr>\n",
              "    <tr>\n",
              "      <th>25%</th>\n",
              "      <td>4.017699</td>\n",
              "      <td>1.600000e+01</td>\n",
              "      <td>1.000000e+03</td>\n",
              "      <td>0.000000</td>\n",
              "    </tr>\n",
              "    <tr>\n",
              "      <th>50%</th>\n",
              "      <td>4.382165</td>\n",
              "      <td>9.300000e+01</td>\n",
              "      <td>1.000000e+04</td>\n",
              "      <td>0.000000</td>\n",
              "    </tr>\n",
              "    <tr>\n",
              "      <th>75%</th>\n",
              "      <td>4.648649</td>\n",
              "      <td>6.560000e+02</td>\n",
              "      <td>5.000000e+04</td>\n",
              "      <td>0.000000</td>\n",
              "    </tr>\n",
              "    <tr>\n",
              "      <th>max</th>\n",
              "      <td>5.000000</td>\n",
              "      <td>8.621429e+07</td>\n",
              "      <td>5.000000e+09</td>\n",
              "      <td>399.990000</td>\n",
              "    </tr>\n",
              "  </tbody>\n",
              "</table>\n",
              "</div>"
            ],
            "text/plain": [
              "              Rating       Reviews      Installs          Price\n",
              "count  267040.000000  2.670400e+05  2.670400e+05  267040.000000\n",
              "mean        4.269390  1.459628e+04  6.410638e+05       0.227872\n",
              "std         0.586244  4.110638e+05  2.046801e+07       3.559421\n",
              "min         1.000000  1.000000e+00  0.000000e+00       0.000000\n",
              "25%         4.017699  1.600000e+01  1.000000e+03       0.000000\n",
              "50%         4.382165  9.300000e+01  1.000000e+04       0.000000\n",
              "75%         4.648649  6.560000e+02  5.000000e+04       0.000000\n",
              "max         5.000000  8.621429e+07  5.000000e+09     399.990000"
            ]
          },
          "metadata": {
            "tags": []
          },
          "execution_count": 65
        }
      ]
    },
    {
      "cell_type": "code",
      "metadata": {
        "id": "3k0BvM0icNrT",
        "colab_type": "code",
        "colab": {
          "base_uri": "https://localhost:8080/",
          "height": 50
        },
        "outputId": "93ed81f5-ebb6-47e6-84db-ca72fb2f190b"
      },
      "source": [
        "# procedure for converting the column \"Size\" to float\n",
        "# there are sizes counted in mb, kb, in numbers without measurement unit and with \"varies with device\"\n",
        "app.Size.unique()"
      ],
      "execution_count": 66,
      "outputs": [
        {
          "output_type": "execute_result",
          "data": {
            "text/plain": [
              "array(['Varies with device', '1.4M', '16M', ..., '601k', '715k', '311k'],\n",
              "      dtype=object)"
            ]
          },
          "metadata": {
            "tags": []
          },
          "execution_count": 66
        }
      ]
    },
    {
      "cell_type": "code",
      "metadata": {
        "id": "3y0iuCZ2cNrX",
        "colab_type": "code",
        "colab": {}
      },
      "source": [
        "# removing the \"m\" which is the mb for the size\n",
        "\n",
        "app.Size= app[\"Size\"].str.replace(\"M\", \"\")"
      ],
      "execution_count": 67,
      "outputs": []
    },
    {
      "cell_type": "code",
      "metadata": {
        "id": "BEMB5gAwcNrc",
        "colab_type": "code",
        "colab": {}
      },
      "source": [
        "# assigning \"Varies with device\" with a number like \"-1\" so that i can seperate it later\n",
        "\n",
        "# app.Size= app[\"Size\"].str.replace(\"Varies with device\", \"-1\")"
      ],
      "execution_count": 68,
      "outputs": []
    },
    {
      "cell_type": "code",
      "metadata": {
        "id": "XJL-zTNacNrl",
        "colab_type": "code",
        "colab": {}
      },
      "source": [
        "# Segmenting the column of the size\n",
        "\n",
        "y= app.iloc[:, 5:6]\n"
      ],
      "execution_count": 69,
      "outputs": []
    },
    {
      "cell_type": "code",
      "metadata": {
        "id": "gjp3QjUHcNro",
        "colab_type": "code",
        "colab": {}
      },
      "source": [
        "# I tried to fix the last problems in converting the column \"Size\" to float\n",
        "# Here i am trying to remove \"k\" (kbs) and the blanks, and to convert kbs to mbs\n",
        "# It keeps giving me errors and i cannot fix it\n",
        "# i will not use the column \"Size\" for statistical applications\n",
        "\n",
        "#for x in y:\n",
        "#    x = str(x)\n",
        "#    x= x.replace(\" \", \"\")\n",
        "#    x= x.replace(\",\", \".\")\n",
        "#    if \"k\" in x:\n",
        "#        x= x.replace(\"k\", \"\")\n",
        "#        x=x.replace(\" k\", \"\")\n",
        "#        x=x.replace(\"k \", \"\")\n",
        "#        x= float(x)\n",
        "#        x= x/1024"
      ],
      "execution_count": 70,
      "outputs": []
    },
    {
      "cell_type": "code",
      "metadata": {
        "id": "ofqCtTQicNrr",
        "colab_type": "code",
        "colab": {
          "base_uri": "https://localhost:8080/",
          "height": 34
        },
        "outputId": "d27bd2fc-6267-476b-ac68-b15c5533d271"
      },
      "source": [
        "# There are 11,728 apps whose size varies with device\n",
        "\n",
        "len(app[app[\"Size\"]== \"Varies with device\"])"
      ],
      "execution_count": 71,
      "outputs": [
        {
          "output_type": "execute_result",
          "data": {
            "text/plain": [
              "11728"
            ]
          },
          "metadata": {
            "tags": []
          },
          "execution_count": 71
        }
      ]
    },
    {
      "cell_type": "code",
      "metadata": {
        "id": "K4lebuGmcNrv",
        "colab_type": "code",
        "colab": {
          "base_uri": "https://localhost:8080/",
          "height": 101
        },
        "outputId": "2edc45e4-2787-4c7b-8042-cc1f105e361f"
      },
      "source": [
        "app.Size.describe()"
      ],
      "execution_count": 72,
      "outputs": [
        {
          "output_type": "execute_result",
          "data": {
            "text/plain": [
              "count                 267040\n",
              "unique                  1236\n",
              "top       Varies with device\n",
              "freq                   11728\n",
              "Name: Size, dtype: object"
            ]
          },
          "metadata": {
            "tags": []
          },
          "execution_count": 72
        }
      ]
    },
    {
      "cell_type": "code",
      "metadata": {
        "id": "oLAOMY78cNry",
        "colab_type": "code",
        "colab": {
          "base_uri": "https://localhost:8080/",
          "height": 34
        },
        "outputId": "dd9dc4f6-83e3-492b-ab7a-b20fe1b37696"
      },
      "source": [
        "print (\"Apps whose size varies with device are {}% of the dataset\".format(11728/267040*100))"
      ],
      "execution_count": 73,
      "outputs": [
        {
          "output_type": "stream",
          "text": [
            "Apps whose size varies with device are 4.391851408028759% of the dataset\n"
          ],
          "name": "stdout"
        }
      ]
    },
    {
      "cell_type": "markdown",
      "metadata": {
        "id": "CDlQQ65ycNr8",
        "colab_type": "text"
      },
      "source": [
        "# Statistical Analysis"
      ]
    },
    {
      "cell_type": "code",
      "metadata": {
        "id": "NRd5M0HWcNr9",
        "colab_type": "code",
        "colab": {
          "base_uri": "https://localhost:8080/",
          "height": 34
        },
        "outputId": "3b1e4eb3-ab32-4425-8806-eee2c67f8888"
      },
      "source": [
        "#ensuring the shape of dataframe before proceeding to further statistics and visualization\n",
        "\n",
        "app.shape"
      ],
      "execution_count": 74,
      "outputs": [
        {
          "output_type": "execute_result",
          "data": {
            "text/plain": [
              "(267040, 11)"
            ]
          },
          "metadata": {
            "tags": []
          },
          "execution_count": 74
        }
      ]
    },
    {
      "cell_type": "code",
      "metadata": {
        "id": "RtCMHv0rcNsB",
        "colab_type": "code",
        "colab": {
          "base_uri": "https://localhost:8080/",
          "height": 284
        },
        "outputId": "6c6f2e61-9cec-49a1-861a-fae24c620c25"
      },
      "source": [
        "# the columns, the data of which we can do statistic manipulation\n",
        "\n",
        "app.describe()"
      ],
      "execution_count": 75,
      "outputs": [
        {
          "output_type": "execute_result",
          "data": {
            "text/html": [
              "<div>\n",
              "<style scoped>\n",
              "    .dataframe tbody tr th:only-of-type {\n",
              "        vertical-align: middle;\n",
              "    }\n",
              "\n",
              "    .dataframe tbody tr th {\n",
              "        vertical-align: top;\n",
              "    }\n",
              "\n",
              "    .dataframe thead th {\n",
              "        text-align: right;\n",
              "    }\n",
              "</style>\n",
              "<table border=\"1\" class=\"dataframe\">\n",
              "  <thead>\n",
              "    <tr style=\"text-align: right;\">\n",
              "      <th></th>\n",
              "      <th>Rating</th>\n",
              "      <th>Reviews</th>\n",
              "      <th>Installs</th>\n",
              "      <th>Price</th>\n",
              "    </tr>\n",
              "  </thead>\n",
              "  <tbody>\n",
              "    <tr>\n",
              "      <th>count</th>\n",
              "      <td>267040.000000</td>\n",
              "      <td>2.670400e+05</td>\n",
              "      <td>2.670400e+05</td>\n",
              "      <td>267040.000000</td>\n",
              "    </tr>\n",
              "    <tr>\n",
              "      <th>mean</th>\n",
              "      <td>4.269390</td>\n",
              "      <td>1.459628e+04</td>\n",
              "      <td>6.410638e+05</td>\n",
              "      <td>0.227872</td>\n",
              "    </tr>\n",
              "    <tr>\n",
              "      <th>std</th>\n",
              "      <td>0.586244</td>\n",
              "      <td>4.110638e+05</td>\n",
              "      <td>2.046801e+07</td>\n",
              "      <td>3.559421</td>\n",
              "    </tr>\n",
              "    <tr>\n",
              "      <th>min</th>\n",
              "      <td>1.000000</td>\n",
              "      <td>1.000000e+00</td>\n",
              "      <td>0.000000e+00</td>\n",
              "      <td>0.000000</td>\n",
              "    </tr>\n",
              "    <tr>\n",
              "      <th>25%</th>\n",
              "      <td>4.017699</td>\n",
              "      <td>1.600000e+01</td>\n",
              "      <td>1.000000e+03</td>\n",
              "      <td>0.000000</td>\n",
              "    </tr>\n",
              "    <tr>\n",
              "      <th>50%</th>\n",
              "      <td>4.382165</td>\n",
              "      <td>9.300000e+01</td>\n",
              "      <td>1.000000e+04</td>\n",
              "      <td>0.000000</td>\n",
              "    </tr>\n",
              "    <tr>\n",
              "      <th>75%</th>\n",
              "      <td>4.648649</td>\n",
              "      <td>6.560000e+02</td>\n",
              "      <td>5.000000e+04</td>\n",
              "      <td>0.000000</td>\n",
              "    </tr>\n",
              "    <tr>\n",
              "      <th>max</th>\n",
              "      <td>5.000000</td>\n",
              "      <td>8.621429e+07</td>\n",
              "      <td>5.000000e+09</td>\n",
              "      <td>399.990000</td>\n",
              "    </tr>\n",
              "  </tbody>\n",
              "</table>\n",
              "</div>"
            ],
            "text/plain": [
              "              Rating       Reviews      Installs          Price\n",
              "count  267040.000000  2.670400e+05  2.670400e+05  267040.000000\n",
              "mean        4.269390  1.459628e+04  6.410638e+05       0.227872\n",
              "std         0.586244  4.110638e+05  2.046801e+07       3.559421\n",
              "min         1.000000  1.000000e+00  0.000000e+00       0.000000\n",
              "25%         4.017699  1.600000e+01  1.000000e+03       0.000000\n",
              "50%         4.382165  9.300000e+01  1.000000e+04       0.000000\n",
              "75%         4.648649  6.560000e+02  5.000000e+04       0.000000\n",
              "max         5.000000  8.621429e+07  5.000000e+09     399.990000"
            ]
          },
          "metadata": {
            "tags": []
          },
          "execution_count": 75
        }
      ]
    },
    {
      "cell_type": "code",
      "metadata": {
        "id": "ev_n7qybcNsH",
        "colab_type": "code",
        "colab": {
          "base_uri": "https://localhost:8080/",
          "height": 319
        },
        "outputId": "68482c97-96ff-4ac6-d365-860c76725d8b"
      },
      "source": [
        "app.info() # data type for each column"
      ],
      "execution_count": 76,
      "outputs": [
        {
          "output_type": "stream",
          "text": [
            "<class 'pandas.core.frame.DataFrame'>\n",
            "Int64Index: 267040 entries, 0 to 267051\n",
            "Data columns (total 11 columns):\n",
            " #   Column           Non-Null Count   Dtype  \n",
            "---  ------           --------------   -----  \n",
            " 0   App Name         267040 non-null  object \n",
            " 1   Category         267040 non-null  object \n",
            " 2   Rating           267040 non-null  float64\n",
            " 3   Reviews          267040 non-null  float64\n",
            " 4   Installs         267040 non-null  int64  \n",
            " 5   Size             267040 non-null  object \n",
            " 6   Price            267040 non-null  float64\n",
            " 7   Content Rating   267040 non-null  object \n",
            " 8   Last Updated     267040 non-null  object \n",
            " 9   Minimum Version  267040 non-null  object \n",
            " 10  Latest Version   267040 non-null  object \n",
            "dtypes: float64(3), int64(1), object(7)\n",
            "memory usage: 24.4+ MB\n"
          ],
          "name": "stdout"
        }
      ]
    },
    {
      "cell_type": "code",
      "metadata": {
        "id": "cGKRWTtscNsK",
        "colab_type": "code",
        "colab": {
          "base_uri": "https://localhost:8080/",
          "height": 34
        },
        "outputId": "0e4c0ae6-3505-49b8-fc39-e4aee4e3f223"
      },
      "source": [
        "#reinsuring there are no any missing values\n",
        "app.isnull().any().any()"
      ],
      "execution_count": 77,
      "outputs": [
        {
          "output_type": "execute_result",
          "data": {
            "text/plain": [
              "False"
            ]
          },
          "metadata": {
            "tags": []
          },
          "execution_count": 77
        }
      ]
    },
    {
      "cell_type": "code",
      "metadata": {
        "id": "ByGpLyKncNsN",
        "colab_type": "code",
        "colab": {}
      },
      "source": [
        "#******************************************************************************************************\n",
        "# Reviewing the unique values and the number of unique values in each column after the cleaning process"
      ],
      "execution_count": 78,
      "outputs": []
    },
    {
      "cell_type": "code",
      "metadata": {
        "id": "mEg_mU4gcNsR",
        "colab_type": "code",
        "colab": {
          "base_uri": "https://localhost:8080/",
          "height": 235
        },
        "outputId": "d7eb8511-634d-4f17-f165-7b49c230c184"
      },
      "source": [
        "# Values in \"Category\"\n",
        "app[\"Category\"].unique()"
      ],
      "execution_count": 79,
      "outputs": [
        {
          "output_type": "execute_result",
          "data": {
            "text/plain": [
              "array(['FOOD_AND_DRINK', 'TRAVEL_AND_LOCAL', 'SHOPPING', 'LIFESTYLE',\n",
              "       'GAME_ACTION', 'GAME_CASUAL', 'GAME_ROLE_PLAYING', 'GAME_PUZZLE',\n",
              "       'GAME_RACING', 'GAME_ADVENTURE', 'GAME_ARCADE', 'GAME_STRATEGY',\n",
              "       'GAME_SPORTS', 'GAME_SIMULATION', 'GAME_MUSIC', 'MUSIC_AND_AUDIO',\n",
              "       'FINANCE', 'EVENTS', 'ENTERTAINMENT', 'EDUCATION',\n",
              "       'GAME_EDUCATIONAL', 'BOOKS_AND_REFERENCE', 'NEWS_AND_MAGAZINES',\n",
              "       'PHOTOGRAPHY', 'VIDEO_PLAYERS', 'GAME_WORD', 'ART_AND_DESIGN',\n",
              "       'GAME_TRIVIA', 'GAME_BOARD', 'BUSINESS', 'PRODUCTIVITY',\n",
              "       'COMMUNICATION', 'HEALTH_AND_FITNESS', 'HOUSE_AND_HOME', 'SOCIAL',\n",
              "       'BEAUTY', 'GAME_CASINO', 'MAPS_AND_NAVIGATION', 'PERSONALIZATION',\n",
              "       'GAME_CARD', 'TOOLS', 'SPORTS', 'AUTO_AND_VEHICLES',\n",
              "       'LIBRARIES_AND_DEMO', 'COMICS', 'PARENTING', 'DATING', 'WEATHER',\n",
              "       'MEDICAL', 'TRAVEL', ' Economics'], dtype=object)"
            ]
          },
          "metadata": {
            "tags": []
          },
          "execution_count": 79
        }
      ]
    },
    {
      "cell_type": "code",
      "metadata": {
        "id": "NMpypUcacNsT",
        "colab_type": "code",
        "colab": {
          "base_uri": "https://localhost:8080/",
          "height": 34
        },
        "outputId": "d90b20c6-e27b-4d4f-82c9-5a63702c34d0"
      },
      "source": [
        "# There are 51 different categories\n",
        "\n",
        "app[\"Category\"].nunique()"
      ],
      "execution_count": 80,
      "outputs": [
        {
          "output_type": "execute_result",
          "data": {
            "text/plain": [
              "51"
            ]
          },
          "metadata": {
            "tags": []
          },
          "execution_count": 80
        }
      ]
    },
    {
      "cell_type": "code",
      "metadata": {
        "id": "Zk-ELt2LcNsW",
        "colab_type": "code",
        "colab": {
          "base_uri": "https://localhost:8080/",
          "height": 50
        },
        "outputId": "80d44473-1719-407b-8806-5469b0a76adb"
      },
      "source": [
        "# Unique values of Rating\n",
        "app[\"Rating\"].unique()"
      ],
      "execution_count": 81,
      "outputs": [
        {
          "output_type": "execute_result",
          "data": {
            "text/plain": [
              "array([4.54856157, 4.40067148, 3.65632939, ..., 4.60038614, 3.28787875,\n",
              "       4.06870222])"
            ]
          },
          "metadata": {
            "tags": []
          },
          "execution_count": 81
        }
      ]
    },
    {
      "cell_type": "code",
      "metadata": {
        "id": "RbzyDrN8cNsY",
        "colab_type": "code",
        "colab": {
          "base_uri": "https://localhost:8080/",
          "height": 34
        },
        "outputId": "a3149d02-2c79-4e3c-a73e-651973b5707c"
      },
      "source": [
        "# There are 99,845 unique values of Rating\n",
        "\n",
        "app[\"Rating\"].nunique()"
      ],
      "execution_count": 82,
      "outputs": [
        {
          "output_type": "execute_result",
          "data": {
            "text/plain": [
              "100205"
            ]
          },
          "metadata": {
            "tags": []
          },
          "execution_count": 82
        }
      ]
    },
    {
      "cell_type": "code",
      "metadata": {
        "id": "ZS1ZzrRKcNsa",
        "colab_type": "code",
        "colab": {
          "base_uri": "https://localhost:8080/",
          "height": 34
        },
        "outputId": "896db27c-c42f-4107-9755-6e77aba8d7f7"
      },
      "source": [
        "# Unique values of the column \"Reviews\"\n",
        "app[\"Reviews\"].unique()"
      ],
      "execution_count": 83,
      "outputs": [
        {
          "output_type": "execute_result",
          "data": {
            "text/plain": [
              "array([ 305034., 1207922.,    1967., ...,  296774.,    7974.,   69123.])"
            ]
          },
          "metadata": {
            "tags": []
          },
          "execution_count": 83
        }
      ]
    },
    {
      "cell_type": "code",
      "metadata": {
        "id": "zfW08LRkcNsd",
        "colab_type": "code",
        "colab": {
          "base_uri": "https://localhost:8080/",
          "height": 34
        },
        "outputId": "e19522d7-a676-45c9-998a-0342f202ddce"
      },
      "source": [
        "# There are 24,531 different reviews\n",
        "\n",
        "app[\"Reviews\"].nunique()"
      ],
      "execution_count": 84,
      "outputs": [
        {
          "output_type": "execute_result",
          "data": {
            "text/plain": [
              "24531"
            ]
          },
          "metadata": {
            "tags": []
          },
          "execution_count": 84
        }
      ]
    },
    {
      "cell_type": "code",
      "metadata": {
        "id": "IvVboARycNsj",
        "colab_type": "code",
        "colab": {
          "base_uri": "https://localhost:8080/",
          "height": 101
        },
        "outputId": "c79bd5bb-342b-44d5-b3ae-189762031c94"
      },
      "source": [
        "# Unique values of installations\n",
        "\n",
        "app[\"Installs\"].unique()"
      ],
      "execution_count": 85,
      "outputs": [
        {
          "output_type": "execute_result",
          "data": {
            "text/plain": [
              "array([   5000000,  100000000,     100000,   10000000,      10000,\n",
              "          1000000,   50000000,     500000,      50000,       5000,\n",
              "             1000,  500000000, 1000000000, 5000000000,        100,\n",
              "              500,         50,          5,         10,          1,\n",
              "                0])"
            ]
          },
          "metadata": {
            "tags": []
          },
          "execution_count": 85
        }
      ]
    },
    {
      "cell_type": "code",
      "metadata": {
        "id": "4NPNoyvQcNsn",
        "colab_type": "code",
        "colab": {
          "base_uri": "https://localhost:8080/",
          "height": 34
        },
        "outputId": "1ca53934-f652-484a-f681-0eb116eec30d"
      },
      "source": [
        "# There are 21 different classes of installations\n",
        "\n",
        "app[\"Installs\"].nunique()"
      ],
      "execution_count": 86,
      "outputs": [
        {
          "output_type": "execute_result",
          "data": {
            "text/plain": [
              "21"
            ]
          },
          "metadata": {
            "tags": []
          },
          "execution_count": 86
        }
      ]
    },
    {
      "cell_type": "code",
      "metadata": {
        "id": "M2zeVLQQcNsq",
        "colab_type": "code",
        "colab": {
          "base_uri": "https://localhost:8080/",
          "height": 50
        },
        "outputId": "293e4d1f-47f3-4253-9c0b-40bf6f0c4768"
      },
      "source": [
        "# Unique values in the column \"Size\"\n",
        "app[\"Size\"].unique()"
      ],
      "execution_count": 87,
      "outputs": [
        {
          "output_type": "execute_result",
          "data": {
            "text/plain": [
              "array(['Varies with device', '1.4', '16', ..., '601k', '715k', '311k'],\n",
              "      dtype=object)"
            ]
          },
          "metadata": {
            "tags": []
          },
          "execution_count": 87
        }
      ]
    },
    {
      "cell_type": "code",
      "metadata": {
        "id": "_yIqc6cFcNsr",
        "colab_type": "code",
        "colab": {
          "base_uri": "https://localhost:8080/",
          "height": 34
        },
        "outputId": "59eaeaaa-e6b7-4459-ec8e-edb337769d1f"
      },
      "source": [
        "# There are 1,236 different sizes for the apps\n",
        "\n",
        "app[\"Size\"].nunique()"
      ],
      "execution_count": 88,
      "outputs": [
        {
          "output_type": "execute_result",
          "data": {
            "text/plain": [
              "1236"
            ]
          },
          "metadata": {
            "tags": []
          },
          "execution_count": 88
        }
      ]
    },
    {
      "cell_type": "code",
      "metadata": {
        "id": "9yzzQwH0cNsu",
        "colab_type": "code",
        "colab": {
          "base_uri": "https://localhost:8080/",
          "height": 34
        },
        "outputId": "da800ef9-5394-4de6-bb25-5bef8edc62c6"
      },
      "source": [
        "# There are 488 different prices \n",
        "app[\"Price\"].nunique()"
      ],
      "execution_count": 89,
      "outputs": [
        {
          "output_type": "execute_result",
          "data": {
            "text/plain": [
              "488"
            ]
          },
          "metadata": {
            "tags": []
          },
          "execution_count": 89
        }
      ]
    },
    {
      "cell_type": "code",
      "metadata": {
        "id": "yLgb0zMZcNsx",
        "colab_type": "code",
        "colab": {
          "base_uri": "https://localhost:8080/",
          "height": 50
        },
        "outputId": "2c77eeb5-5d4a-490b-d07f-1edd7f9a06e4"
      },
      "source": [
        "# Unique values of the column \"Content Rating\"\n",
        "app[\"Content Rating\"].unique()"
      ],
      "execution_count": 90,
      "outputs": [
        {
          "output_type": "execute_result",
          "data": {
            "text/plain": [
              "array(['Everyone', 'Teen', 'Everyone 10+', 'Mature 17+',\n",
              "       'Adults only 18+', 'Unrated'], dtype=object)"
            ]
          },
          "metadata": {
            "tags": []
          },
          "execution_count": 90
        }
      ]
    },
    {
      "cell_type": "code",
      "metadata": {
        "id": "1KyYt0CPcNs0",
        "colab_type": "code",
        "colab": {
          "base_uri": "https://localhost:8080/",
          "height": 34
        },
        "outputId": "e4590375-7d52-44ce-90f0-8358467e71c3"
      },
      "source": [
        "# There are 6 different content ratings\n",
        "\n",
        "len(app[\"Content Rating\"].unique())"
      ],
      "execution_count": 91,
      "outputs": [
        {
          "output_type": "execute_result",
          "data": {
            "text/plain": [
              "6"
            ]
          },
          "metadata": {
            "tags": []
          },
          "execution_count": 91
        }
      ]
    },
    {
      "cell_type": "code",
      "metadata": {
        "id": "IMVmRaC-cNs7",
        "colab_type": "code",
        "colab": {
          "base_uri": "https://localhost:8080/",
          "height": 235
        },
        "outputId": "54edae4d-ea03-4f16-8b82-d0f707529397"
      },
      "source": [
        "print(\"***************************************************\")\n",
        "\n",
        "print(\"Minimum number of ratings: %.2f\" %app[\"Rating\"].min())\n",
        "print(\"Maximum number of ratings: %.2f\" %app[\"Rating\"].max())\n",
        "\n",
        "print(\"***************************************************\")\n",
        "\n",
        "print(\"Minimum number of reviews: %.2f\" %app[\"Reviews\"].min())\n",
        "print(\"Maximum number of reviews: %.2f\" %app[\"Reviews\"].max())\n",
        "\n",
        "print(\"***************************************************\")\n",
        "\n",
        "print(\"Minimum number of installs: %.2f\" %app[\"Installs\"].min())\n",
        "print(\"Maximum number of installs: %.2f\" %app[\"Installs\"].max())\n",
        "\n",
        "print(\"***************************************************\")\n",
        "\n",
        "\n",
        "print(\"Minimum number of prices: %.2f\" %app[\"Price\"].min())\n",
        "print(\"Maximum number of prices: %.2f\" %app[\"Price\"].max())\n",
        "\n",
        "print(\"***************************************************\")\n",
        "\n"
      ],
      "execution_count": 92,
      "outputs": [
        {
          "output_type": "stream",
          "text": [
            "***************************************************\n",
            "Minimum number of ratings: 1.00\n",
            "Maximum number of ratings: 5.00\n",
            "***************************************************\n",
            "Minimum number of reviews: 1.00\n",
            "Maximum number of reviews: 86214292.00\n",
            "***************************************************\n",
            "Minimum number of installs: 0.00\n",
            "Maximum number of installs: 5000000000.00\n",
            "***************************************************\n",
            "Minimum number of prices: 0.00\n",
            "Maximum number of prices: 399.99\n",
            "***************************************************\n"
          ],
          "name": "stdout"
        }
      ]
    },
    {
      "cell_type": "code",
      "metadata": {
        "id": "jVT6iVfHcNs_",
        "colab_type": "code",
        "colab": {
          "base_uri": "https://localhost:8080/",
          "height": 1000
        },
        "outputId": "8be3ab64-d401-4cfc-d270-d0a28d811372"
      },
      "source": [
        "# Getting the measures of central tendency for all the installation grouped by \"Category\"\n",
        "\n",
        "app.groupby(\"Category\").Installs.agg([\"min\", \"mean\", \"median\", \"max\"])"
      ],
      "execution_count": 93,
      "outputs": [
        {
          "output_type": "execute_result",
          "data": {
            "text/html": [
              "<div>\n",
              "<style scoped>\n",
              "    .dataframe tbody tr th:only-of-type {\n",
              "        vertical-align: middle;\n",
              "    }\n",
              "\n",
              "    .dataframe tbody tr th {\n",
              "        vertical-align: top;\n",
              "    }\n",
              "\n",
              "    .dataframe thead th {\n",
              "        text-align: right;\n",
              "    }\n",
              "</style>\n",
              "<table border=\"1\" class=\"dataframe\">\n",
              "  <thead>\n",
              "    <tr style=\"text-align: right;\">\n",
              "      <th></th>\n",
              "      <th>min</th>\n",
              "      <th>mean</th>\n",
              "      <th>median</th>\n",
              "      <th>max</th>\n",
              "    </tr>\n",
              "    <tr>\n",
              "      <th>Category</th>\n",
              "      <th></th>\n",
              "      <th></th>\n",
              "      <th></th>\n",
              "      <th></th>\n",
              "    </tr>\n",
              "  </thead>\n",
              "  <tbody>\n",
              "    <tr>\n",
              "      <th>Economics</th>\n",
              "      <td>1000</td>\n",
              "      <td>1.000000e+03</td>\n",
              "      <td>1000</td>\n",
              "      <td>1000</td>\n",
              "    </tr>\n",
              "    <tr>\n",
              "      <th>ART_AND_DESIGN</th>\n",
              "      <td>1</td>\n",
              "      <td>2.105946e+05</td>\n",
              "      <td>5000</td>\n",
              "      <td>100000000</td>\n",
              "    </tr>\n",
              "    <tr>\n",
              "      <th>AUTO_AND_VEHICLES</th>\n",
              "      <td>1</td>\n",
              "      <td>1.824824e+05</td>\n",
              "      <td>5000</td>\n",
              "      <td>10000000</td>\n",
              "    </tr>\n",
              "    <tr>\n",
              "      <th>BEAUTY</th>\n",
              "      <td>0</td>\n",
              "      <td>1.409585e+05</td>\n",
              "      <td>10000</td>\n",
              "      <td>10000000</td>\n",
              "    </tr>\n",
              "    <tr>\n",
              "      <th>BOOKS_AND_REFERENCE</th>\n",
              "      <td>0</td>\n",
              "      <td>1.008366e+05</td>\n",
              "      <td>10000</td>\n",
              "      <td>100000000</td>\n",
              "    </tr>\n",
              "    <tr>\n",
              "      <th>BUSINESS</th>\n",
              "      <td>0</td>\n",
              "      <td>1.455845e+05</td>\n",
              "      <td>1000</td>\n",
              "      <td>100000000</td>\n",
              "    </tr>\n",
              "    <tr>\n",
              "      <th>COMICS</th>\n",
              "      <td>5</td>\n",
              "      <td>3.832805e+05</td>\n",
              "      <td>50000</td>\n",
              "      <td>10000000</td>\n",
              "    </tr>\n",
              "    <tr>\n",
              "      <th>COMMUNICATION</th>\n",
              "      <td>0</td>\n",
              "      <td>2.419759e+06</td>\n",
              "      <td>10000</td>\n",
              "      <td>1000000000</td>\n",
              "    </tr>\n",
              "    <tr>\n",
              "      <th>DATING</th>\n",
              "      <td>1</td>\n",
              "      <td>4.595702e+05</td>\n",
              "      <td>10000</td>\n",
              "      <td>10000000</td>\n",
              "    </tr>\n",
              "    <tr>\n",
              "      <th>EDUCATION</th>\n",
              "      <td>0</td>\n",
              "      <td>7.466526e+04</td>\n",
              "      <td>5000</td>\n",
              "      <td>100000000</td>\n",
              "    </tr>\n",
              "    <tr>\n",
              "      <th>ENTERTAINMENT</th>\n",
              "      <td>0</td>\n",
              "      <td>3.573559e+05</td>\n",
              "      <td>10000</td>\n",
              "      <td>1000000000</td>\n",
              "    </tr>\n",
              "    <tr>\n",
              "      <th>EVENTS</th>\n",
              "      <td>1</td>\n",
              "      <td>4.602683e+04</td>\n",
              "      <td>1000</td>\n",
              "      <td>10000000</td>\n",
              "    </tr>\n",
              "    <tr>\n",
              "      <th>FINANCE</th>\n",
              "      <td>0</td>\n",
              "      <td>2.236191e+05</td>\n",
              "      <td>10000</td>\n",
              "      <td>100000000</td>\n",
              "    </tr>\n",
              "    <tr>\n",
              "      <th>FOOD_AND_DRINK</th>\n",
              "      <td>1</td>\n",
              "      <td>1.930530e+05</td>\n",
              "      <td>5000</td>\n",
              "      <td>50000000</td>\n",
              "    </tr>\n",
              "    <tr>\n",
              "      <th>GAME_ACTION</th>\n",
              "      <td>0</td>\n",
              "      <td>4.063549e+06</td>\n",
              "      <td>100000</td>\n",
              "      <td>500000000</td>\n",
              "    </tr>\n",
              "    <tr>\n",
              "      <th>GAME_ADVENTURE</th>\n",
              "      <td>1</td>\n",
              "      <td>1.155658e+06</td>\n",
              "      <td>10000</td>\n",
              "      <td>100000000</td>\n",
              "    </tr>\n",
              "    <tr>\n",
              "      <th>GAME_ARCADE</th>\n",
              "      <td>1</td>\n",
              "      <td>2.960377e+06</td>\n",
              "      <td>10000</td>\n",
              "      <td>1000000000</td>\n",
              "    </tr>\n",
              "    <tr>\n",
              "      <th>GAME_BOARD</th>\n",
              "      <td>5</td>\n",
              "      <td>1.159017e+06</td>\n",
              "      <td>10000</td>\n",
              "      <td>100000000</td>\n",
              "    </tr>\n",
              "    <tr>\n",
              "      <th>GAME_CARD</th>\n",
              "      <td>1</td>\n",
              "      <td>8.000250e+05</td>\n",
              "      <td>100000</td>\n",
              "      <td>100000000</td>\n",
              "    </tr>\n",
              "    <tr>\n",
              "      <th>GAME_CASINO</th>\n",
              "      <td>5</td>\n",
              "      <td>1.769368e+06</td>\n",
              "      <td>100000</td>\n",
              "      <td>50000000</td>\n",
              "    </tr>\n",
              "    <tr>\n",
              "      <th>GAME_CASUAL</th>\n",
              "      <td>0</td>\n",
              "      <td>2.696059e+06</td>\n",
              "      <td>100000</td>\n",
              "      <td>500000000</td>\n",
              "    </tr>\n",
              "    <tr>\n",
              "      <th>GAME_EDUCATIONAL</th>\n",
              "      <td>0</td>\n",
              "      <td>6.160472e+05</td>\n",
              "      <td>10000</td>\n",
              "      <td>100000000</td>\n",
              "    </tr>\n",
              "    <tr>\n",
              "      <th>GAME_MUSIC</th>\n",
              "      <td>5</td>\n",
              "      <td>2.268880e+06</td>\n",
              "      <td>100000</td>\n",
              "      <td>100000000</td>\n",
              "    </tr>\n",
              "    <tr>\n",
              "      <th>GAME_PUZZLE</th>\n",
              "      <td>0</td>\n",
              "      <td>1.184301e+06</td>\n",
              "      <td>10000</td>\n",
              "      <td>100000000</td>\n",
              "    </tr>\n",
              "    <tr>\n",
              "      <th>GAME_RACING</th>\n",
              "      <td>1</td>\n",
              "      <td>5.540269e+06</td>\n",
              "      <td>500000</td>\n",
              "      <td>500000000</td>\n",
              "    </tr>\n",
              "    <tr>\n",
              "      <th>GAME_ROLE_PLAYING</th>\n",
              "      <td>10</td>\n",
              "      <td>1.139481e+06</td>\n",
              "      <td>100000</td>\n",
              "      <td>50000000</td>\n",
              "    </tr>\n",
              "    <tr>\n",
              "      <th>GAME_SIMULATION</th>\n",
              "      <td>5</td>\n",
              "      <td>1.807155e+06</td>\n",
              "      <td>100000</td>\n",
              "      <td>100000000</td>\n",
              "    </tr>\n",
              "    <tr>\n",
              "      <th>GAME_SPORTS</th>\n",
              "      <td>10</td>\n",
              "      <td>3.580514e+06</td>\n",
              "      <td>100000</td>\n",
              "      <td>100000000</td>\n",
              "    </tr>\n",
              "    <tr>\n",
              "      <th>GAME_STRATEGY</th>\n",
              "      <td>1</td>\n",
              "      <td>2.544039e+06</td>\n",
              "      <td>100000</td>\n",
              "      <td>500000000</td>\n",
              "    </tr>\n",
              "    <tr>\n",
              "      <th>GAME_TRIVIA</th>\n",
              "      <td>1</td>\n",
              "      <td>6.068273e+05</td>\n",
              "      <td>10000</td>\n",
              "      <td>100000000</td>\n",
              "    </tr>\n",
              "    <tr>\n",
              "      <th>GAME_WORD</th>\n",
              "      <td>0</td>\n",
              "      <td>1.046894e+06</td>\n",
              "      <td>100000</td>\n",
              "      <td>50000000</td>\n",
              "    </tr>\n",
              "    <tr>\n",
              "      <th>HEALTH_AND_FITNESS</th>\n",
              "      <td>0</td>\n",
              "      <td>2.837032e+05</td>\n",
              "      <td>10000</td>\n",
              "      <td>500000000</td>\n",
              "    </tr>\n",
              "    <tr>\n",
              "      <th>HOUSE_AND_HOME</th>\n",
              "      <td>1</td>\n",
              "      <td>3.353328e+05</td>\n",
              "      <td>5000</td>\n",
              "      <td>100000000</td>\n",
              "    </tr>\n",
              "    <tr>\n",
              "      <th>LIBRARIES_AND_DEMO</th>\n",
              "      <td>1</td>\n",
              "      <td>1.630496e+05</td>\n",
              "      <td>5000</td>\n",
              "      <td>10000000</td>\n",
              "    </tr>\n",
              "    <tr>\n",
              "      <th>LIFESTYLE</th>\n",
              "      <td>0</td>\n",
              "      <td>1.463108e+05</td>\n",
              "      <td>10000</td>\n",
              "      <td>100000000</td>\n",
              "    </tr>\n",
              "    <tr>\n",
              "      <th>MAPS_AND_NAVIGATION</th>\n",
              "      <td>1</td>\n",
              "      <td>2.986137e+05</td>\n",
              "      <td>10000</td>\n",
              "      <td>100000000</td>\n",
              "    </tr>\n",
              "    <tr>\n",
              "      <th>MEDICAL</th>\n",
              "      <td>1</td>\n",
              "      <td>5.832896e+04</td>\n",
              "      <td>5000</td>\n",
              "      <td>5000000</td>\n",
              "    </tr>\n",
              "    <tr>\n",
              "      <th>MUSIC_AND_AUDIO</th>\n",
              "      <td>0</td>\n",
              "      <td>3.264714e+05</td>\n",
              "      <td>10000</td>\n",
              "      <td>1000000000</td>\n",
              "    </tr>\n",
              "    <tr>\n",
              "      <th>NEWS_AND_MAGAZINES</th>\n",
              "      <td>0</td>\n",
              "      <td>4.623790e+05</td>\n",
              "      <td>10000</td>\n",
              "      <td>1000000000</td>\n",
              "    </tr>\n",
              "    <tr>\n",
              "      <th>PARENTING</th>\n",
              "      <td>5</td>\n",
              "      <td>1.447583e+05</td>\n",
              "      <td>10000</td>\n",
              "      <td>10000000</td>\n",
              "    </tr>\n",
              "    <tr>\n",
              "      <th>PERSONALIZATION</th>\n",
              "      <td>0</td>\n",
              "      <td>3.970350e+05</td>\n",
              "      <td>10000</td>\n",
              "      <td>100000000</td>\n",
              "    </tr>\n",
              "    <tr>\n",
              "      <th>PHOTOGRAPHY</th>\n",
              "      <td>0</td>\n",
              "      <td>1.292555e+06</td>\n",
              "      <td>50000</td>\n",
              "      <td>1000000000</td>\n",
              "    </tr>\n",
              "    <tr>\n",
              "      <th>PRODUCTIVITY</th>\n",
              "      <td>0</td>\n",
              "      <td>1.391869e+06</td>\n",
              "      <td>10000</td>\n",
              "      <td>1000000000</td>\n",
              "    </tr>\n",
              "    <tr>\n",
              "      <th>SHOPPING</th>\n",
              "      <td>0</td>\n",
              "      <td>6.134706e+05</td>\n",
              "      <td>10000</td>\n",
              "      <td>100000000</td>\n",
              "    </tr>\n",
              "    <tr>\n",
              "      <th>SOCIAL</th>\n",
              "      <td>1</td>\n",
              "      <td>1.490510e+06</td>\n",
              "      <td>10000</td>\n",
              "      <td>1000000000</td>\n",
              "    </tr>\n",
              "    <tr>\n",
              "      <th>SPORTS</th>\n",
              "      <td>1</td>\n",
              "      <td>1.497417e+05</td>\n",
              "      <td>10000</td>\n",
              "      <td>50000000</td>\n",
              "    </tr>\n",
              "    <tr>\n",
              "      <th>TOOLS</th>\n",
              "      <td>0</td>\n",
              "      <td>1.104303e+06</td>\n",
              "      <td>10000</td>\n",
              "      <td>5000000000</td>\n",
              "    </tr>\n",
              "    <tr>\n",
              "      <th>TRAVEL</th>\n",
              "      <td>10000</td>\n",
              "      <td>1.000000e+04</td>\n",
              "      <td>10000</td>\n",
              "      <td>10000</td>\n",
              "    </tr>\n",
              "    <tr>\n",
              "      <th>TRAVEL_AND_LOCAL</th>\n",
              "      <td>0</td>\n",
              "      <td>1.222950e+06</td>\n",
              "      <td>10000</td>\n",
              "      <td>5000000000</td>\n",
              "    </tr>\n",
              "    <tr>\n",
              "      <th>VIDEO_PLAYERS</th>\n",
              "      <td>1</td>\n",
              "      <td>3.554788e+06</td>\n",
              "      <td>10000</td>\n",
              "      <td>5000000000</td>\n",
              "    </tr>\n",
              "    <tr>\n",
              "      <th>WEATHER</th>\n",
              "      <td>5</td>\n",
              "      <td>5.188793e+05</td>\n",
              "      <td>10000</td>\n",
              "      <td>100000000</td>\n",
              "    </tr>\n",
              "  </tbody>\n",
              "</table>\n",
              "</div>"
            ],
            "text/plain": [
              "                       min          mean  median         max\n",
              "Category                                                    \n",
              " Economics            1000  1.000000e+03    1000        1000\n",
              "ART_AND_DESIGN           1  2.105946e+05    5000   100000000\n",
              "AUTO_AND_VEHICLES        1  1.824824e+05    5000    10000000\n",
              "BEAUTY                   0  1.409585e+05   10000    10000000\n",
              "BOOKS_AND_REFERENCE      0  1.008366e+05   10000   100000000\n",
              "BUSINESS                 0  1.455845e+05    1000   100000000\n",
              "COMICS                   5  3.832805e+05   50000    10000000\n",
              "COMMUNICATION            0  2.419759e+06   10000  1000000000\n",
              "DATING                   1  4.595702e+05   10000    10000000\n",
              "EDUCATION                0  7.466526e+04    5000   100000000\n",
              "ENTERTAINMENT            0  3.573559e+05   10000  1000000000\n",
              "EVENTS                   1  4.602683e+04    1000    10000000\n",
              "FINANCE                  0  2.236191e+05   10000   100000000\n",
              "FOOD_AND_DRINK           1  1.930530e+05    5000    50000000\n",
              "GAME_ACTION              0  4.063549e+06  100000   500000000\n",
              "GAME_ADVENTURE           1  1.155658e+06   10000   100000000\n",
              "GAME_ARCADE              1  2.960377e+06   10000  1000000000\n",
              "GAME_BOARD               5  1.159017e+06   10000   100000000\n",
              "GAME_CARD                1  8.000250e+05  100000   100000000\n",
              "GAME_CASINO              5  1.769368e+06  100000    50000000\n",
              "GAME_CASUAL              0  2.696059e+06  100000   500000000\n",
              "GAME_EDUCATIONAL         0  6.160472e+05   10000   100000000\n",
              "GAME_MUSIC               5  2.268880e+06  100000   100000000\n",
              "GAME_PUZZLE              0  1.184301e+06   10000   100000000\n",
              "GAME_RACING              1  5.540269e+06  500000   500000000\n",
              "GAME_ROLE_PLAYING       10  1.139481e+06  100000    50000000\n",
              "GAME_SIMULATION          5  1.807155e+06  100000   100000000\n",
              "GAME_SPORTS             10  3.580514e+06  100000   100000000\n",
              "GAME_STRATEGY            1  2.544039e+06  100000   500000000\n",
              "GAME_TRIVIA              1  6.068273e+05   10000   100000000\n",
              "GAME_WORD                0  1.046894e+06  100000    50000000\n",
              "HEALTH_AND_FITNESS       0  2.837032e+05   10000   500000000\n",
              "HOUSE_AND_HOME           1  3.353328e+05    5000   100000000\n",
              "LIBRARIES_AND_DEMO       1  1.630496e+05    5000    10000000\n",
              "LIFESTYLE                0  1.463108e+05   10000   100000000\n",
              "MAPS_AND_NAVIGATION      1  2.986137e+05   10000   100000000\n",
              "MEDICAL                  1  5.832896e+04    5000     5000000\n",
              "MUSIC_AND_AUDIO          0  3.264714e+05   10000  1000000000\n",
              "NEWS_AND_MAGAZINES       0  4.623790e+05   10000  1000000000\n",
              "PARENTING                5  1.447583e+05   10000    10000000\n",
              "PERSONALIZATION          0  3.970350e+05   10000   100000000\n",
              "PHOTOGRAPHY              0  1.292555e+06   50000  1000000000\n",
              "PRODUCTIVITY             0  1.391869e+06   10000  1000000000\n",
              "SHOPPING                 0  6.134706e+05   10000   100000000\n",
              "SOCIAL                   1  1.490510e+06   10000  1000000000\n",
              "SPORTS                   1  1.497417e+05   10000    50000000\n",
              "TOOLS                    0  1.104303e+06   10000  5000000000\n",
              "TRAVEL               10000  1.000000e+04   10000       10000\n",
              "TRAVEL_AND_LOCAL         0  1.222950e+06   10000  5000000000\n",
              "VIDEO_PLAYERS            1  3.554788e+06   10000  5000000000\n",
              "WEATHER                  5  5.188793e+05   10000   100000000"
            ]
          },
          "metadata": {
            "tags": []
          },
          "execution_count": 93
        }
      ]
    },
    {
      "cell_type": "code",
      "metadata": {
        "id": "yJjrCUCZcNtC",
        "colab_type": "code",
        "colab": {
          "base_uri": "https://localhost:8080/",
          "height": 536
        },
        "outputId": "0aaaba1b-b730-480c-edd2-851ea7506ee8"
      },
      "source": [
        "# Sorting (descending sorting) the dataframe by number of installs\n",
        "\n",
        "app.sort_values(by=\"Installs\", ascending= False)"
      ],
      "execution_count": 94,
      "outputs": [
        {
          "output_type": "execute_result",
          "data": {
            "text/html": [
              "<div>\n",
              "<style scoped>\n",
              "    .dataframe tbody tr th:only-of-type {\n",
              "        vertical-align: middle;\n",
              "    }\n",
              "\n",
              "    .dataframe tbody tr th {\n",
              "        vertical-align: top;\n",
              "    }\n",
              "\n",
              "    .dataframe thead th {\n",
              "        text-align: right;\n",
              "    }\n",
              "</style>\n",
              "<table border=\"1\" class=\"dataframe\">\n",
              "  <thead>\n",
              "    <tr style=\"text-align: right;\">\n",
              "      <th></th>\n",
              "      <th>App Name</th>\n",
              "      <th>Category</th>\n",
              "      <th>Rating</th>\n",
              "      <th>Reviews</th>\n",
              "      <th>Installs</th>\n",
              "      <th>Size</th>\n",
              "      <th>Price</th>\n",
              "      <th>Content Rating</th>\n",
              "      <th>Last Updated</th>\n",
              "      <th>Minimum Version</th>\n",
              "      <th>Latest Version</th>\n",
              "    </tr>\n",
              "  </thead>\n",
              "  <tbody>\n",
              "    <tr>\n",
              "      <th>813</th>\n",
              "      <td>YouTube</td>\n",
              "      <td>VIDEO_PLAYERS</td>\n",
              "      <td>4.368428</td>\n",
              "      <td>41919102.0</td>\n",
              "      <td>5000000000</td>\n",
              "      <td>Varies with device</td>\n",
              "      <td>0.00</td>\n",
              "      <td>Teen</td>\n",
              "      <td>April 2, 2019</td>\n",
              "      <td>Varies with device</td>\n",
              "      <td>Varies with device</td>\n",
              "    </tr>\n",
              "    <tr>\n",
              "      <th>2177</th>\n",
              "      <td>Maps - Navigate &amp; Explore</td>\n",
              "      <td>TRAVEL_AND_LOCAL</td>\n",
              "      <td>4.342798</td>\n",
              "      <td>10083666.0</td>\n",
              "      <td>5000000000</td>\n",
              "      <td>Varies with device</td>\n",
              "      <td>0.00</td>\n",
              "      <td>Everyone</td>\n",
              "      <td>April 1, 2019</td>\n",
              "      <td>Varies with device</td>\n",
              "      <td>Varies with device</td>\n",
              "    </tr>\n",
              "    <tr>\n",
              "      <th>821</th>\n",
              "      <td>Google</td>\n",
              "      <td>TOOLS</td>\n",
              "      <td>4.408893</td>\n",
              "      <td>10870728.0</td>\n",
              "      <td>5000000000</td>\n",
              "      <td>Varies with device</td>\n",
              "      <td>0.00</td>\n",
              "      <td>Everyone</td>\n",
              "      <td>April 1, 2019</td>\n",
              "      <td>Varies with device</td>\n",
              "      <td>Varies with device</td>\n",
              "    </tr>\n",
              "    <tr>\n",
              "      <th>842</th>\n",
              "      <td>Google Chrome: Fast &amp; Secure</td>\n",
              "      <td>COMMUNICATION</td>\n",
              "      <td>4.335205</td>\n",
              "      <td>13636591.0</td>\n",
              "      <td>1000000000</td>\n",
              "      <td>Varies with device</td>\n",
              "      <td>0.00</td>\n",
              "      <td>Everyone</td>\n",
              "      <td>March 26, 2019</td>\n",
              "      <td>Varies with device</td>\n",
              "      <td>Varies with device</td>\n",
              "    </tr>\n",
              "    <tr>\n",
              "      <th>539</th>\n",
              "      <td>Subway Surfers</td>\n",
              "      <td>GAME_ARCADE</td>\n",
              "      <td>4.498131</td>\n",
              "      <td>29834812.0</td>\n",
              "      <td>1000000000</td>\n",
              "      <td>85</td>\n",
              "      <td>0.00</td>\n",
              "      <td>Everyone 10+</td>\n",
              "      <td>March 7, 2019</td>\n",
              "      <td>4.1 and up</td>\n",
              "      <td>1.100.0</td>\n",
              "    </tr>\n",
              "    <tr>\n",
              "      <th>...</th>\n",
              "      <td>...</td>\n",
              "      <td>...</td>\n",
              "      <td>...</td>\n",
              "      <td>...</td>\n",
              "      <td>...</td>\n",
              "      <td>...</td>\n",
              "      <td>...</td>\n",
              "      <td>...</td>\n",
              "      <td>...</td>\n",
              "      <td>...</td>\n",
              "      <td>...</td>\n",
              "    </tr>\n",
              "    <tr>\n",
              "      <th>253182</th>\n",
              "      <td>La Barbiera Sasso Marconi</td>\n",
              "      <td>BEAUTY</td>\n",
              "      <td>5.000000</td>\n",
              "      <td>2.0</td>\n",
              "      <td>0</td>\n",
              "      <td>10</td>\n",
              "      <td>0.00</td>\n",
              "      <td>Everyone</td>\n",
              "      <td>February 14, 2019</td>\n",
              "      <td>4.1 and up</td>\n",
              "      <td>1.12</td>\n",
              "    </tr>\n",
              "    <tr>\n",
              "      <th>249287</th>\n",
              "      <td>Rich &amp; Rich</td>\n",
              "      <td>LIFESTYLE</td>\n",
              "      <td>5.000000</td>\n",
              "      <td>1.0</td>\n",
              "      <td>0</td>\n",
              "      <td>16</td>\n",
              "      <td>369.99</td>\n",
              "      <td>Everyone</td>\n",
              "      <td>March 5, 2017</td>\n",
              "      <td>4.1 and up</td>\n",
              "      <td>1.0.0</td>\n",
              "    </tr>\n",
              "    <tr>\n",
              "      <th>24784</th>\n",
              "      <td>DUA KE QURAN AMHARIC</td>\n",
              "      <td>EDUCATION</td>\n",
              "      <td>4.730337</td>\n",
              "      <td>89.0</td>\n",
              "      <td>0</td>\n",
              "      <td>7.9</td>\n",
              "      <td>0.00</td>\n",
              "      <td>Everyone</td>\n",
              "      <td>May 10, 2018</td>\n",
              "      <td>4.4 and up</td>\n",
              "      <td>1</td>\n",
              "    </tr>\n",
              "    <tr>\n",
              "      <th>166479</th>\n",
              "      <td>??? LED ??????</td>\n",
              "      <td>ENTERTAINMENT</td>\n",
              "      <td>1.941176</td>\n",
              "      <td>17.0</td>\n",
              "      <td>0</td>\n",
              "      <td>2.4</td>\n",
              "      <td>0.00</td>\n",
              "      <td>Everyone</td>\n",
              "      <td>September 25, 2018</td>\n",
              "      <td>5.0 and up</td>\n",
              "      <td>1</td>\n",
              "    </tr>\n",
              "    <tr>\n",
              "      <th>260161</th>\n",
              "      <td>Flugpreise Vergleichen &amp; G�nstige Fl�ge  Low Cost</td>\n",
              "      <td>TRAVEL_AND_LOCAL</td>\n",
              "      <td>5.000000</td>\n",
              "      <td>1.0</td>\n",
              "      <td>0</td>\n",
              "      <td>7.9</td>\n",
              "      <td>0.00</td>\n",
              "      <td>Everyone</td>\n",
              "      <td>March 25, 2019</td>\n",
              "      <td>4.1 and up</td>\n",
              "      <td>2</td>\n",
              "    </tr>\n",
              "  </tbody>\n",
              "</table>\n",
              "<p>267040 rows × 11 columns</p>\n",
              "</div>"
            ],
            "text/plain": [
              "                                                 App Name  ...      Latest Version\n",
              "813                                               YouTube  ...  Varies with device\n",
              "2177                            Maps - Navigate & Explore  ...  Varies with device\n",
              "821                                                Google  ...  Varies with device\n",
              "842                          Google Chrome: Fast & Secure  ...  Varies with device\n",
              "539                                        Subway Surfers  ...             1.100.0\n",
              "...                                                   ...  ...                 ...\n",
              "253182                          La Barbiera Sasso Marconi  ...                1.12\n",
              "249287                                        Rich & Rich  ...               1.0.0\n",
              "24784                                DUA KE QURAN AMHARIC  ...                   1\n",
              "166479                                     ??? LED ??????  ...                   1\n",
              "260161  Flugpreise Vergleichen & G�nstige Fl�ge  Low Cost  ...                   2\n",
              "\n",
              "[267040 rows x 11 columns]"
            ]
          },
          "metadata": {
            "tags": []
          },
          "execution_count": 94
        }
      ]
    },
    {
      "cell_type": "code",
      "metadata": {
        "id": "FREMgQgZcNtE",
        "colab_type": "code",
        "colab": {}
      },
      "source": [
        "top_installed_apps=app.sort_values(by=\"Installs\", ascending= False)"
      ],
      "execution_count": 95,
      "outputs": []
    },
    {
      "cell_type": "code",
      "metadata": {
        "id": "I7ZCCqi9cNtH",
        "colab_type": "code",
        "colab": {
          "base_uri": "https://localhost:8080/",
          "height": 511
        },
        "outputId": "7c97a5cf-ef11-4dce-83cb-df0a699768b7"
      },
      "source": [
        "#*************************************************************\n",
        "\n",
        "# top 10 apps based on the number of installations\n",
        "\n",
        "#*************************************************************\n",
        "\n",
        "top_installed_apps.head(10)"
      ],
      "execution_count": 96,
      "outputs": [
        {
          "output_type": "execute_result",
          "data": {
            "text/html": [
              "<div>\n",
              "<style scoped>\n",
              "    .dataframe tbody tr th:only-of-type {\n",
              "        vertical-align: middle;\n",
              "    }\n",
              "\n",
              "    .dataframe tbody tr th {\n",
              "        vertical-align: top;\n",
              "    }\n",
              "\n",
              "    .dataframe thead th {\n",
              "        text-align: right;\n",
              "    }\n",
              "</style>\n",
              "<table border=\"1\" class=\"dataframe\">\n",
              "  <thead>\n",
              "    <tr style=\"text-align: right;\">\n",
              "      <th></th>\n",
              "      <th>App Name</th>\n",
              "      <th>Category</th>\n",
              "      <th>Rating</th>\n",
              "      <th>Reviews</th>\n",
              "      <th>Installs</th>\n",
              "      <th>Size</th>\n",
              "      <th>Price</th>\n",
              "      <th>Content Rating</th>\n",
              "      <th>Last Updated</th>\n",
              "      <th>Minimum Version</th>\n",
              "      <th>Latest Version</th>\n",
              "    </tr>\n",
              "  </thead>\n",
              "  <tbody>\n",
              "    <tr>\n",
              "      <th>813</th>\n",
              "      <td>YouTube</td>\n",
              "      <td>VIDEO_PLAYERS</td>\n",
              "      <td>4.368428</td>\n",
              "      <td>41919102.0</td>\n",
              "      <td>5000000000</td>\n",
              "      <td>Varies with device</td>\n",
              "      <td>0.0</td>\n",
              "      <td>Teen</td>\n",
              "      <td>April 2, 2019</td>\n",
              "      <td>Varies with device</td>\n",
              "      <td>Varies with device</td>\n",
              "    </tr>\n",
              "    <tr>\n",
              "      <th>2177</th>\n",
              "      <td>Maps - Navigate &amp; Explore</td>\n",
              "      <td>TRAVEL_AND_LOCAL</td>\n",
              "      <td>4.342798</td>\n",
              "      <td>10083666.0</td>\n",
              "      <td>5000000000</td>\n",
              "      <td>Varies with device</td>\n",
              "      <td>0.0</td>\n",
              "      <td>Everyone</td>\n",
              "      <td>April 1, 2019</td>\n",
              "      <td>Varies with device</td>\n",
              "      <td>Varies with device</td>\n",
              "    </tr>\n",
              "    <tr>\n",
              "      <th>821</th>\n",
              "      <td>Google</td>\n",
              "      <td>TOOLS</td>\n",
              "      <td>4.408893</td>\n",
              "      <td>10870728.0</td>\n",
              "      <td>5000000000</td>\n",
              "      <td>Varies with device</td>\n",
              "      <td>0.0</td>\n",
              "      <td>Everyone</td>\n",
              "      <td>April 1, 2019</td>\n",
              "      <td>Varies with device</td>\n",
              "      <td>Varies with device</td>\n",
              "    </tr>\n",
              "    <tr>\n",
              "      <th>842</th>\n",
              "      <td>Google Chrome: Fast &amp; Secure</td>\n",
              "      <td>COMMUNICATION</td>\n",
              "      <td>4.335205</td>\n",
              "      <td>13636591.0</td>\n",
              "      <td>1000000000</td>\n",
              "      <td>Varies with device</td>\n",
              "      <td>0.0</td>\n",
              "      <td>Everyone</td>\n",
              "      <td>March 26, 2019</td>\n",
              "      <td>Varies with device</td>\n",
              "      <td>Varies with device</td>\n",
              "    </tr>\n",
              "    <tr>\n",
              "      <th>539</th>\n",
              "      <td>Subway Surfers</td>\n",
              "      <td>GAME_ARCADE</td>\n",
              "      <td>4.498131</td>\n",
              "      <td>29834812.0</td>\n",
              "      <td>1000000000</td>\n",
              "      <td>85</td>\n",
              "      <td>0.0</td>\n",
              "      <td>Everyone 10+</td>\n",
              "      <td>March 7, 2019</td>\n",
              "      <td>4.1 and up</td>\n",
              "      <td>1.100.0</td>\n",
              "    </tr>\n",
              "    <tr>\n",
              "      <th>2147</th>\n",
              "      <td>Google Street View</td>\n",
              "      <td>TRAVEL_AND_LOCAL</td>\n",
              "      <td>4.215697</td>\n",
              "      <td>2171998.0</td>\n",
              "      <td>1000000000</td>\n",
              "      <td>Varies with device</td>\n",
              "      <td>0.0</td>\n",
              "      <td>Everyone</td>\n",
              "      <td>March 11, 2019</td>\n",
              "      <td>Varies with device</td>\n",
              "      <td>Varies with device</td>\n",
              "    </tr>\n",
              "    <tr>\n",
              "      <th>28676</th>\n",
              "      <td>Samsung Print Service Plugin</td>\n",
              "      <td>PRODUCTIVITY</td>\n",
              "      <td>4.204499</td>\n",
              "      <td>322275.0</td>\n",
              "      <td>1000000000</td>\n",
              "      <td>Varies with device</td>\n",
              "      <td>0.0</td>\n",
              "      <td>Everyone</td>\n",
              "      <td>October 5, 2018</td>\n",
              "      <td>4.4 and up</td>\n",
              "      <td>Varies with device</td>\n",
              "    </tr>\n",
              "    <tr>\n",
              "      <th>704</th>\n",
              "      <td>Facebook</td>\n",
              "      <td>SOCIAL</td>\n",
              "      <td>4.087946</td>\n",
              "      <td>85766433.0</td>\n",
              "      <td>1000000000</td>\n",
              "      <td>Varies with device</td>\n",
              "      <td>0.0</td>\n",
              "      <td>Teen</td>\n",
              "      <td>April 2, 2019</td>\n",
              "      <td>Varies with device</td>\n",
              "      <td>Varies with device</td>\n",
              "    </tr>\n",
              "    <tr>\n",
              "      <th>6411</th>\n",
              "      <td>Google Duo - High Quality Video Calls</td>\n",
              "      <td>COMMUNICATION</td>\n",
              "      <td>4.596404</td>\n",
              "      <td>3641252.0</td>\n",
              "      <td>1000000000</td>\n",
              "      <td>20</td>\n",
              "      <td>0.0</td>\n",
              "      <td>Everyone</td>\n",
              "      <td>April 2, 2019</td>\n",
              "      <td>4.4 and up</td>\n",
              "      <td>50.1.240885383.DR50_RC06</td>\n",
              "    </tr>\n",
              "    <tr>\n",
              "      <th>6412</th>\n",
              "      <td>Google Play Movies &amp; TV</td>\n",
              "      <td>VIDEO_PLAYERS</td>\n",
              "      <td>3.703356</td>\n",
              "      <td>1048972.0</td>\n",
              "      <td>1000000000</td>\n",
              "      <td>Varies with device</td>\n",
              "      <td>0.0</td>\n",
              "      <td>Teen</td>\n",
              "      <td>April 1, 2019</td>\n",
              "      <td>Varies with device</td>\n",
              "      <td>Varies with device</td>\n",
              "    </tr>\n",
              "  </tbody>\n",
              "</table>\n",
              "</div>"
            ],
            "text/plain": [
              "                                    App Name  ...            Latest Version\n",
              "813                                  YouTube  ...        Varies with device\n",
              "2177               Maps - Navigate & Explore  ...        Varies with device\n",
              "821                                   Google  ...        Varies with device\n",
              "842             Google Chrome: Fast & Secure  ...        Varies with device\n",
              "539                           Subway Surfers  ...                   1.100.0\n",
              "2147                      Google Street View  ...        Varies with device\n",
              "28676           Samsung Print Service Plugin  ...        Varies with device\n",
              "704                                 Facebook  ...        Varies with device\n",
              "6411   Google Duo - High Quality Video Calls  ...  50.1.240885383.DR50_RC06\n",
              "6412                 Google Play Movies & TV  ...        Varies with device\n",
              "\n",
              "[10 rows x 11 columns]"
            ]
          },
          "metadata": {
            "tags": []
          },
          "execution_count": 96
        }
      ]
    },
    {
      "cell_type": "code",
      "metadata": {
        "id": "8f71N-RvcNtN",
        "colab_type": "code",
        "colab": {
          "base_uri": "https://localhost:8080/",
          "height": 34
        },
        "outputId": "57abf549-6a4d-4a58-baa2-a7ce3f677ba2"
      },
      "source": [
        "# Apps with 5 billion installations (5b is the 1st greater class of installations in the dataset)\n",
        "\n",
        "len(app[app[\"Installs\"]>= 5000000000])"
      ],
      "execution_count": 97,
      "outputs": [
        {
          "output_type": "execute_result",
          "data": {
            "text/plain": [
              "3"
            ]
          },
          "metadata": {
            "tags": []
          },
          "execution_count": 97
        }
      ]
    },
    {
      "cell_type": "code",
      "metadata": {
        "id": "oZnr8aRlcNtP",
        "colab_type": "code",
        "colab": {
          "base_uri": "https://localhost:8080/",
          "height": 34
        },
        "outputId": "2f91353f-855f-4da1-b3a5-0a161b8c3e3a"
      },
      "source": [
        "# Apps with more than 1 billion installations (1b is the 2nd greater class of installations in the dataset)\n",
        "\n",
        "len(app[app[\"Installs\"]>= 1000000000])"
      ],
      "execution_count": 98,
      "outputs": [
        {
          "output_type": "execute_result",
          "data": {
            "text/plain": [
              "27"
            ]
          },
          "metadata": {
            "tags": []
          },
          "execution_count": 98
        }
      ]
    },
    {
      "cell_type": "code",
      "metadata": {
        "id": "WyNVgiblcNtT",
        "colab_type": "code",
        "colab": {
          "base_uri": "https://localhost:8080/",
          "height": 536
        },
        "outputId": "4294a09e-aa8e-4f3b-a24f-b51ec6facc6d"
      },
      "source": [
        "top_installed_and_rated_apps = app.sort_values(by=[\"Installs\", \"Rating\"], ascending=False)\n",
        "top_installed_and_rated_apps # main top apps"
      ],
      "execution_count": 99,
      "outputs": [
        {
          "output_type": "execute_result",
          "data": {
            "text/html": [
              "<div>\n",
              "<style scoped>\n",
              "    .dataframe tbody tr th:only-of-type {\n",
              "        vertical-align: middle;\n",
              "    }\n",
              "\n",
              "    .dataframe tbody tr th {\n",
              "        vertical-align: top;\n",
              "    }\n",
              "\n",
              "    .dataframe thead th {\n",
              "        text-align: right;\n",
              "    }\n",
              "</style>\n",
              "<table border=\"1\" class=\"dataframe\">\n",
              "  <thead>\n",
              "    <tr style=\"text-align: right;\">\n",
              "      <th></th>\n",
              "      <th>App Name</th>\n",
              "      <th>Category</th>\n",
              "      <th>Rating</th>\n",
              "      <th>Reviews</th>\n",
              "      <th>Installs</th>\n",
              "      <th>Size</th>\n",
              "      <th>Price</th>\n",
              "      <th>Content Rating</th>\n",
              "      <th>Last Updated</th>\n",
              "      <th>Minimum Version</th>\n",
              "      <th>Latest Version</th>\n",
              "    </tr>\n",
              "  </thead>\n",
              "  <tbody>\n",
              "    <tr>\n",
              "      <th>821</th>\n",
              "      <td>Google</td>\n",
              "      <td>TOOLS</td>\n",
              "      <td>4.408893</td>\n",
              "      <td>10870728.0</td>\n",
              "      <td>5000000000</td>\n",
              "      <td>Varies with device</td>\n",
              "      <td>0.0</td>\n",
              "      <td>Everyone</td>\n",
              "      <td>April 1, 2019</td>\n",
              "      <td>Varies with device</td>\n",
              "      <td>Varies with device</td>\n",
              "    </tr>\n",
              "    <tr>\n",
              "      <th>813</th>\n",
              "      <td>YouTube</td>\n",
              "      <td>VIDEO_PLAYERS</td>\n",
              "      <td>4.368428</td>\n",
              "      <td>41919102.0</td>\n",
              "      <td>5000000000</td>\n",
              "      <td>Varies with device</td>\n",
              "      <td>0.0</td>\n",
              "      <td>Teen</td>\n",
              "      <td>April 2, 2019</td>\n",
              "      <td>Varies with device</td>\n",
              "      <td>Varies with device</td>\n",
              "    </tr>\n",
              "    <tr>\n",
              "      <th>2177</th>\n",
              "      <td>Maps - Navigate &amp; Explore</td>\n",
              "      <td>TRAVEL_AND_LOCAL</td>\n",
              "      <td>4.342798</td>\n",
              "      <td>10083666.0</td>\n",
              "      <td>5000000000</td>\n",
              "      <td>Varies with device</td>\n",
              "      <td>0.0</td>\n",
              "      <td>Everyone</td>\n",
              "      <td>April 1, 2019</td>\n",
              "      <td>Varies with device</td>\n",
              "      <td>Varies with device</td>\n",
              "    </tr>\n",
              "    <tr>\n",
              "      <th>7064</th>\n",
              "      <td>Clean Master - Antivirus, Applock &amp; Cleaner</td>\n",
              "      <td>TOOLS</td>\n",
              "      <td>4.657038</td>\n",
              "      <td>44171776.0</td>\n",
              "      <td>1000000000</td>\n",
              "      <td>20</td>\n",
              "      <td>0.0</td>\n",
              "      <td>Everyone</td>\n",
              "      <td>April 1, 2019</td>\n",
              "      <td>Varies with device</td>\n",
              "      <td>7.0.6</td>\n",
              "    </tr>\n",
              "    <tr>\n",
              "      <th>6411</th>\n",
              "      <td>Google Duo - High Quality Video Calls</td>\n",
              "      <td>COMMUNICATION</td>\n",
              "      <td>4.596404</td>\n",
              "      <td>3641252.0</td>\n",
              "      <td>1000000000</td>\n",
              "      <td>20</td>\n",
              "      <td>0.0</td>\n",
              "      <td>Everyone</td>\n",
              "      <td>April 2, 2019</td>\n",
              "      <td>4.4 and up</td>\n",
              "      <td>50.1.240885383.DR50_RC06</td>\n",
              "    </tr>\n",
              "    <tr>\n",
              "      <th>...</th>\n",
              "      <td>...</td>\n",
              "      <td>...</td>\n",
              "      <td>...</td>\n",
              "      <td>...</td>\n",
              "      <td>...</td>\n",
              "      <td>...</td>\n",
              "      <td>...</td>\n",
              "      <td>...</td>\n",
              "      <td>...</td>\n",
              "      <td>...</td>\n",
              "      <td>...</td>\n",
              "    </tr>\n",
              "    <tr>\n",
              "      <th>226376</th>\n",
              "      <td>Say My Text (Speech synthesizer)</td>\n",
              "      <td>TOOLS</td>\n",
              "      <td>3.000000</td>\n",
              "      <td>2.0</td>\n",
              "      <td>0</td>\n",
              "      <td>5.4</td>\n",
              "      <td>0.0</td>\n",
              "      <td>Everyone</td>\n",
              "      <td>March 6, 2019</td>\n",
              "      <td>4.1 and up</td>\n",
              "      <td>1.0.0</td>\n",
              "    </tr>\n",
              "    <tr>\n",
              "      <th>39673</th>\n",
              "      <td>Vadaa Hunt</td>\n",
              "      <td>GAME_CASUAL</td>\n",
              "      <td>2.333333</td>\n",
              "      <td>3.0</td>\n",
              "      <td>0</td>\n",
              "      <td>20</td>\n",
              "      <td>0.0</td>\n",
              "      <td>Everyone</td>\n",
              "      <td>December 5, 2018</td>\n",
              "      <td>4.4 and up</td>\n",
              "      <td>1.0.4</td>\n",
              "    </tr>\n",
              "    <tr>\n",
              "      <th>225594</th>\n",
              "      <td>PIP Collage Maker Professional</td>\n",
              "      <td>PHOTOGRAPHY</td>\n",
              "      <td>2.130435</td>\n",
              "      <td>46.0</td>\n",
              "      <td>0</td>\n",
              "      <td>8.3</td>\n",
              "      <td>0.0</td>\n",
              "      <td>Everyone</td>\n",
              "      <td>March 29, 2019</td>\n",
              "      <td>4.4 and up</td>\n",
              "      <td>2.5</td>\n",
              "    </tr>\n",
              "    <tr>\n",
              "      <th>166479</th>\n",
              "      <td>??? LED ??????</td>\n",
              "      <td>ENTERTAINMENT</td>\n",
              "      <td>1.941176</td>\n",
              "      <td>17.0</td>\n",
              "      <td>0</td>\n",
              "      <td>2.4</td>\n",
              "      <td>0.0</td>\n",
              "      <td>Everyone</td>\n",
              "      <td>September 25, 2018</td>\n",
              "      <td>5.0 and up</td>\n",
              "      <td>1</td>\n",
              "    </tr>\n",
              "    <tr>\n",
              "      <th>184817</th>\n",
              "      <td>Diabetes Ratgeber AR</td>\n",
              "      <td>HEALTH_AND_FITNESS</td>\n",
              "      <td>1.250000</td>\n",
              "      <td>4.0</td>\n",
              "      <td>0</td>\n",
              "      <td>60</td>\n",
              "      <td>0.0</td>\n",
              "      <td>Everyone</td>\n",
              "      <td>May 14, 2018</td>\n",
              "      <td>4.4 and up</td>\n",
              "      <td>1</td>\n",
              "    </tr>\n",
              "  </tbody>\n",
              "</table>\n",
              "<p>267040 rows × 11 columns</p>\n",
              "</div>"
            ],
            "text/plain": [
              "                                           App Name  ...            Latest Version\n",
              "821                                          Google  ...        Varies with device\n",
              "813                                         YouTube  ...        Varies with device\n",
              "2177                      Maps - Navigate & Explore  ...        Varies with device\n",
              "7064    Clean Master - Antivirus, Applock & Cleaner  ...                     7.0.6\n",
              "6411          Google Duo - High Quality Video Calls  ...  50.1.240885383.DR50_RC06\n",
              "...                                             ...  ...                       ...\n",
              "226376             Say My Text (Speech synthesizer)  ...                     1.0.0\n",
              "39673                                    Vadaa Hunt  ...                     1.0.4\n",
              "225594               PIP Collage Maker Professional  ...                       2.5\n",
              "166479                               ??? LED ??????  ...                         1\n",
              "184817                         Diabetes Ratgeber AR  ...                         1\n",
              "\n",
              "[267040 rows x 11 columns]"
            ]
          },
          "metadata": {
            "tags": []
          },
          "execution_count": 99
        }
      ]
    },
    {
      "cell_type": "code",
      "metadata": {
        "id": "SCgCKBIBcNtZ",
        "colab_type": "code",
        "colab": {
          "base_uri": "https://localhost:8080/",
          "height": 478
        },
        "outputId": "b823eb62-caef-4bc1-c5ce-4dc5c513be8e"
      },
      "source": [
        "#**************************************************************************\n",
        "# top 10 apps based on the number of installations and rating together (main top apps)\n",
        "#**************************************************************************\n",
        "\n",
        "top_installed_and_rated_apps.head(10)"
      ],
      "execution_count": 100,
      "outputs": [
        {
          "output_type": "execute_result",
          "data": {
            "text/html": [
              "<div>\n",
              "<style scoped>\n",
              "    .dataframe tbody tr th:only-of-type {\n",
              "        vertical-align: middle;\n",
              "    }\n",
              "\n",
              "    .dataframe tbody tr th {\n",
              "        vertical-align: top;\n",
              "    }\n",
              "\n",
              "    .dataframe thead th {\n",
              "        text-align: right;\n",
              "    }\n",
              "</style>\n",
              "<table border=\"1\" class=\"dataframe\">\n",
              "  <thead>\n",
              "    <tr style=\"text-align: right;\">\n",
              "      <th></th>\n",
              "      <th>App Name</th>\n",
              "      <th>Category</th>\n",
              "      <th>Rating</th>\n",
              "      <th>Reviews</th>\n",
              "      <th>Installs</th>\n",
              "      <th>Size</th>\n",
              "      <th>Price</th>\n",
              "      <th>Content Rating</th>\n",
              "      <th>Last Updated</th>\n",
              "      <th>Minimum Version</th>\n",
              "      <th>Latest Version</th>\n",
              "    </tr>\n",
              "  </thead>\n",
              "  <tbody>\n",
              "    <tr>\n",
              "      <th>821</th>\n",
              "      <td>Google</td>\n",
              "      <td>TOOLS</td>\n",
              "      <td>4.408893</td>\n",
              "      <td>10870728.0</td>\n",
              "      <td>5000000000</td>\n",
              "      <td>Varies with device</td>\n",
              "      <td>0.0</td>\n",
              "      <td>Everyone</td>\n",
              "      <td>April 1, 2019</td>\n",
              "      <td>Varies with device</td>\n",
              "      <td>Varies with device</td>\n",
              "    </tr>\n",
              "    <tr>\n",
              "      <th>813</th>\n",
              "      <td>YouTube</td>\n",
              "      <td>VIDEO_PLAYERS</td>\n",
              "      <td>4.368428</td>\n",
              "      <td>41919102.0</td>\n",
              "      <td>5000000000</td>\n",
              "      <td>Varies with device</td>\n",
              "      <td>0.0</td>\n",
              "      <td>Teen</td>\n",
              "      <td>April 2, 2019</td>\n",
              "      <td>Varies with device</td>\n",
              "      <td>Varies with device</td>\n",
              "    </tr>\n",
              "    <tr>\n",
              "      <th>2177</th>\n",
              "      <td>Maps - Navigate &amp; Explore</td>\n",
              "      <td>TRAVEL_AND_LOCAL</td>\n",
              "      <td>4.342798</td>\n",
              "      <td>10083666.0</td>\n",
              "      <td>5000000000</td>\n",
              "      <td>Varies with device</td>\n",
              "      <td>0.0</td>\n",
              "      <td>Everyone</td>\n",
              "      <td>April 1, 2019</td>\n",
              "      <td>Varies with device</td>\n",
              "      <td>Varies with device</td>\n",
              "    </tr>\n",
              "    <tr>\n",
              "      <th>7064</th>\n",
              "      <td>Clean Master - Antivirus, Applock &amp; Cleaner</td>\n",
              "      <td>TOOLS</td>\n",
              "      <td>4.657038</td>\n",
              "      <td>44171776.0</td>\n",
              "      <td>1000000000</td>\n",
              "      <td>20</td>\n",
              "      <td>0.0</td>\n",
              "      <td>Everyone</td>\n",
              "      <td>April 1, 2019</td>\n",
              "      <td>Varies with device</td>\n",
              "      <td>7.0.6</td>\n",
              "    </tr>\n",
              "    <tr>\n",
              "      <th>6411</th>\n",
              "      <td>Google Duo - High Quality Video Calls</td>\n",
              "      <td>COMMUNICATION</td>\n",
              "      <td>4.596404</td>\n",
              "      <td>3641252.0</td>\n",
              "      <td>1000000000</td>\n",
              "      <td>20</td>\n",
              "      <td>0.0</td>\n",
              "      <td>Everyone</td>\n",
              "      <td>April 2, 2019</td>\n",
              "      <td>4.4 and up</td>\n",
              "      <td>50.1.240885383.DR50_RC06</td>\n",
              "    </tr>\n",
              "    <tr>\n",
              "      <th>3269</th>\n",
              "      <td>SHAREit - Transfer &amp; Share</td>\n",
              "      <td>TOOLS</td>\n",
              "      <td>4.579340</td>\n",
              "      <td>10450444.0</td>\n",
              "      <td>1000000000</td>\n",
              "      <td>20</td>\n",
              "      <td>0.0</td>\n",
              "      <td>Everyone</td>\n",
              "      <td>April 1, 2019</td>\n",
              "      <td>4.1 and up</td>\n",
              "      <td>4.7.38_ww</td>\n",
              "    </tr>\n",
              "    <tr>\n",
              "      <th>1259</th>\n",
              "      <td>Google Photos</td>\n",
              "      <td>PHOTOGRAPHY</td>\n",
              "      <td>4.542380</td>\n",
              "      <td>16278468.0</td>\n",
              "      <td>1000000000</td>\n",
              "      <td>Varies with device</td>\n",
              "      <td>0.0</td>\n",
              "      <td>Everyone</td>\n",
              "      <td>April 2, 2019</td>\n",
              "      <td>Varies with device</td>\n",
              "      <td>Varies with device</td>\n",
              "    </tr>\n",
              "    <tr>\n",
              "      <th>653</th>\n",
              "      <td>Instagram</td>\n",
              "      <td>SOCIAL</td>\n",
              "      <td>4.519560</td>\n",
              "      <td>79726403.0</td>\n",
              "      <td>1000000000</td>\n",
              "      <td>Varies with device</td>\n",
              "      <td>0.0</td>\n",
              "      <td>Teen</td>\n",
              "      <td>April 2, 2019</td>\n",
              "      <td>Varies with device</td>\n",
              "      <td>Varies with device</td>\n",
              "    </tr>\n",
              "    <tr>\n",
              "      <th>539</th>\n",
              "      <td>Subway Surfers</td>\n",
              "      <td>GAME_ARCADE</td>\n",
              "      <td>4.498131</td>\n",
              "      <td>29834812.0</td>\n",
              "      <td>1000000000</td>\n",
              "      <td>85</td>\n",
              "      <td>0.0</td>\n",
              "      <td>Everyone 10+</td>\n",
              "      <td>March 7, 2019</td>\n",
              "      <td>4.1 and up</td>\n",
              "      <td>1.100.0</td>\n",
              "    </tr>\n",
              "    <tr>\n",
              "      <th>3267</th>\n",
              "      <td>Samsung Internet Browser</td>\n",
              "      <td>COMMUNICATION</td>\n",
              "      <td>4.424015</td>\n",
              "      <td>832714.0</td>\n",
              "      <td>1000000000</td>\n",
              "      <td>Varies with device</td>\n",
              "      <td>0.0</td>\n",
              "      <td>Everyone</td>\n",
              "      <td>February 21, 2019</td>\n",
              "      <td>5.0 and up</td>\n",
              "      <td>Varies with device</td>\n",
              "    </tr>\n",
              "  </tbody>\n",
              "</table>\n",
              "</div>"
            ],
            "text/plain": [
              "                                         App Name  ...            Latest Version\n",
              "821                                        Google  ...        Varies with device\n",
              "813                                       YouTube  ...        Varies with device\n",
              "2177                    Maps - Navigate & Explore  ...        Varies with device\n",
              "7064  Clean Master - Antivirus, Applock & Cleaner  ...                     7.0.6\n",
              "6411        Google Duo - High Quality Video Calls  ...  50.1.240885383.DR50_RC06\n",
              "3269                   SHAREit - Transfer & Share  ...                 4.7.38_ww\n",
              "1259                                Google Photos  ...        Varies with device\n",
              "653                                     Instagram  ...        Varies with device\n",
              "539                                Subway Surfers  ...                   1.100.0\n",
              "3267                     Samsung Internet Browser  ...        Varies with device\n",
              "\n",
              "[10 rows x 11 columns]"
            ]
          },
          "metadata": {
            "tags": []
          },
          "execution_count": 100
        }
      ]
    },
    {
      "cell_type": "code",
      "metadata": {
        "id": "pF0rGPhMcNtb",
        "colab_type": "code",
        "colab": {
          "base_uri": "https://localhost:8080/",
          "height": 586
        },
        "outputId": "e5fb8f70-b49a-4dce-880c-bd1d8f91afc6"
      },
      "source": [
        "top_installed_and_reviewed_apps = app.sort_values(by=[\"Installs\", \"Reviews\"], ascending=False)\n",
        "top_installed_and_reviewed_apps"
      ],
      "execution_count": 101,
      "outputs": [
        {
          "output_type": "execute_result",
          "data": {
            "text/html": [
              "<div>\n",
              "<style scoped>\n",
              "    .dataframe tbody tr th:only-of-type {\n",
              "        vertical-align: middle;\n",
              "    }\n",
              "\n",
              "    .dataframe tbody tr th {\n",
              "        vertical-align: top;\n",
              "    }\n",
              "\n",
              "    .dataframe thead th {\n",
              "        text-align: right;\n",
              "    }\n",
              "</style>\n",
              "<table border=\"1\" class=\"dataframe\">\n",
              "  <thead>\n",
              "    <tr style=\"text-align: right;\">\n",
              "      <th></th>\n",
              "      <th>App Name</th>\n",
              "      <th>Category</th>\n",
              "      <th>Rating</th>\n",
              "      <th>Reviews</th>\n",
              "      <th>Installs</th>\n",
              "      <th>Size</th>\n",
              "      <th>Price</th>\n",
              "      <th>Content Rating</th>\n",
              "      <th>Last Updated</th>\n",
              "      <th>Minimum Version</th>\n",
              "      <th>Latest Version</th>\n",
              "    </tr>\n",
              "  </thead>\n",
              "  <tbody>\n",
              "    <tr>\n",
              "      <th>813</th>\n",
              "      <td>YouTube</td>\n",
              "      <td>VIDEO_PLAYERS</td>\n",
              "      <td>4.368428</td>\n",
              "      <td>41919102.0</td>\n",
              "      <td>5000000000</td>\n",
              "      <td>Varies with device</td>\n",
              "      <td>0.00</td>\n",
              "      <td>Teen</td>\n",
              "      <td>April 2, 2019</td>\n",
              "      <td>Varies with device</td>\n",
              "      <td>Varies with device</td>\n",
              "    </tr>\n",
              "    <tr>\n",
              "      <th>821</th>\n",
              "      <td>Google</td>\n",
              "      <td>TOOLS</td>\n",
              "      <td>4.408893</td>\n",
              "      <td>10870728.0</td>\n",
              "      <td>5000000000</td>\n",
              "      <td>Varies with device</td>\n",
              "      <td>0.00</td>\n",
              "      <td>Everyone</td>\n",
              "      <td>April 1, 2019</td>\n",
              "      <td>Varies with device</td>\n",
              "      <td>Varies with device</td>\n",
              "    </tr>\n",
              "    <tr>\n",
              "      <th>2177</th>\n",
              "      <td>Maps - Navigate &amp; Explore</td>\n",
              "      <td>TRAVEL_AND_LOCAL</td>\n",
              "      <td>4.342798</td>\n",
              "      <td>10083666.0</td>\n",
              "      <td>5000000000</td>\n",
              "      <td>Varies with device</td>\n",
              "      <td>0.00</td>\n",
              "      <td>Everyone</td>\n",
              "      <td>April 1, 2019</td>\n",
              "      <td>Varies with device</td>\n",
              "      <td>Varies with device</td>\n",
              "    </tr>\n",
              "    <tr>\n",
              "      <th>671</th>\n",
              "      <td>WhatsApp Messenger</td>\n",
              "      <td>COMMUNICATION</td>\n",
              "      <td>4.417610</td>\n",
              "      <td>86214292.0</td>\n",
              "      <td>1000000000</td>\n",
              "      <td>Varies with device</td>\n",
              "      <td>0.00</td>\n",
              "      <td>Everyone</td>\n",
              "      <td>March 27, 2019</td>\n",
              "      <td>Varies with device</td>\n",
              "      <td>Varies with device</td>\n",
              "    </tr>\n",
              "    <tr>\n",
              "      <th>704</th>\n",
              "      <td>Facebook</td>\n",
              "      <td>SOCIAL</td>\n",
              "      <td>4.087946</td>\n",
              "      <td>85766433.0</td>\n",
              "      <td>1000000000</td>\n",
              "      <td>Varies with device</td>\n",
              "      <td>0.00</td>\n",
              "      <td>Teen</td>\n",
              "      <td>April 2, 2019</td>\n",
              "      <td>Varies with device</td>\n",
              "      <td>Varies with device</td>\n",
              "    </tr>\n",
              "    <tr>\n",
              "      <th>...</th>\n",
              "      <td>...</td>\n",
              "      <td>...</td>\n",
              "      <td>...</td>\n",
              "      <td>...</td>\n",
              "      <td>...</td>\n",
              "      <td>...</td>\n",
              "      <td>...</td>\n",
              "      <td>...</td>\n",
              "      <td>...</td>\n",
              "      <td>...</td>\n",
              "      <td>...</td>\n",
              "    </tr>\n",
              "    <tr>\n",
              "      <th>249287</th>\n",
              "      <td>Rich &amp; Rich</td>\n",
              "      <td>LIFESTYLE</td>\n",
              "      <td>5.000000</td>\n",
              "      <td>1.0</td>\n",
              "      <td>0</td>\n",
              "      <td>16</td>\n",
              "      <td>369.99</td>\n",
              "      <td>Everyone</td>\n",
              "      <td>March 5, 2017</td>\n",
              "      <td>4.1 and up</td>\n",
              "      <td>1.0.0</td>\n",
              "    </tr>\n",
              "    <tr>\n",
              "      <th>251001</th>\n",
              "      <td>Tamil Dictionary Offline &amp; Multilingual Transl...</td>\n",
              "      <td>BOOKS_AND_REFERENCE</td>\n",
              "      <td>5.000000</td>\n",
              "      <td>1.0</td>\n",
              "      <td>0</td>\n",
              "      <td>11</td>\n",
              "      <td>0.00</td>\n",
              "      <td>Everyone</td>\n",
              "      <td>March 24, 2019</td>\n",
              "      <td>5.0 and up</td>\n",
              "      <td>1.0.0</td>\n",
              "    </tr>\n",
              "    <tr>\n",
              "      <th>260161</th>\n",
              "      <td>Flugpreise Vergleichen &amp; G�nstige Fl�ge  Low Cost</td>\n",
              "      <td>TRAVEL_AND_LOCAL</td>\n",
              "      <td>5.000000</td>\n",
              "      <td>1.0</td>\n",
              "      <td>0</td>\n",
              "      <td>7.9</td>\n",
              "      <td>0.00</td>\n",
              "      <td>Everyone</td>\n",
              "      <td>March 25, 2019</td>\n",
              "      <td>4.1 and up</td>\n",
              "      <td>2</td>\n",
              "    </tr>\n",
              "    <tr>\n",
              "      <th>264007</th>\n",
              "      <td>Fm Resplandecer Misiones</td>\n",
              "      <td>MUSIC_AND_AUDIO</td>\n",
              "      <td>5.000000</td>\n",
              "      <td>1.0</td>\n",
              "      <td>0</td>\n",
              "      <td>2.1</td>\n",
              "      <td>0.00</td>\n",
              "      <td>Everyone</td>\n",
              "      <td>March 26, 2019</td>\n",
              "      <td>4.0.3 and up</td>\n",
              "      <td>1.1</td>\n",
              "    </tr>\n",
              "    <tr>\n",
              "      <th>265585</th>\n",
              "      <td>DEUTSCH WITZE 2019</td>\n",
              "      <td>COMMUNICATION</td>\n",
              "      <td>5.000000</td>\n",
              "      <td>1.0</td>\n",
              "      <td>0</td>\n",
              "      <td>4.3</td>\n",
              "      <td>0.00</td>\n",
              "      <td>Everyone 10+</td>\n",
              "      <td>March 25, 2019</td>\n",
              "      <td>4.0 and up</td>\n",
              "      <td>1.0.3.2</td>\n",
              "    </tr>\n",
              "  </tbody>\n",
              "</table>\n",
              "<p>267040 rows × 11 columns</p>\n",
              "</div>"
            ],
            "text/plain": [
              "                                                 App Name  ...      Latest Version\n",
              "813                                               YouTube  ...  Varies with device\n",
              "821                                                Google  ...  Varies with device\n",
              "2177                            Maps - Navigate & Explore  ...  Varies with device\n",
              "671                                    WhatsApp Messenger  ...  Varies with device\n",
              "704                                              Facebook  ...  Varies with device\n",
              "...                                                   ...  ...                 ...\n",
              "249287                                        Rich & Rich  ...               1.0.0\n",
              "251001  Tamil Dictionary Offline & Multilingual Transl...  ...               1.0.0\n",
              "260161  Flugpreise Vergleichen & G�nstige Fl�ge  Low Cost  ...                   2\n",
              "264007                           Fm Resplandecer Misiones  ...                 1.1\n",
              "265585                                 DEUTSCH WITZE 2019  ...             1.0.3.2\n",
              "\n",
              "[267040 rows x 11 columns]"
            ]
          },
          "metadata": {
            "tags": []
          },
          "execution_count": 101
        }
      ]
    },
    {
      "cell_type": "code",
      "metadata": {
        "id": "flf5pOQgcNtd",
        "colab_type": "code",
        "colab": {
          "base_uri": "https://localhost:8080/",
          "height": 343
        },
        "outputId": "380ab9b4-8f29-48b0-a87d-844f73a38e26"
      },
      "source": [
        "#**************************************************************************\n",
        "# top 10 apps based on the number of installations and reviews together\n",
        "#**************************************************************************\n",
        "\n",
        "top_installed_and_reviewed_apps.head(10)"
      ],
      "execution_count": 102,
      "outputs": [
        {
          "output_type": "execute_result",
          "data": {
            "text/html": [
              "<div>\n",
              "<style scoped>\n",
              "    .dataframe tbody tr th:only-of-type {\n",
              "        vertical-align: middle;\n",
              "    }\n",
              "\n",
              "    .dataframe tbody tr th {\n",
              "        vertical-align: top;\n",
              "    }\n",
              "\n",
              "    .dataframe thead th {\n",
              "        text-align: right;\n",
              "    }\n",
              "</style>\n",
              "<table border=\"1\" class=\"dataframe\">\n",
              "  <thead>\n",
              "    <tr style=\"text-align: right;\">\n",
              "      <th></th>\n",
              "      <th>App Name</th>\n",
              "      <th>Category</th>\n",
              "      <th>Rating</th>\n",
              "      <th>Reviews</th>\n",
              "      <th>Installs</th>\n",
              "      <th>Size</th>\n",
              "      <th>Price</th>\n",
              "      <th>Content Rating</th>\n",
              "      <th>Last Updated</th>\n",
              "      <th>Minimum Version</th>\n",
              "      <th>Latest Version</th>\n",
              "    </tr>\n",
              "  </thead>\n",
              "  <tbody>\n",
              "    <tr>\n",
              "      <th>813</th>\n",
              "      <td>YouTube</td>\n",
              "      <td>VIDEO_PLAYERS</td>\n",
              "      <td>4.368428</td>\n",
              "      <td>41919102.0</td>\n",
              "      <td>5000000000</td>\n",
              "      <td>Varies with device</td>\n",
              "      <td>0.0</td>\n",
              "      <td>Teen</td>\n",
              "      <td>April 2, 2019</td>\n",
              "      <td>Varies with device</td>\n",
              "      <td>Varies with device</td>\n",
              "    </tr>\n",
              "    <tr>\n",
              "      <th>821</th>\n",
              "      <td>Google</td>\n",
              "      <td>TOOLS</td>\n",
              "      <td>4.408893</td>\n",
              "      <td>10870728.0</td>\n",
              "      <td>5000000000</td>\n",
              "      <td>Varies with device</td>\n",
              "      <td>0.0</td>\n",
              "      <td>Everyone</td>\n",
              "      <td>April 1, 2019</td>\n",
              "      <td>Varies with device</td>\n",
              "      <td>Varies with device</td>\n",
              "    </tr>\n",
              "    <tr>\n",
              "      <th>2177</th>\n",
              "      <td>Maps - Navigate &amp; Explore</td>\n",
              "      <td>TRAVEL_AND_LOCAL</td>\n",
              "      <td>4.342798</td>\n",
              "      <td>10083666.0</td>\n",
              "      <td>5000000000</td>\n",
              "      <td>Varies with device</td>\n",
              "      <td>0.0</td>\n",
              "      <td>Everyone</td>\n",
              "      <td>April 1, 2019</td>\n",
              "      <td>Varies with device</td>\n",
              "      <td>Varies with device</td>\n",
              "    </tr>\n",
              "    <tr>\n",
              "      <th>671</th>\n",
              "      <td>WhatsApp Messenger</td>\n",
              "      <td>COMMUNICATION</td>\n",
              "      <td>4.417610</td>\n",
              "      <td>86214292.0</td>\n",
              "      <td>1000000000</td>\n",
              "      <td>Varies with device</td>\n",
              "      <td>0.0</td>\n",
              "      <td>Everyone</td>\n",
              "      <td>March 27, 2019</td>\n",
              "      <td>Varies with device</td>\n",
              "      <td>Varies with device</td>\n",
              "    </tr>\n",
              "    <tr>\n",
              "      <th>704</th>\n",
              "      <td>Facebook</td>\n",
              "      <td>SOCIAL</td>\n",
              "      <td>4.087946</td>\n",
              "      <td>85766433.0</td>\n",
              "      <td>1000000000</td>\n",
              "      <td>Varies with device</td>\n",
              "      <td>0.0</td>\n",
              "      <td>Teen</td>\n",
              "      <td>April 2, 2019</td>\n",
              "      <td>Varies with device</td>\n",
              "      <td>Varies with device</td>\n",
              "    </tr>\n",
              "    <tr>\n",
              "      <th>653</th>\n",
              "      <td>Instagram</td>\n",
              "      <td>SOCIAL</td>\n",
              "      <td>4.519560</td>\n",
              "      <td>79726403.0</td>\n",
              "      <td>1000000000</td>\n",
              "      <td>Varies with device</td>\n",
              "      <td>0.0</td>\n",
              "      <td>Teen</td>\n",
              "      <td>April 2, 2019</td>\n",
              "      <td>Varies with device</td>\n",
              "      <td>Varies with device</td>\n",
              "    </tr>\n",
              "    <tr>\n",
              "      <th>632</th>\n",
              "      <td>Messenger � Text and Video Chat for Free</td>\n",
              "      <td>COMMUNICATION</td>\n",
              "      <td>4.085856</td>\n",
              "      <td>65469531.0</td>\n",
              "      <td>1000000000</td>\n",
              "      <td>Varies with device</td>\n",
              "      <td>0.0</td>\n",
              "      <td>Everyone</td>\n",
              "      <td>April 2, 2019</td>\n",
              "      <td>Varies with device</td>\n",
              "      <td>Varies with device</td>\n",
              "    </tr>\n",
              "    <tr>\n",
              "      <th>7064</th>\n",
              "      <td>Clean Master - Antivirus, Applock &amp; Cleaner</td>\n",
              "      <td>TOOLS</td>\n",
              "      <td>4.657038</td>\n",
              "      <td>44171776.0</td>\n",
              "      <td>1000000000</td>\n",
              "      <td>20</td>\n",
              "      <td>0.0</td>\n",
              "      <td>Everyone</td>\n",
              "      <td>April 1, 2019</td>\n",
              "      <td>Varies with device</td>\n",
              "      <td>7.0.6</td>\n",
              "    </tr>\n",
              "    <tr>\n",
              "      <th>539</th>\n",
              "      <td>Subway Surfers</td>\n",
              "      <td>GAME_ARCADE</td>\n",
              "      <td>4.498131</td>\n",
              "      <td>29834812.0</td>\n",
              "      <td>1000000000</td>\n",
              "      <td>85</td>\n",
              "      <td>0.0</td>\n",
              "      <td>Everyone 10+</td>\n",
              "      <td>March 7, 2019</td>\n",
              "      <td>4.1 and up</td>\n",
              "      <td>1.100.0</td>\n",
              "    </tr>\n",
              "    <tr>\n",
              "      <th>1259</th>\n",
              "      <td>Google Photos</td>\n",
              "      <td>PHOTOGRAPHY</td>\n",
              "      <td>4.542380</td>\n",
              "      <td>16278468.0</td>\n",
              "      <td>1000000000</td>\n",
              "      <td>Varies with device</td>\n",
              "      <td>0.0</td>\n",
              "      <td>Everyone</td>\n",
              "      <td>April 2, 2019</td>\n",
              "      <td>Varies with device</td>\n",
              "      <td>Varies with device</td>\n",
              "    </tr>\n",
              "  </tbody>\n",
              "</table>\n",
              "</div>"
            ],
            "text/plain": [
              "                                         App Name  ...      Latest Version\n",
              "813                                       YouTube  ...  Varies with device\n",
              "821                                        Google  ...  Varies with device\n",
              "2177                    Maps - Navigate & Explore  ...  Varies with device\n",
              "671                            WhatsApp Messenger  ...  Varies with device\n",
              "704                                      Facebook  ...  Varies with device\n",
              "653                                     Instagram  ...  Varies with device\n",
              "632      Messenger � Text and Video Chat for Free  ...  Varies with device\n",
              "7064  Clean Master - Antivirus, Applock & Cleaner  ...               7.0.6\n",
              "539                                Subway Surfers  ...             1.100.0\n",
              "1259                                Google Photos  ...  Varies with device\n",
              "\n",
              "[10 rows x 11 columns]"
            ]
          },
          "metadata": {
            "tags": []
          },
          "execution_count": 102
        }
      ]
    },
    {
      "cell_type": "code",
      "metadata": {
        "id": "zVCmJ-3bcNtf",
        "colab_type": "code",
        "colab": {}
      },
      "source": [
        "top_10_installed_and_rated_apps= top_installed_and_rated_apps.head(10)"
      ],
      "execution_count": 103,
      "outputs": []
    },
    {
      "cell_type": "code",
      "metadata": {
        "id": "PI3hNCqFcNth",
        "colab_type": "code",
        "colab": {
          "base_uri": "https://localhost:8080/",
          "height": 202
        },
        "outputId": "46173684-c653-46f6-cc64-1714b8110b0f"
      },
      "source": [
        "top_10_installed_and_rated_apps.Category.sort_values(ascending=False)"
      ],
      "execution_count": 104,
      "outputs": [
        {
          "output_type": "execute_result",
          "data": {
            "text/plain": [
              "813        VIDEO_PLAYERS\n",
              "2177    TRAVEL_AND_LOCAL\n",
              "3269               TOOLS\n",
              "7064               TOOLS\n",
              "821                TOOLS\n",
              "653               SOCIAL\n",
              "1259         PHOTOGRAPHY\n",
              "539          GAME_ARCADE\n",
              "3267       COMMUNICATION\n",
              "6411       COMMUNICATION\n",
              "Name: Category, dtype: object"
            ]
          },
          "metadata": {
            "tags": []
          },
          "execution_count": 104
        }
      ]
    },
    {
      "cell_type": "code",
      "metadata": {
        "id": "t145Tr7wcNtj",
        "colab_type": "code",
        "colab": {
          "base_uri": "https://localhost:8080/",
          "height": 34
        },
        "outputId": "2861b8a4-b6cf-4a41-a023-927f41b72ad2"
      },
      "source": [
        "# There are totally 244,396 apps\n",
        "app[\"App Name\"].nunique()"
      ],
      "execution_count": 105,
      "outputs": [
        {
          "output_type": "execute_result",
          "data": {
            "text/plain": [
              "244396"
            ]
          },
          "metadata": {
            "tags": []
          },
          "execution_count": 105
        }
      ]
    },
    {
      "cell_type": "code",
      "metadata": {
        "id": "NiboSUbjcNtl",
        "colab_type": "code",
        "colab": {
          "base_uri": "https://localhost:8080/",
          "height": 302
        },
        "outputId": "0cbb008f-9ad6-4caf-cfed-c9c4380a1ff5"
      },
      "source": [
        "# here i will see the number of apps which belong to the categories of the most installed and rated apps\n",
        "\n",
        "\n",
        "count_VIDEO_PLAYERS=0\n",
        "count_TRAVEL_AND_LOCAL=0\n",
        "count_TOOLS=0\n",
        "count_SOCIAL=0\n",
        "count_PHOTOGRAPHY=0\n",
        "count_GAME_ARCADE=0\n",
        "count_COMMUNICATION=0\n",
        "\n",
        "for x in app[\"Category\"]:\n",
        "    if x== \"VIDEO_PLAYERS\":\n",
        "        count_VIDEO_PLAYERS=count_VIDEO_PLAYERS+1\n",
        "    elif x== \"TRAVEL_AND_LOCAL\":\n",
        "        count_TRAVEL_AND_LOCAL= count_TRAVEL_AND_LOCAL+1\n",
        "    elif x== \"TOOLS\":\n",
        "        count_TOOLS= count_TOOLS+1\n",
        "    elif x== \"SOCIAL\":\n",
        "        count_SOCIAL= count_SOCIAL+1\n",
        "    elif x== \"PHOTOGRAPHY\":\n",
        "        count_PHOTOGRAPHY= count_PHOTOGRAPHY+1\n",
        "    elif x== \"GAME_ARCADE\":\n",
        "        count_GAME_ARCADE= count_GAME_ARCADE+1\n",
        "    elif x== \"COMMUNICATION\":\n",
        "        count_COMMUNICATION= count_COMMUNICATION+1\n",
        "print (\"*****************************************************************************************************\")\n",
        "print (\"*****************************************************************************************************\")\n",
        "print (\"Number of apps that belong in category: \\\"Video Players\\\" is: {}\".format(count_VIDEO_PLAYERS))\n",
        "print (\"*****************************************************************************************************\")\n",
        "print (\"Number of apps that belong in category: \\\"Travel and Local\\\" is: {}\".format(count_TRAVEL_AND_LOCAL))\n",
        "print (\"*****************************************************************************************************\")\n",
        "print (\"Number of apps that belong in category: \\\"Tools\\\" is: {}\".format(count_TOOLS))\n",
        "print (\"*****************************************************************************************************\")\n",
        "print (\"Number of apps that belong in category: \\\"Social\\\" is: {}\".format(count_SOCIAL))\n",
        "print (\"*****************************************************************************************************\")\n",
        "print (\"Number of apps that belong in category: \\\"Photography\\\" is: {}\".format(count_PHOTOGRAPHY))\n",
        "print (\"*****************************************************************************************************\")\n",
        "print (\"Number of apps that belong in category: \\\"Game Arcade\\\" is: {}\".format(count_GAME_ARCADE))\n",
        "print (\"*****************************************************************************************************\")\n",
        "print (\"Number of apps that belong in category: \\\"Communication\\\" is: {}\".format(count_COMMUNICATION))\n",
        "print (\"*****************************************************************************************************\")\n",
        "print (\"*****************************************************************************************************\")\n"
      ],
      "execution_count": 106,
      "outputs": [
        {
          "output_type": "stream",
          "text": [
            "*****************************************************************************************************\n",
            "*****************************************************************************************************\n",
            "Number of apps that belong in category: \"Video Players\" is: 2717\n",
            "*****************************************************************************************************\n",
            "Number of apps that belong in category: \"Travel and Local\" is: 6650\n",
            "*****************************************************************************************************\n",
            "Number of apps that belong in category: \"Tools\" is: 21591\n",
            "*****************************************************************************************************\n",
            "Number of apps that belong in category: \"Social\" is: 4745\n",
            "*****************************************************************************************************\n",
            "Number of apps that belong in category: \"Photography\" is: 7240\n",
            "*****************************************************************************************************\n",
            "Number of apps that belong in category: \"Game Arcade\" is: 2343\n",
            "*****************************************************************************************************\n",
            "Number of apps that belong in category: \"Communication\" is: 5486\n",
            "*****************************************************************************************************\n",
            "*****************************************************************************************************\n"
          ],
          "name": "stdout"
        }
      ]
    },
    {
      "cell_type": "code",
      "metadata": {
        "id": "VC7oIYW-cNtn",
        "colab_type": "code",
        "colab": {
          "base_uri": "https://localhost:8080/",
          "height": 202
        },
        "outputId": "000c31f7-89a4-4ae9-8b34-899aac2d113e"
      },
      "source": [
        "top_10_installed_and_rated_apps[\"Content Rating\"].sort_values(ascending=False)"
      ],
      "execution_count": 107,
      "outputs": [
        {
          "output_type": "execute_result",
          "data": {
            "text/plain": [
              "653             Teen\n",
              "813             Teen\n",
              "539     Everyone 10+\n",
              "3267        Everyone\n",
              "1259        Everyone\n",
              "3269        Everyone\n",
              "6411        Everyone\n",
              "7064        Everyone\n",
              "2177        Everyone\n",
              "821         Everyone\n",
              "Name: Content Rating, dtype: object"
            ]
          },
          "metadata": {
            "tags": []
          },
          "execution_count": 107
        }
      ]
    },
    {
      "cell_type": "code",
      "metadata": {
        "id": "3Bp4Bzb8cNto",
        "colab_type": "code",
        "colab": {
          "base_uri": "https://localhost:8080/",
          "height": 34
        },
        "outputId": "15fed55a-7ab7-4571-e33c-00abf5d08d06"
      },
      "source": [
        "app[\"Content Rating\"].nunique()"
      ],
      "execution_count": 108,
      "outputs": [
        {
          "output_type": "execute_result",
          "data": {
            "text/plain": [
              "6"
            ]
          },
          "metadata": {
            "tags": []
          },
          "execution_count": 108
        }
      ]
    },
    {
      "cell_type": "code",
      "metadata": {
        "id": "YKH1MJ6rcNtq",
        "colab_type": "code",
        "colab": {
          "base_uri": "https://localhost:8080/",
          "height": 319
        },
        "outputId": "94741e35-de6b-4afa-be03-8067f3421cc2"
      },
      "source": [
        "# There are totally 6 categories of content rating\n",
        "\n",
        "# In the top 10 installed and rated apps, there are 3 different content ratings\n",
        "\n",
        "# I will now see their performance in the whole dataset, along with the other 3 remaining content ratings in the whole dataset\n",
        "\n",
        "count_Teen=0\n",
        "count_Everyone_10 = 0\n",
        "count_Everyone=0\n",
        "\n",
        "count_Mature_17=0\n",
        "count_Adults_only=0\n",
        "count_Unrated=0\n",
        "\n",
        "\n",
        "for x in app[\"Content Rating\"]:\n",
        "    if x== \"Teen\":\n",
        "        count_Teen= count_Teen+1\n",
        "    elif x== \"Everyone 10+\":\n",
        "        count_Everyone_10= count_Everyone_10+1\n",
        "    elif x== \"Everyone\":\n",
        "        count_Everyone= count_Everyone+1\n",
        "    elif x== \"Mature 17+\":\n",
        "        count_Mature_17 = count_Mature_17+1\n",
        "    elif x== \"Adults only 18+\":\n",
        "        count_Adults_only= count_Adults_only+1\n",
        "    elif x== \"Unrated\":\n",
        "        count_Unrated= count_Unrated+1\n",
        "print (\"*****************************************************************************************************\")\n",
        "print (\"Number of apps of all the dataset, having the content rating which belong the top apps:\")\n",
        "print (\"*\")\n",
        "print (\"*\")\n",
        "print (\"Number of apps that belong to the content rating \\\"Teen\\\" is: {}\".format(count_Teen))\n",
        "print (\"*****************************************************************************************************\")\n",
        "print (\"Number of apps that belong to the content rating \\\"Everyone 10+\\\" is: {}\".format(count_Everyone_10))\n",
        "print (\"*****************************************************************************************************\")\n",
        "print (\"Number of apps that belong to the content rating \\\"Everyone\\\" is: {}\".format(count_Everyone))\n",
        "print (\"*****************************************************************************************************\")\n",
        "print (\"*****************************************************************************************************\")\n",
        "print (\"#####################################################################################################\")\n",
        "print (\"Number of apps having content rating not included in the top apps\")\n",
        "print (\"*\")\n",
        "print (\"*\")\n",
        "print (\"Number of apps that belong to the content rating \\\"Mature 17+\\\" is: {}\".format(count_Mature_17))\n",
        "print (\"Number of apps that belong to the content rating \\\"Adults only 18+\\\" is: {}\".format(count_Adults_only))\n",
        "print (\"Number of apps that belong to the content rating \\\"Unrated\\\" is: {}\".format(count_Unrated))\n",
        "\n"
      ],
      "execution_count": 109,
      "outputs": [
        {
          "output_type": "stream",
          "text": [
            "*****************************************************************************************************\n",
            "Number of apps of all the dataset, having the content rating which belong the top apps:\n",
            "*\n",
            "*\n",
            "Number of apps that belong to the content rating \"Teen\" is: 17263\n",
            "*****************************************************************************************************\n",
            "Number of apps that belong to the content rating \"Everyone 10+\" is: 4661\n",
            "*****************************************************************************************************\n",
            "Number of apps that belong to the content rating \"Everyone\" is: 241582\n",
            "*****************************************************************************************************\n",
            "*****************************************************************************************************\n",
            "#####################################################################################################\n",
            "Number of apps having content rating not included in the top apps\n",
            "*\n",
            "*\n",
            "Number of apps that belong to the content rating \"Mature 17+\" is: 3489\n",
            "Number of apps that belong to the content rating \"Adults only 18+\" is: 12\n",
            "Number of apps that belong to the content rating \"Unrated\" is: 33\n"
          ],
          "name": "stdout"
        }
      ]
    },
    {
      "cell_type": "code",
      "metadata": {
        "id": "nYjZLFVEcNts",
        "colab_type": "code",
        "colab": {
          "base_uri": "https://localhost:8080/",
          "height": 134
        },
        "outputId": "2b8b2199-6409-4674-9f0b-bef88e2a4a26"
      },
      "source": [
        "# The aforementioned can be found more easily with the below command\n",
        "\n",
        "app[\"Content Rating\"].value_counts(ascending=False)"
      ],
      "execution_count": 110,
      "outputs": [
        {
          "output_type": "execute_result",
          "data": {
            "text/plain": [
              "Everyone           241582\n",
              "Teen                17263\n",
              "Everyone 10+         4661\n",
              "Mature 17+           3489\n",
              "Unrated                33\n",
              "Adults only 18+        12\n",
              "Name: Content Rating, dtype: int64"
            ]
          },
          "metadata": {
            "tags": []
          },
          "execution_count": 110
        }
      ]
    },
    {
      "cell_type": "code",
      "metadata": {
        "id": "OuSn3rvUcNtw",
        "colab_type": "code",
        "colab": {
          "base_uri": "https://localhost:8080/",
          "height": 478
        },
        "outputId": "b4b69234-3796-4e90-fcbb-4d5c460b0031"
      },
      "source": [
        "# In this and in the next 2 commands, i will try to see if there is any correlation between installations, Rating and Reviews\n",
        "\n",
        "top_10_installed_and_rated_apps"
      ],
      "execution_count": 111,
      "outputs": [
        {
          "output_type": "execute_result",
          "data": {
            "text/html": [
              "<div>\n",
              "<style scoped>\n",
              "    .dataframe tbody tr th:only-of-type {\n",
              "        vertical-align: middle;\n",
              "    }\n",
              "\n",
              "    .dataframe tbody tr th {\n",
              "        vertical-align: top;\n",
              "    }\n",
              "\n",
              "    .dataframe thead th {\n",
              "        text-align: right;\n",
              "    }\n",
              "</style>\n",
              "<table border=\"1\" class=\"dataframe\">\n",
              "  <thead>\n",
              "    <tr style=\"text-align: right;\">\n",
              "      <th></th>\n",
              "      <th>App Name</th>\n",
              "      <th>Category</th>\n",
              "      <th>Rating</th>\n",
              "      <th>Reviews</th>\n",
              "      <th>Installs</th>\n",
              "      <th>Size</th>\n",
              "      <th>Price</th>\n",
              "      <th>Content Rating</th>\n",
              "      <th>Last Updated</th>\n",
              "      <th>Minimum Version</th>\n",
              "      <th>Latest Version</th>\n",
              "    </tr>\n",
              "  </thead>\n",
              "  <tbody>\n",
              "    <tr>\n",
              "      <th>821</th>\n",
              "      <td>Google</td>\n",
              "      <td>TOOLS</td>\n",
              "      <td>4.408893</td>\n",
              "      <td>10870728.0</td>\n",
              "      <td>5000000000</td>\n",
              "      <td>Varies with device</td>\n",
              "      <td>0.0</td>\n",
              "      <td>Everyone</td>\n",
              "      <td>April 1, 2019</td>\n",
              "      <td>Varies with device</td>\n",
              "      <td>Varies with device</td>\n",
              "    </tr>\n",
              "    <tr>\n",
              "      <th>813</th>\n",
              "      <td>YouTube</td>\n",
              "      <td>VIDEO_PLAYERS</td>\n",
              "      <td>4.368428</td>\n",
              "      <td>41919102.0</td>\n",
              "      <td>5000000000</td>\n",
              "      <td>Varies with device</td>\n",
              "      <td>0.0</td>\n",
              "      <td>Teen</td>\n",
              "      <td>April 2, 2019</td>\n",
              "      <td>Varies with device</td>\n",
              "      <td>Varies with device</td>\n",
              "    </tr>\n",
              "    <tr>\n",
              "      <th>2177</th>\n",
              "      <td>Maps - Navigate &amp; Explore</td>\n",
              "      <td>TRAVEL_AND_LOCAL</td>\n",
              "      <td>4.342798</td>\n",
              "      <td>10083666.0</td>\n",
              "      <td>5000000000</td>\n",
              "      <td>Varies with device</td>\n",
              "      <td>0.0</td>\n",
              "      <td>Everyone</td>\n",
              "      <td>April 1, 2019</td>\n",
              "      <td>Varies with device</td>\n",
              "      <td>Varies with device</td>\n",
              "    </tr>\n",
              "    <tr>\n",
              "      <th>7064</th>\n",
              "      <td>Clean Master - Antivirus, Applock &amp; Cleaner</td>\n",
              "      <td>TOOLS</td>\n",
              "      <td>4.657038</td>\n",
              "      <td>44171776.0</td>\n",
              "      <td>1000000000</td>\n",
              "      <td>20</td>\n",
              "      <td>0.0</td>\n",
              "      <td>Everyone</td>\n",
              "      <td>April 1, 2019</td>\n",
              "      <td>Varies with device</td>\n",
              "      <td>7.0.6</td>\n",
              "    </tr>\n",
              "    <tr>\n",
              "      <th>6411</th>\n",
              "      <td>Google Duo - High Quality Video Calls</td>\n",
              "      <td>COMMUNICATION</td>\n",
              "      <td>4.596404</td>\n",
              "      <td>3641252.0</td>\n",
              "      <td>1000000000</td>\n",
              "      <td>20</td>\n",
              "      <td>0.0</td>\n",
              "      <td>Everyone</td>\n",
              "      <td>April 2, 2019</td>\n",
              "      <td>4.4 and up</td>\n",
              "      <td>50.1.240885383.DR50_RC06</td>\n",
              "    </tr>\n",
              "    <tr>\n",
              "      <th>3269</th>\n",
              "      <td>SHAREit - Transfer &amp; Share</td>\n",
              "      <td>TOOLS</td>\n",
              "      <td>4.579340</td>\n",
              "      <td>10450444.0</td>\n",
              "      <td>1000000000</td>\n",
              "      <td>20</td>\n",
              "      <td>0.0</td>\n",
              "      <td>Everyone</td>\n",
              "      <td>April 1, 2019</td>\n",
              "      <td>4.1 and up</td>\n",
              "      <td>4.7.38_ww</td>\n",
              "    </tr>\n",
              "    <tr>\n",
              "      <th>1259</th>\n",
              "      <td>Google Photos</td>\n",
              "      <td>PHOTOGRAPHY</td>\n",
              "      <td>4.542380</td>\n",
              "      <td>16278468.0</td>\n",
              "      <td>1000000000</td>\n",
              "      <td>Varies with device</td>\n",
              "      <td>0.0</td>\n",
              "      <td>Everyone</td>\n",
              "      <td>April 2, 2019</td>\n",
              "      <td>Varies with device</td>\n",
              "      <td>Varies with device</td>\n",
              "    </tr>\n",
              "    <tr>\n",
              "      <th>653</th>\n",
              "      <td>Instagram</td>\n",
              "      <td>SOCIAL</td>\n",
              "      <td>4.519560</td>\n",
              "      <td>79726403.0</td>\n",
              "      <td>1000000000</td>\n",
              "      <td>Varies with device</td>\n",
              "      <td>0.0</td>\n",
              "      <td>Teen</td>\n",
              "      <td>April 2, 2019</td>\n",
              "      <td>Varies with device</td>\n",
              "      <td>Varies with device</td>\n",
              "    </tr>\n",
              "    <tr>\n",
              "      <th>539</th>\n",
              "      <td>Subway Surfers</td>\n",
              "      <td>GAME_ARCADE</td>\n",
              "      <td>4.498131</td>\n",
              "      <td>29834812.0</td>\n",
              "      <td>1000000000</td>\n",
              "      <td>85</td>\n",
              "      <td>0.0</td>\n",
              "      <td>Everyone 10+</td>\n",
              "      <td>March 7, 2019</td>\n",
              "      <td>4.1 and up</td>\n",
              "      <td>1.100.0</td>\n",
              "    </tr>\n",
              "    <tr>\n",
              "      <th>3267</th>\n",
              "      <td>Samsung Internet Browser</td>\n",
              "      <td>COMMUNICATION</td>\n",
              "      <td>4.424015</td>\n",
              "      <td>832714.0</td>\n",
              "      <td>1000000000</td>\n",
              "      <td>Varies with device</td>\n",
              "      <td>0.0</td>\n",
              "      <td>Everyone</td>\n",
              "      <td>February 21, 2019</td>\n",
              "      <td>5.0 and up</td>\n",
              "      <td>Varies with device</td>\n",
              "    </tr>\n",
              "  </tbody>\n",
              "</table>\n",
              "</div>"
            ],
            "text/plain": [
              "                                         App Name  ...            Latest Version\n",
              "821                                        Google  ...        Varies with device\n",
              "813                                       YouTube  ...        Varies with device\n",
              "2177                    Maps - Navigate & Explore  ...        Varies with device\n",
              "7064  Clean Master - Antivirus, Applock & Cleaner  ...                     7.0.6\n",
              "6411        Google Duo - High Quality Video Calls  ...  50.1.240885383.DR50_RC06\n",
              "3269                   SHAREit - Transfer & Share  ...                 4.7.38_ww\n",
              "1259                                Google Photos  ...        Varies with device\n",
              "653                                     Instagram  ...        Varies with device\n",
              "539                                Subway Surfers  ...                   1.100.0\n",
              "3267                     Samsung Internet Browser  ...        Varies with device\n",
              "\n",
              "[10 rows x 11 columns]"
            ]
          },
          "metadata": {
            "tags": []
          },
          "execution_count": 111
        }
      ]
    },
    {
      "cell_type": "code",
      "metadata": {
        "id": "Tx1JvwobcNty",
        "colab_type": "code",
        "colab": {
          "base_uri": "https://localhost:8080/",
          "height": 343
        },
        "outputId": "26db501a-b9ab-435a-e3d9-9cd15ec01fad"
      },
      "source": [
        "#****************************************************************************************************************\n",
        "# It seems that none of the best rated apps belong to the top installed (filtered by rating too) apps\n",
        "#****************************************************************************************************************\n",
        "app.sort_values(by=\"Rating\", ascending= False).head(10)"
      ],
      "execution_count": 112,
      "outputs": [
        {
          "output_type": "execute_result",
          "data": {
            "text/html": [
              "<div>\n",
              "<style scoped>\n",
              "    .dataframe tbody tr th:only-of-type {\n",
              "        vertical-align: middle;\n",
              "    }\n",
              "\n",
              "    .dataframe tbody tr th {\n",
              "        vertical-align: top;\n",
              "    }\n",
              "\n",
              "    .dataframe thead th {\n",
              "        text-align: right;\n",
              "    }\n",
              "</style>\n",
              "<table border=\"1\" class=\"dataframe\">\n",
              "  <thead>\n",
              "    <tr style=\"text-align: right;\">\n",
              "      <th></th>\n",
              "      <th>App Name</th>\n",
              "      <th>Category</th>\n",
              "      <th>Rating</th>\n",
              "      <th>Reviews</th>\n",
              "      <th>Installs</th>\n",
              "      <th>Size</th>\n",
              "      <th>Price</th>\n",
              "      <th>Content Rating</th>\n",
              "      <th>Last Updated</th>\n",
              "      <th>Minimum Version</th>\n",
              "      <th>Latest Version</th>\n",
              "    </tr>\n",
              "  </thead>\n",
              "  <tbody>\n",
              "    <tr>\n",
              "      <th>122315</th>\n",
              "      <td>Ocean 100</td>\n",
              "      <td>ENTERTAINMENT</td>\n",
              "      <td>5.0</td>\n",
              "      <td>1.0</td>\n",
              "      <td>500</td>\n",
              "      <td>9.0</td>\n",
              "      <td>0.0</td>\n",
              "      <td>Teen</td>\n",
              "      <td>August 9, 2018</td>\n",
              "      <td>4.4 and up</td>\n",
              "      <td>9.6.0</td>\n",
              "    </tr>\n",
              "    <tr>\n",
              "      <th>166821</th>\n",
              "      <td>BuWizz Beta</td>\n",
              "      <td>ENTERTAINMENT</td>\n",
              "      <td>5.0</td>\n",
              "      <td>1.0</td>\n",
              "      <td>500</td>\n",
              "      <td>Varies with device</td>\n",
              "      <td>0.0</td>\n",
              "      <td>Everyone</td>\n",
              "      <td>January 11, 2019</td>\n",
              "      <td>Varies with device</td>\n",
              "      <td>Varies with device</td>\n",
              "    </tr>\n",
              "    <tr>\n",
              "      <th>217017</th>\n",
              "      <td>Vitral: Loja Online</td>\n",
              "      <td>SHOPPING</td>\n",
              "      <td>5.0</td>\n",
              "      <td>1.0</td>\n",
              "      <td>5</td>\n",
              "      <td>7.1</td>\n",
              "      <td>0.0</td>\n",
              "      <td>Everyone</td>\n",
              "      <td>January 14, 2019</td>\n",
              "      <td>4.1 and up</td>\n",
              "      <td>1.0.0</td>\n",
              "    </tr>\n",
              "    <tr>\n",
              "      <th>113166</th>\n",
              "      <td>??????????????? ????? ?? ?????</td>\n",
              "      <td>BOOKS_AND_REFERENCE</td>\n",
              "      <td>5.0</td>\n",
              "      <td>24.0</td>\n",
              "      <td>1000</td>\n",
              "      <td>3.8</td>\n",
              "      <td>0.0</td>\n",
              "      <td>Everyone</td>\n",
              "      <td>March 24, 2019</td>\n",
              "      <td>4.0 and up</td>\n",
              "      <td>1.19.2</td>\n",
              "    </tr>\n",
              "    <tr>\n",
              "      <th>166831</th>\n",
              "      <td>BoxMagic Business</td>\n",
              "      <td>SPORTS</td>\n",
              "      <td>5.0</td>\n",
              "      <td>1.0</td>\n",
              "      <td>10</td>\n",
              "      <td>32</td>\n",
              "      <td>0.0</td>\n",
              "      <td>Everyone</td>\n",
              "      <td>March 2, 2019</td>\n",
              "      <td>4.4 and up</td>\n",
              "      <td>0.1.1</td>\n",
              "    </tr>\n",
              "    <tr>\n",
              "      <th>52583</th>\n",
              "      <td>????? ??????</td>\n",
              "      <td>NEWS_AND_MAGAZINES</td>\n",
              "      <td>5.0</td>\n",
              "      <td>10.0</td>\n",
              "      <td>1000</td>\n",
              "      <td>1.9</td>\n",
              "      <td>0.0</td>\n",
              "      <td>Everyone</td>\n",
              "      <td>September 26, 2017</td>\n",
              "      <td>4.1 and up</td>\n",
              "      <td>1.3</td>\n",
              "    </tr>\n",
              "    <tr>\n",
              "      <th>236288</th>\n",
              "      <td>Cocotte ??????</td>\n",
              "      <td>SHOPPING</td>\n",
              "      <td>5.0</td>\n",
              "      <td>2.0</td>\n",
              "      <td>100</td>\n",
              "      <td>9.8</td>\n",
              "      <td>0.0</td>\n",
              "      <td>Everyone</td>\n",
              "      <td>September 21, 2018</td>\n",
              "      <td>4.3 and up</td>\n",
              "      <td>2.33.5</td>\n",
              "    </tr>\n",
              "    <tr>\n",
              "      <th>195735</th>\n",
              "      <td>?????? ???? ?????</td>\n",
              "      <td>BOOKS_AND_REFERENCE</td>\n",
              "      <td>5.0</td>\n",
              "      <td>2.0</td>\n",
              "      <td>500</td>\n",
              "      <td>3.4</td>\n",
              "      <td>0.0</td>\n",
              "      <td>Everyone</td>\n",
              "      <td>February 1, 2019</td>\n",
              "      <td>4.0.3 and up</td>\n",
              "      <td>1.0.0</td>\n",
              "    </tr>\n",
              "    <tr>\n",
              "      <th>217012</th>\n",
              "      <td>Mobeely</td>\n",
              "      <td>COMMUNICATION</td>\n",
              "      <td>5.0</td>\n",
              "      <td>2.0</td>\n",
              "      <td>100</td>\n",
              "      <td>5.8</td>\n",
              "      <td>0.0</td>\n",
              "      <td>Everyone</td>\n",
              "      <td>February 17, 2019</td>\n",
              "      <td>4.1 and up</td>\n",
              "      <td>3.9.3</td>\n",
              "    </tr>\n",
              "    <tr>\n",
              "      <th>236289</th>\n",
              "      <td>Meedori????????</td>\n",
              "      <td>SHOPPING</td>\n",
              "      <td>5.0</td>\n",
              "      <td>8.0</td>\n",
              "      <td>100</td>\n",
              "      <td>9.7</td>\n",
              "      <td>0.0</td>\n",
              "      <td>Everyone</td>\n",
              "      <td>September 21, 2018</td>\n",
              "      <td>4.3 and up</td>\n",
              "      <td>2.33.5</td>\n",
              "    </tr>\n",
              "  </tbody>\n",
              "</table>\n",
              "</div>"
            ],
            "text/plain": [
              "                              App Name  ...      Latest Version\n",
              "122315                       Ocean 100  ...               9.6.0\n",
              "166821                     BuWizz Beta  ...  Varies with device\n",
              "217017             Vitral: Loja Online  ...               1.0.0\n",
              "113166  ??????????????? ????? ?? ?????  ...              1.19.2\n",
              "166831               BoxMagic Business  ...               0.1.1\n",
              "52583                     ????? ??????  ...                 1.3\n",
              "236288                  Cocotte ??????  ...              2.33.5\n",
              "195735               ?????? ???? ?????  ...               1.0.0\n",
              "217012                         Mobeely  ...               3.9.3\n",
              "236289                 Meedori????????  ...              2.33.5\n",
              "\n",
              "[10 rows x 11 columns]"
            ]
          },
          "metadata": {
            "tags": []
          },
          "execution_count": 112
        }
      ]
    },
    {
      "cell_type": "code",
      "metadata": {
        "id": "TCwin5KHcNt0",
        "colab_type": "code",
        "colab": {
          "base_uri": "https://localhost:8080/",
          "height": 494
        },
        "outputId": "5e4d5f3a-7762-45ef-a755-c4ee91c2daef"
      },
      "source": [
        "#****************************************************************************************************************\n",
        "\n",
        "# Relationship between Reviews and main top apps\n",
        "\n",
        "# It seems that Instagram, Clean Master - Antivirus, Youtube and Subway Surfers\n",
        "\n",
        "# The above 4 apps belong to the top installed (filtered by rating too) and simultaneously to the top reviewed apps\n",
        "\n",
        "# So there is correlation of 4 out of 10 apps respecting top installed-rated apps and top reviewed apps\n",
        "#****************************************************************************************************************\n",
        "\n",
        "app.sort_values(by=\"Reviews\", ascending= False).head(10)"
      ],
      "execution_count": 113,
      "outputs": [
        {
          "output_type": "execute_result",
          "data": {
            "text/html": [
              "<div>\n",
              "<style scoped>\n",
              "    .dataframe tbody tr th:only-of-type {\n",
              "        vertical-align: middle;\n",
              "    }\n",
              "\n",
              "    .dataframe tbody tr th {\n",
              "        vertical-align: top;\n",
              "    }\n",
              "\n",
              "    .dataframe thead th {\n",
              "        text-align: right;\n",
              "    }\n",
              "</style>\n",
              "<table border=\"1\" class=\"dataframe\">\n",
              "  <thead>\n",
              "    <tr style=\"text-align: right;\">\n",
              "      <th></th>\n",
              "      <th>App Name</th>\n",
              "      <th>Category</th>\n",
              "      <th>Rating</th>\n",
              "      <th>Reviews</th>\n",
              "      <th>Installs</th>\n",
              "      <th>Size</th>\n",
              "      <th>Price</th>\n",
              "      <th>Content Rating</th>\n",
              "      <th>Last Updated</th>\n",
              "      <th>Minimum Version</th>\n",
              "      <th>Latest Version</th>\n",
              "    </tr>\n",
              "  </thead>\n",
              "  <tbody>\n",
              "    <tr>\n",
              "      <th>671</th>\n",
              "      <td>WhatsApp Messenger</td>\n",
              "      <td>COMMUNICATION</td>\n",
              "      <td>4.417610</td>\n",
              "      <td>86214292.0</td>\n",
              "      <td>1000000000</td>\n",
              "      <td>Varies with device</td>\n",
              "      <td>0.0</td>\n",
              "      <td>Everyone</td>\n",
              "      <td>March 27, 2019</td>\n",
              "      <td>Varies with device</td>\n",
              "      <td>Varies with device</td>\n",
              "    </tr>\n",
              "    <tr>\n",
              "      <th>704</th>\n",
              "      <td>Facebook</td>\n",
              "      <td>SOCIAL</td>\n",
              "      <td>4.087946</td>\n",
              "      <td>85766433.0</td>\n",
              "      <td>1000000000</td>\n",
              "      <td>Varies with device</td>\n",
              "      <td>0.0</td>\n",
              "      <td>Teen</td>\n",
              "      <td>April 2, 2019</td>\n",
              "      <td>Varies with device</td>\n",
              "      <td>Varies with device</td>\n",
              "    </tr>\n",
              "    <tr>\n",
              "      <th>653</th>\n",
              "      <td>Instagram</td>\n",
              "      <td>SOCIAL</td>\n",
              "      <td>4.519560</td>\n",
              "      <td>79726403.0</td>\n",
              "      <td>1000000000</td>\n",
              "      <td>Varies with device</td>\n",
              "      <td>0.0</td>\n",
              "      <td>Teen</td>\n",
              "      <td>April 2, 2019</td>\n",
              "      <td>Varies with device</td>\n",
              "      <td>Varies with device</td>\n",
              "    </tr>\n",
              "    <tr>\n",
              "      <th>632</th>\n",
              "      <td>Messenger � Text and Video Chat for Free</td>\n",
              "      <td>COMMUNICATION</td>\n",
              "      <td>4.085856</td>\n",
              "      <td>65469531.0</td>\n",
              "      <td>1000000000</td>\n",
              "      <td>Varies with device</td>\n",
              "      <td>0.0</td>\n",
              "      <td>Everyone</td>\n",
              "      <td>April 2, 2019</td>\n",
              "      <td>Varies with device</td>\n",
              "      <td>Varies with device</td>\n",
              "    </tr>\n",
              "    <tr>\n",
              "      <th>628</th>\n",
              "      <td>Clash of Clans</td>\n",
              "      <td>GAME_STRATEGY</td>\n",
              "      <td>4.606215</td>\n",
              "      <td>48401470.0</td>\n",
              "      <td>500000000</td>\n",
              "      <td>103</td>\n",
              "      <td>0.0</td>\n",
              "      <td>Everyone 10+</td>\n",
              "      <td>April 2, 2019</td>\n",
              "      <td>4.1 and up</td>\n",
              "      <td>11.446.11</td>\n",
              "    </tr>\n",
              "    <tr>\n",
              "      <th>7064</th>\n",
              "      <td>Clean Master - Antivirus, Applock &amp; Cleaner</td>\n",
              "      <td>TOOLS</td>\n",
              "      <td>4.657038</td>\n",
              "      <td>44171776.0</td>\n",
              "      <td>1000000000</td>\n",
              "      <td>20</td>\n",
              "      <td>0.0</td>\n",
              "      <td>Everyone</td>\n",
              "      <td>April 1, 2019</td>\n",
              "      <td>Varies with device</td>\n",
              "      <td>7.0.6</td>\n",
              "    </tr>\n",
              "    <tr>\n",
              "      <th>813</th>\n",
              "      <td>YouTube</td>\n",
              "      <td>VIDEO_PLAYERS</td>\n",
              "      <td>4.368428</td>\n",
              "      <td>41919102.0</td>\n",
              "      <td>5000000000</td>\n",
              "      <td>Varies with device</td>\n",
              "      <td>0.0</td>\n",
              "      <td>Teen</td>\n",
              "      <td>April 2, 2019</td>\n",
              "      <td>Varies with device</td>\n",
              "      <td>Varies with device</td>\n",
              "    </tr>\n",
              "    <tr>\n",
              "      <th>539</th>\n",
              "      <td>Subway Surfers</td>\n",
              "      <td>GAME_ARCADE</td>\n",
              "      <td>4.498131</td>\n",
              "      <td>29834812.0</td>\n",
              "      <td>1000000000</td>\n",
              "      <td>85</td>\n",
              "      <td>0.0</td>\n",
              "      <td>Everyone 10+</td>\n",
              "      <td>March 7, 2019</td>\n",
              "      <td>4.1 and up</td>\n",
              "      <td>1.100.0</td>\n",
              "    </tr>\n",
              "    <tr>\n",
              "      <th>12638</th>\n",
              "      <td>Security Master - Antivirus, VPN, AppLock, Boo...</td>\n",
              "      <td>TOOLS</td>\n",
              "      <td>4.652842</td>\n",
              "      <td>25532160.0</td>\n",
              "      <td>500000000</td>\n",
              "      <td>Varies with device</td>\n",
              "      <td>0.0</td>\n",
              "      <td>Everyone</td>\n",
              "      <td>March 29, 2019</td>\n",
              "      <td>Varies with device</td>\n",
              "      <td>4.9.1</td>\n",
              "    </tr>\n",
              "    <tr>\n",
              "      <th>1542</th>\n",
              "      <td>Clash Royale</td>\n",
              "      <td>GAME_STRATEGY</td>\n",
              "      <td>4.545474</td>\n",
              "      <td>25449254.0</td>\n",
              "      <td>100000000</td>\n",
              "      <td>81</td>\n",
              "      <td>0.0</td>\n",
              "      <td>Everyone 10+</td>\n",
              "      <td>February 13, 2019</td>\n",
              "      <td>4.1 and up</td>\n",
              "      <td>2.6.1</td>\n",
              "    </tr>\n",
              "  </tbody>\n",
              "</table>\n",
              "</div>"
            ],
            "text/plain": [
              "                                                App Name  ...      Latest Version\n",
              "671                                   WhatsApp Messenger  ...  Varies with device\n",
              "704                                             Facebook  ...  Varies with device\n",
              "653                                            Instagram  ...  Varies with device\n",
              "632             Messenger � Text and Video Chat for Free  ...  Varies with device\n",
              "628                                       Clash of Clans  ...           11.446.11\n",
              "7064         Clean Master - Antivirus, Applock & Cleaner  ...               7.0.6\n",
              "813                                              YouTube  ...  Varies with device\n",
              "539                                       Subway Surfers  ...             1.100.0\n",
              "12638  Security Master - Antivirus, VPN, AppLock, Boo...  ...               4.9.1\n",
              "1542                                        Clash Royale  ...               2.6.1\n",
              "\n",
              "[10 rows x 11 columns]"
            ]
          },
          "metadata": {
            "tags": []
          },
          "execution_count": 113
        }
      ]
    },
    {
      "cell_type": "code",
      "metadata": {
        "id": "b4gy2bi0cNt2",
        "colab_type": "code",
        "colab": {
          "base_uri": "https://localhost:8080/",
          "height": 478
        },
        "outputId": "a4258078-625a-4ac8-d2a9-79bf0be4b561"
      },
      "source": [
        "top_10_installed_and_rated_apps"
      ],
      "execution_count": 114,
      "outputs": [
        {
          "output_type": "execute_result",
          "data": {
            "text/html": [
              "<div>\n",
              "<style scoped>\n",
              "    .dataframe tbody tr th:only-of-type {\n",
              "        vertical-align: middle;\n",
              "    }\n",
              "\n",
              "    .dataframe tbody tr th {\n",
              "        vertical-align: top;\n",
              "    }\n",
              "\n",
              "    .dataframe thead th {\n",
              "        text-align: right;\n",
              "    }\n",
              "</style>\n",
              "<table border=\"1\" class=\"dataframe\">\n",
              "  <thead>\n",
              "    <tr style=\"text-align: right;\">\n",
              "      <th></th>\n",
              "      <th>App Name</th>\n",
              "      <th>Category</th>\n",
              "      <th>Rating</th>\n",
              "      <th>Reviews</th>\n",
              "      <th>Installs</th>\n",
              "      <th>Size</th>\n",
              "      <th>Price</th>\n",
              "      <th>Content Rating</th>\n",
              "      <th>Last Updated</th>\n",
              "      <th>Minimum Version</th>\n",
              "      <th>Latest Version</th>\n",
              "    </tr>\n",
              "  </thead>\n",
              "  <tbody>\n",
              "    <tr>\n",
              "      <th>821</th>\n",
              "      <td>Google</td>\n",
              "      <td>TOOLS</td>\n",
              "      <td>4.408893</td>\n",
              "      <td>10870728.0</td>\n",
              "      <td>5000000000</td>\n",
              "      <td>Varies with device</td>\n",
              "      <td>0.0</td>\n",
              "      <td>Everyone</td>\n",
              "      <td>April 1, 2019</td>\n",
              "      <td>Varies with device</td>\n",
              "      <td>Varies with device</td>\n",
              "    </tr>\n",
              "    <tr>\n",
              "      <th>813</th>\n",
              "      <td>YouTube</td>\n",
              "      <td>VIDEO_PLAYERS</td>\n",
              "      <td>4.368428</td>\n",
              "      <td>41919102.0</td>\n",
              "      <td>5000000000</td>\n",
              "      <td>Varies with device</td>\n",
              "      <td>0.0</td>\n",
              "      <td>Teen</td>\n",
              "      <td>April 2, 2019</td>\n",
              "      <td>Varies with device</td>\n",
              "      <td>Varies with device</td>\n",
              "    </tr>\n",
              "    <tr>\n",
              "      <th>2177</th>\n",
              "      <td>Maps - Navigate &amp; Explore</td>\n",
              "      <td>TRAVEL_AND_LOCAL</td>\n",
              "      <td>4.342798</td>\n",
              "      <td>10083666.0</td>\n",
              "      <td>5000000000</td>\n",
              "      <td>Varies with device</td>\n",
              "      <td>0.0</td>\n",
              "      <td>Everyone</td>\n",
              "      <td>April 1, 2019</td>\n",
              "      <td>Varies with device</td>\n",
              "      <td>Varies with device</td>\n",
              "    </tr>\n",
              "    <tr>\n",
              "      <th>7064</th>\n",
              "      <td>Clean Master - Antivirus, Applock &amp; Cleaner</td>\n",
              "      <td>TOOLS</td>\n",
              "      <td>4.657038</td>\n",
              "      <td>44171776.0</td>\n",
              "      <td>1000000000</td>\n",
              "      <td>20</td>\n",
              "      <td>0.0</td>\n",
              "      <td>Everyone</td>\n",
              "      <td>April 1, 2019</td>\n",
              "      <td>Varies with device</td>\n",
              "      <td>7.0.6</td>\n",
              "    </tr>\n",
              "    <tr>\n",
              "      <th>6411</th>\n",
              "      <td>Google Duo - High Quality Video Calls</td>\n",
              "      <td>COMMUNICATION</td>\n",
              "      <td>4.596404</td>\n",
              "      <td>3641252.0</td>\n",
              "      <td>1000000000</td>\n",
              "      <td>20</td>\n",
              "      <td>0.0</td>\n",
              "      <td>Everyone</td>\n",
              "      <td>April 2, 2019</td>\n",
              "      <td>4.4 and up</td>\n",
              "      <td>50.1.240885383.DR50_RC06</td>\n",
              "    </tr>\n",
              "    <tr>\n",
              "      <th>3269</th>\n",
              "      <td>SHAREit - Transfer &amp; Share</td>\n",
              "      <td>TOOLS</td>\n",
              "      <td>4.579340</td>\n",
              "      <td>10450444.0</td>\n",
              "      <td>1000000000</td>\n",
              "      <td>20</td>\n",
              "      <td>0.0</td>\n",
              "      <td>Everyone</td>\n",
              "      <td>April 1, 2019</td>\n",
              "      <td>4.1 and up</td>\n",
              "      <td>4.7.38_ww</td>\n",
              "    </tr>\n",
              "    <tr>\n",
              "      <th>1259</th>\n",
              "      <td>Google Photos</td>\n",
              "      <td>PHOTOGRAPHY</td>\n",
              "      <td>4.542380</td>\n",
              "      <td>16278468.0</td>\n",
              "      <td>1000000000</td>\n",
              "      <td>Varies with device</td>\n",
              "      <td>0.0</td>\n",
              "      <td>Everyone</td>\n",
              "      <td>April 2, 2019</td>\n",
              "      <td>Varies with device</td>\n",
              "      <td>Varies with device</td>\n",
              "    </tr>\n",
              "    <tr>\n",
              "      <th>653</th>\n",
              "      <td>Instagram</td>\n",
              "      <td>SOCIAL</td>\n",
              "      <td>4.519560</td>\n",
              "      <td>79726403.0</td>\n",
              "      <td>1000000000</td>\n",
              "      <td>Varies with device</td>\n",
              "      <td>0.0</td>\n",
              "      <td>Teen</td>\n",
              "      <td>April 2, 2019</td>\n",
              "      <td>Varies with device</td>\n",
              "      <td>Varies with device</td>\n",
              "    </tr>\n",
              "    <tr>\n",
              "      <th>539</th>\n",
              "      <td>Subway Surfers</td>\n",
              "      <td>GAME_ARCADE</td>\n",
              "      <td>4.498131</td>\n",
              "      <td>29834812.0</td>\n",
              "      <td>1000000000</td>\n",
              "      <td>85</td>\n",
              "      <td>0.0</td>\n",
              "      <td>Everyone 10+</td>\n",
              "      <td>March 7, 2019</td>\n",
              "      <td>4.1 and up</td>\n",
              "      <td>1.100.0</td>\n",
              "    </tr>\n",
              "    <tr>\n",
              "      <th>3267</th>\n",
              "      <td>Samsung Internet Browser</td>\n",
              "      <td>COMMUNICATION</td>\n",
              "      <td>4.424015</td>\n",
              "      <td>832714.0</td>\n",
              "      <td>1000000000</td>\n",
              "      <td>Varies with device</td>\n",
              "      <td>0.0</td>\n",
              "      <td>Everyone</td>\n",
              "      <td>February 21, 2019</td>\n",
              "      <td>5.0 and up</td>\n",
              "      <td>Varies with device</td>\n",
              "    </tr>\n",
              "  </tbody>\n",
              "</table>\n",
              "</div>"
            ],
            "text/plain": [
              "                                         App Name  ...            Latest Version\n",
              "821                                        Google  ...        Varies with device\n",
              "813                                       YouTube  ...        Varies with device\n",
              "2177                    Maps - Navigate & Explore  ...        Varies with device\n",
              "7064  Clean Master - Antivirus, Applock & Cleaner  ...                     7.0.6\n",
              "6411        Google Duo - High Quality Video Calls  ...  50.1.240885383.DR50_RC06\n",
              "3269                   SHAREit - Transfer & Share  ...                 4.7.38_ww\n",
              "1259                                Google Photos  ...        Varies with device\n",
              "653                                     Instagram  ...        Varies with device\n",
              "539                                Subway Surfers  ...                   1.100.0\n",
              "3267                     Samsung Internet Browser  ...        Varies with device\n",
              "\n",
              "[10 rows x 11 columns]"
            ]
          },
          "metadata": {
            "tags": []
          },
          "execution_count": 114
        }
      ]
    },
    {
      "cell_type": "code",
      "metadata": {
        "id": "jul-iugwcNt4",
        "colab_type": "code",
        "colab": {
          "base_uri": "https://localhost:8080/",
          "height": 202
        },
        "outputId": "71e0a7f6-fd01-4373-cf89-8645473aeddb"
      },
      "source": [
        "# Prices of the apps\n",
        "\n",
        "app[\"Price\"].value_counts().sort_values(ascending=False).head(10)"
      ],
      "execution_count": 115,
      "outputs": [
        {
          "output_type": "execute_result",
          "data": {
            "text/plain": [
              "0.00    255434\n",
              "0.99      2317\n",
              "1.99      1552\n",
              "2.99      1351\n",
              "4.99       883\n",
              "3.99       767\n",
              "1.49       761\n",
              "2.49       518\n",
              "3.49       339\n",
              "9.99       275\n",
              "Name: Price, dtype: int64"
            ]
          },
          "metadata": {
            "tags": []
          },
          "execution_count": 115
        }
      ]
    },
    {
      "cell_type": "code",
      "metadata": {
        "id": "r-XDPPmjcNt7",
        "colab_type": "code",
        "colab": {
          "base_uri": "https://localhost:8080/",
          "height": 34
        },
        "outputId": "b92f19e7-89ec-4b1e-f703-e39f2fe0fd0b"
      },
      "source": [
        "app.Price.nunique()"
      ],
      "execution_count": 116,
      "outputs": [
        {
          "output_type": "execute_result",
          "data": {
            "text/plain": [
              "488"
            ]
          },
          "metadata": {
            "tags": []
          },
          "execution_count": 116
        }
      ]
    },
    {
      "cell_type": "markdown",
      "metadata": {
        "id": "WPigHvshcNuI",
        "colab_type": "text"
      },
      "source": [
        "# Visualising  Data"
      ]
    },
    {
      "cell_type": "code",
      "metadata": {
        "id": "Rtm3GkUscNuJ",
        "colab_type": "code",
        "colab": {
          "base_uri": "https://localhost:8080/",
          "height": 106
        },
        "outputId": "917acc95-2b41-4ab0-9c1e-e31442ed5c33"
      },
      "source": [
        "app.head(2)"
      ],
      "execution_count": 117,
      "outputs": [
        {
          "output_type": "execute_result",
          "data": {
            "text/html": [
              "<div>\n",
              "<style scoped>\n",
              "    .dataframe tbody tr th:only-of-type {\n",
              "        vertical-align: middle;\n",
              "    }\n",
              "\n",
              "    .dataframe tbody tr th {\n",
              "        vertical-align: top;\n",
              "    }\n",
              "\n",
              "    .dataframe thead th {\n",
              "        text-align: right;\n",
              "    }\n",
              "</style>\n",
              "<table border=\"1\" class=\"dataframe\">\n",
              "  <thead>\n",
              "    <tr style=\"text-align: right;\">\n",
              "      <th></th>\n",
              "      <th>App Name</th>\n",
              "      <th>Category</th>\n",
              "      <th>Rating</th>\n",
              "      <th>Reviews</th>\n",
              "      <th>Installs</th>\n",
              "      <th>Size</th>\n",
              "      <th>Price</th>\n",
              "      <th>Content Rating</th>\n",
              "      <th>Last Updated</th>\n",
              "      <th>Minimum Version</th>\n",
              "      <th>Latest Version</th>\n",
              "    </tr>\n",
              "  </thead>\n",
              "  <tbody>\n",
              "    <tr>\n",
              "      <th>0</th>\n",
              "      <td>DoorDash - Food Delivery</td>\n",
              "      <td>FOOD_AND_DRINK</td>\n",
              "      <td>4.548562</td>\n",
              "      <td>305034.0</td>\n",
              "      <td>5000000</td>\n",
              "      <td>Varies with device</td>\n",
              "      <td>0.0</td>\n",
              "      <td>Everyone</td>\n",
              "      <td>March 29, 2019</td>\n",
              "      <td>Varies with device</td>\n",
              "      <td>Varies with device</td>\n",
              "    </tr>\n",
              "    <tr>\n",
              "      <th>1</th>\n",
              "      <td>TripAdvisor Hotels Flights Restaurants Attract...</td>\n",
              "      <td>TRAVEL_AND_LOCAL</td>\n",
              "      <td>4.400671</td>\n",
              "      <td>1207922.0</td>\n",
              "      <td>100000000</td>\n",
              "      <td>Varies with device</td>\n",
              "      <td>0.0</td>\n",
              "      <td>Everyone</td>\n",
              "      <td>March 29, 2019</td>\n",
              "      <td>Varies with device</td>\n",
              "      <td>Varies with device</td>\n",
              "    </tr>\n",
              "  </tbody>\n",
              "</table>\n",
              "</div>"
            ],
            "text/plain": [
              "                                            App Name  ...      Latest Version\n",
              "0                           DoorDash - Food Delivery  ...  Varies with device\n",
              "1  TripAdvisor Hotels Flights Restaurants Attract...  ...  Varies with device\n",
              "\n",
              "[2 rows x 11 columns]"
            ]
          },
          "metadata": {
            "tags": []
          },
          "execution_count": 117
        }
      ]
    },
    {
      "cell_type": "code",
      "metadata": {
        "id": "3fxapDrkcNuL",
        "colab_type": "code",
        "colab": {}
      },
      "source": [
        "import seaborn as sns\n",
        "import matplotlib.pyplot as plt"
      ],
      "execution_count": 118,
      "outputs": []
    },
    {
      "cell_type": "code",
      "metadata": {
        "id": "ziFbi0uKcNuN",
        "colab_type": "code",
        "colab": {
          "base_uri": "https://localhost:8080/",
          "height": 295
        },
        "outputId": "a99653d2-8acb-4859-88cf-8426996c8f9d"
      },
      "source": [
        "# Top 5 app Categories of all the dataset\n",
        "\n",
        "\n",
        "app[\"Category\"].value_counts().nlargest(5).sort_values(ascending=True).plot.barh()\n",
        "plt.ylabel(\"Categories\")\n",
        "plt.xlabel(\"Count\")\n",
        "plt.title(\"Google Playstore - Top 5 App Categories\")\n",
        "plt.show()"
      ],
      "execution_count": 119,
      "outputs": [
        {
          "output_type": "display_data",
          "data": {
            "image/png": "[encoded data removed]",
            "text/plain": [
              "<Figure size 432x288 with 1 Axes>"
            ]
          },
          "metadata": {
            "tags": [],
            "needs_background": "light"
          }
        }
      ]
    },
    {
      "cell_type": "code",
      "metadata": {
        "id": "kMT-UGxfcNuP",
        "colab_type": "code",
        "colab": {
          "base_uri": "https://localhost:8080/",
          "height": 118
        },
        "outputId": "1489fc95-5fda-4ba5-d983-7bfa5bc9f1c9"
      },
      "source": [
        "app[\"Category\"].value_counts().nlargest(5).sort_values(ascending=False)"
      ],
      "execution_count": 120,
      "outputs": [
        {
          "output_type": "execute_result",
          "data": {
            "text/plain": [
              "EDUCATION              33394\n",
              "TOOLS                  21591\n",
              "BOOKS_AND_REFERENCE    21377\n",
              "ENTERTAINMENT          20603\n",
              "MUSIC_AND_AUDIO        17879\n",
              "Name: Category, dtype: int64"
            ]
          },
          "metadata": {
            "tags": []
          },
          "execution_count": 120
        }
      ]
    },
    {
      "cell_type": "code",
      "metadata": {
        "id": "YY8RB4PrcNuR",
        "colab_type": "code",
        "colab": {
          "base_uri": "https://localhost:8080/",
          "height": 420
        },
        "outputId": "bae1426f-cfbc-4806-bd9e-f3f9271eff04"
      },
      "source": [
        "# In which category do main 100 top apps belong\n",
        "\n",
        "top_installed_and_rated_apps[\"Category\"].head(100).value_counts()"
      ],
      "execution_count": 121,
      "outputs": [
        {
          "output_type": "execute_result",
          "data": {
            "text/plain": [
              "PRODUCTIVITY           17\n",
              "TOOLS                  16\n",
              "COMMUNICATION          11\n",
              "VIDEO_PLAYERS           6\n",
              "SOCIAL                  6\n",
              "PHOTOGRAPHY             4\n",
              "GAME_ACTION             4\n",
              "GAME_CASUAL             4\n",
              "NEWS_AND_MAGAZINES      4\n",
              "TRAVEL_AND_LOCAL        3\n",
              "GAME_RACING             3\n",
              "PERSONALIZATION         3\n",
              "ENTERTAINMENT           3\n",
              "GAME_ARCADE             2\n",
              "GAME_SPORTS             2\n",
              "SHOPPING                2\n",
              "HEALTH_AND_FITNESS      2\n",
              "MUSIC_AND_AUDIO         2\n",
              "BOOKS_AND_REFERENCE     2\n",
              "GAME_STRATEGY           1\n",
              "EDUCATION               1\n",
              "LIFESTYLE               1\n",
              "GAME_SIMULATION         1\n",
              "Name: Category, dtype: int64"
            ]
          },
          "metadata": {
            "tags": []
          },
          "execution_count": 121
        }
      ]
    },
    {
      "cell_type": "code",
      "metadata": {
        "id": "ndM8jr0tcNuU",
        "colab_type": "code",
        "colab": {
          "base_uri": "https://localhost:8080/",
          "height": 281
        },
        "outputId": "70f7dd74-3306-401a-cb44-11e8b65323e2"
      },
      "source": [
        "status= (\"PRODUCTIVITY\", \"TOOLS\", \"COMMUNICATION\", \"SOCIAL\")\n",
        "y_pos= np.arange(len(status))\n",
        "numbers= [17,16,11,6]\n",
        "plt.bar(y_pos, numbers, align=\"center\", alpha=0.6)\n",
        "plt.xticks(y_pos, status)\n",
        "plt.ylabel(\"Count\")\n",
        "plt.title(\"Categories - (Main) Top 100 Apps\")\n",
        "plt.show()"
      ],
      "execution_count": 122,
      "outputs": [
        {
          "output_type": "display_data",
          "data": {
            "image/png": "[encoded data removed]",
            "text/plain": [
              "<Figure size 432x288 with 1 Axes>"
            ]
          },
          "metadata": {
            "tags": [],
            "needs_background": "light"
          }
        }
      ]
    },
    {
      "cell_type": "code",
      "metadata": {
        "id": "iVQLhceTcNuW",
        "colab_type": "code",
        "colab": {}
      },
      "source": [
        "x=top_installed_and_rated_apps.head(100)"
      ],
      "execution_count": 123,
      "outputs": []
    },
    {
      "cell_type": "code",
      "metadata": {
        "id": "UwtSVQFwcNuY",
        "colab_type": "code",
        "colab": {
          "base_uri": "https://localhost:8080/",
          "height": 348
        },
        "outputId": "0ccba27e-e719-4607-c4b2-e6eee2697e20"
      },
      "source": [
        "# Relationship betweeen: Classes and number of Installations\n",
        "\n",
        "\n",
        "app[\"Installs\"].value_counts().sort_values(ascending=False).plot.bar()\n",
        "plt.ylabel(\"Number of Installations\")\n",
        "plt.xlabel(\"Classes of Installations\")\n",
        "plt.title(\"Google Playstore - Grading in Number of Installations\")\n",
        "plt.show()"
      ],
      "execution_count": 124,
      "outputs": [
        {
          "output_type": "display_data",
          "data": {
            "image/png": "[encoded data removed]",
            "text/plain": [
              "<Figure size 432x288 with 1 Axes>"
            ]
          },
          "metadata": {
            "tags": [],
            "needs_background": "light"
          }
        }
      ]
    },
    {
      "cell_type": "code",
      "metadata": {
        "id": "7bR85tdHcNuc",
        "colab_type": "code",
        "colab": {
          "base_uri": "https://localhost:8080/",
          "height": 118
        },
        "outputId": "c47c0db2-d81c-4639-f5f1-f59cc432bdd5"
      },
      "source": [
        "# Top 5 Gradings in the number of installations\n",
        "\n",
        "app[\"Installs\"].value_counts().nlargest(5)"
      ],
      "execution_count": 125,
      "outputs": [
        {
          "output_type": "execute_result",
          "data": {
            "text/plain": [
              "10000     60533\n",
              "1000      48884\n",
              "100000    37499\n",
              "5000      26361\n",
              "50000     22794\n",
              "Name: Installs, dtype: int64"
            ]
          },
          "metadata": {
            "tags": []
          },
          "execution_count": 125
        }
      ]
    },
    {
      "cell_type": "code",
      "metadata": {
        "id": "EVfUU0wQcNue",
        "colab_type": "code",
        "colab": {
          "base_uri": "https://localhost:8080/",
          "height": 308
        },
        "outputId": "dd7f0d48-00cb-4898-fbd2-e910974cad3b"
      },
      "source": [
        "app[\"Price\"].value_counts().nlargest(5).sort_values(ascending=False).plot.bar()\n",
        "plt.ylabel(\"Number of Apps\")\n",
        "plt.xlabel(\"Prices in Dollars\")\n",
        "plt.title(\"Google Playstore - Prices\")\n",
        "plt.show()"
      ],
      "execution_count": 126,
      "outputs": [
        {
          "output_type": "display_data",
          "data": {
            "image/png": "[encoded data removed]",
            "text/plain": [
              "<Figure size 432x288 with 1 Axes>"
            ]
          },
          "metadata": {
            "tags": [],
            "needs_background": "light"
          }
        }
      ]
    },
    {
      "cell_type": "code",
      "metadata": {
        "id": "wSOxnTU9cNug",
        "colab_type": "code",
        "colab": {
          "base_uri": "https://localhost:8080/",
          "height": 118
        },
        "outputId": "bbb2b617-f5d1-43aa-c4d6-2b4c2250ce0e"
      },
      "source": [
        "app[\"Price\"].value_counts().nlargest(5)"
      ],
      "execution_count": 127,
      "outputs": [
        {
          "output_type": "execute_result",
          "data": {
            "text/plain": [
              "0.00    255434\n",
              "0.99      2317\n",
              "1.99      1552\n",
              "2.99      1351\n",
              "4.99       883\n",
              "Name: Price, dtype: int64"
            ]
          },
          "metadata": {
            "tags": []
          },
          "execution_count": 127
        }
      ]
    },
    {
      "cell_type": "code",
      "metadata": {
        "id": "kypRkDvlcNui",
        "colab_type": "code",
        "colab": {
          "base_uri": "https://localhost:8080/",
          "height": 365
        },
        "outputId": "869ec711-2106-4a25-b6b1-d455514a1bb7"
      },
      "source": [
        "app[\"Content Rating\"].value_counts().sort_values(ascending=False).plot.bar()\n",
        "plt.ylabel(\"Number of Apps\")\n",
        "plt.xlabel(\"Content Rating\")\n",
        "plt.title(\"Google Playstore - Content Rating\")\n",
        "plt.show()"
      ],
      "execution_count": 128,
      "outputs": [
        {
          "output_type": "display_data",
          "data": {
            "image/png": "[encoded data removed]",
            "text/plain": [
              "<Figure size 432x288 with 1 Axes>"
            ]
          },
          "metadata": {
            "tags": [],
            "needs_background": "light"
          }
        }
      ]
    },
    {
      "cell_type": "code",
      "metadata": {
        "scrolled": true,
        "id": "22oJe917cNul",
        "colab_type": "code",
        "colab": {
          "base_uri": "https://localhost:8080/",
          "height": 134
        },
        "outputId": "2e5920fd-da9c-4625-d7e3-58065f5d38cf"
      },
      "source": [
        "app[\"Content Rating\"].value_counts()"
      ],
      "execution_count": 129,
      "outputs": [
        {
          "output_type": "execute_result",
          "data": {
            "text/plain": [
              "Everyone           241582\n",
              "Teen                17263\n",
              "Everyone 10+         4661\n",
              "Mature 17+           3489\n",
              "Unrated                33\n",
              "Adults only 18+        12\n",
              "Name: Content Rating, dtype: int64"
            ]
          },
          "metadata": {
            "tags": []
          },
          "execution_count": 129
        }
      ]
    },
    {
      "cell_type": "code",
      "metadata": {
        "id": "FlOKebmzcNun",
        "colab_type": "code",
        "colab": {
          "base_uri": "https://localhost:8080/",
          "height": 101
        },
        "outputId": "6b304571-7ca9-4c79-ab8a-71c8008d74d9"
      },
      "source": [
        "top_installed_and_rated_apps[\"Content Rating\"].head(100).value_counts()"
      ],
      "execution_count": 130,
      "outputs": [
        {
          "output_type": "execute_result",
          "data": {
            "text/plain": [
              "Everyone        69\n",
              "Teen            24\n",
              "Everyone 10+     5\n",
              "Mature 17+       2\n",
              "Name: Content Rating, dtype: int64"
            ]
          },
          "metadata": {
            "tags": []
          },
          "execution_count": 130
        }
      ]
    },
    {
      "cell_type": "code",
      "metadata": {
        "id": "iTiLG8n8cNup",
        "colab_type": "code",
        "colab": {}
      },
      "source": [
        "#####################"
      ],
      "execution_count": 131,
      "outputs": []
    },
    {
      "cell_type": "code",
      "metadata": {
        "id": "gASv1bUBcNut",
        "colab_type": "code",
        "colab": {
          "base_uri": "https://localhost:8080/",
          "height": 101
        },
        "outputId": "b2ba949a-6469-42b0-b40d-cafbf9e74b8a"
      },
      "source": [
        "top_installed_and_rated_apps.head(100).Installs.value_counts(ascending=False) "
      ],
      "execution_count": 132,
      "outputs": [
        {
          "output_type": "execute_result",
          "data": {
            "text/plain": [
              "100000000     38\n",
              "500000000     35\n",
              "1000000000    24\n",
              "5000000000     3\n",
              "Name: Installs, dtype: int64"
            ]
          },
          "metadata": {
            "tags": []
          },
          "execution_count": 132
        }
      ]
    },
    {
      "cell_type": "code",
      "metadata": {
        "id": "i04l27BucNuw",
        "colab_type": "code",
        "colab": {
          "base_uri": "https://localhost:8080/",
          "height": 278
        },
        "outputId": "5568d4cb-d6f9-462e-8d8b-fbf9bfc3269b"
      },
      "source": [
        "app_category= top_installed_and_rated_apps.head(100).Installs\n",
        "app_category.plot.density().set_yscale(\"log\")"
      ],
      "execution_count": 133,
      "outputs": [
        {
          "output_type": "display_data",
          "data": {
            "image/png": "[encoded data removed]",
            "text/plain": [
              "<Figure size 432x288 with 1 Axes>"
            ]
          },
          "metadata": {
            "tags": [],
            "needs_background": "light"
          }
        }
      ]
    },
    {
      "cell_type": "code",
      "metadata": {
        "id": "qnijynBTcNuy",
        "colab_type": "code",
        "colab": {
          "base_uri": "https://localhost:8080/",
          "height": 265
        },
        "outputId": "4395d242-dcd9-440f-ffb3-17613b1c0e1b"
      },
      "source": [
        "app_category= top_installed_and_rated_apps.head(100).Rating\n",
        "app_category.plot.density().set_yscale(\"log\")"
      ],
      "execution_count": 134,
      "outputs": [
        {
          "output_type": "display_data",
          "data": {
            "image/png": "[encoded data removed]",
            "text/plain": [
              "<Figure size 432x288 with 1 Axes>"
            ]
          },
          "metadata": {
            "tags": [],
            "needs_background": "light"
          }
        }
      ]
    },
    {
      "cell_type": "code",
      "metadata": {
        "id": "eW7nYehOcNu3",
        "colab_type": "code",
        "colab": {
          "base_uri": "https://localhost:8080/",
          "height": 218
        },
        "outputId": "eb6486c9-c394-4df3-a186-dc890b7cd38b"
      },
      "source": [
        "top_installed_and_rated_apps.head(100).Rating.value_counts(ascending=False) "
      ],
      "execution_count": 135,
      "outputs": [
        {
          "output_type": "execute_result",
          "data": {
            "text/plain": [
              "4.582568    1\n",
              "4.703391    1\n",
              "4.666019    1\n",
              "4.657038    1\n",
              "4.463741    1\n",
              "           ..\n",
              "4.351907    1\n",
              "4.491666    1\n",
              "4.355916    1\n",
              "4.626627    1\n",
              "4.652842    1\n",
              "Name: Rating, Length: 100, dtype: int64"
            ]
          },
          "metadata": {
            "tags": []
          },
          "execution_count": 135
        }
      ]
    },
    {
      "cell_type": "code",
      "metadata": {
        "id": "39tqr_UicNu4",
        "colab_type": "code",
        "colab": {
          "base_uri": "https://localhost:8080/",
          "height": 218
        },
        "outputId": "8418c916-715d-4887-895c-26dc84c45ebc"
      },
      "source": [
        "top_installed_and_rated_apps.head(100).Reviews.value_counts()"
      ],
      "execution_count": 136,
      "outputs": [
        {
          "output_type": "execute_result",
          "data": {
            "text/plain": [
              "1745403.0     1\n",
              "19573637.0    1\n",
              "1888392.0     1\n",
              "2608408.0     1\n",
              "966728.0      1\n",
              "             ..\n",
              "2920141.0     1\n",
              "1976168.0     1\n",
              "58506.0       1\n",
              "99127.0       1\n",
              "24657922.0    1\n",
              "Name: Reviews, Length: 100, dtype: int64"
            ]
          },
          "metadata": {
            "tags": []
          },
          "execution_count": 136
        }
      ]
    },
    {
      "cell_type": "code",
      "metadata": {
        "id": "_FXItN__cNu6",
        "colab_type": "code",
        "colab": {
          "base_uri": "https://localhost:8080/",
          "height": 281
        },
        "outputId": "9a694917-3b07-462e-de2e-732941892b0c"
      },
      "source": [
        "app_category= top_installed_and_rated_apps.head(100).Reviews\n",
        "app_category.plot.density().set_yscale(\"log\")"
      ],
      "execution_count": 137,
      "outputs": [
        {
          "output_type": "display_data",
          "data": {
            "image/png": "[encoded data removed]",
            "text/plain": [
              "<Figure size 432x288 with 1 Axes>"
            ]
          },
          "metadata": {
            "tags": [],
            "needs_background": "light"
          }
        }
      ]
    },
    {
      "cell_type": "code",
      "metadata": {
        "id": "ZoFpACzNcNu8",
        "colab_type": "code",
        "colab": {}
      },
      "source": [
        "####################"
      ],
      "execution_count": 138,
      "outputs": []
    },
    {
      "cell_type": "code",
      "metadata": {
        "id": "HvvD6DbncNvB",
        "colab_type": "code",
        "colab": {
          "base_uri": "https://localhost:8080/",
          "height": 218
        },
        "outputId": "cd341111-640e-42a0-b382-be7e3de9797e"
      },
      "source": [
        "app[\"Rating\"].value_counts()"
      ],
      "execution_count": 139,
      "outputs": [
        {
          "output_type": "execute_result",
          "data": {
            "text/plain": [
              "5.000000    23805\n",
              "4.000000     5469\n",
              "4.500000     3519\n",
              "3.000000     2581\n",
              "4.333333     2145\n",
              "            ...  \n",
              "4.286852        1\n",
              "4.396635        1\n",
              "4.449430        1\n",
              "4.363723        1\n",
              "3.945443        1\n",
              "Name: Rating, Length: 100205, dtype: int64"
            ]
          },
          "metadata": {
            "tags": []
          },
          "execution_count": 139
        }
      ]
    },
    {
      "cell_type": "code",
      "metadata": {
        "id": "2OY3tHLicNvD",
        "colab_type": "code",
        "colab": {
          "base_uri": "https://localhost:8080/",
          "height": 296
        },
        "outputId": "2c686bb9-bc4c-4530-e6af-d5cb7b14ad9a"
      },
      "source": [
        "app_rating= app[\"Rating\"]\n",
        "num_bins=7\n",
        "plt.hist(app_rating, num_bins, facecolor=\"green\", alpha = 1)\n",
        "plt.xlabel(\"Google Playstore - App Ratings\")\n",
        "plt.ylabel(\"Number of Apps\")\n",
        "plt.show"
      ],
      "execution_count": 140,
      "outputs": [
        {
          "output_type": "execute_result",
          "data": {
            "text/plain": [
              "<function matplotlib.pyplot.show>"
            ]
          },
          "metadata": {
            "tags": []
          },
          "execution_count": 140
        },
        {
          "output_type": "display_data",
          "data": {
            "image/png": "[encoded data removed]",
            "text/plain": [
              "<Figure size 432x288 with 1 Axes>"
            ]
          },
          "metadata": {
            "tags": [],
            "needs_background": "light"
          }
        }
      ]
    },
    {
      "cell_type": "code",
      "metadata": {
        "id": "tD8LyjcOcNvE",
        "colab_type": "code",
        "colab": {}
      },
      "source": [
        "###############################"
      ],
      "execution_count": 141,
      "outputs": []
    },
    {
      "cell_type": "code",
      "metadata": {
        "id": "h3zZDG1qcNvG",
        "colab_type": "code",
        "colab": {
          "base_uri": "https://localhost:8080/",
          "height": 264
        },
        "outputId": "d2fc0e0f-bc71-4bb6-aa27-3fa5623c9db8"
      },
      "source": [
        "app1=top_installed_and_rated_apps.head(100)\n",
        "app1[\"Content Rating\"].value_counts().plot.pie()\n",
        "plt.title(\"Content Rating - Top 100 (Main) Apps\")\n",
        "plt.show()"
      ],
      "execution_count": 142,
      "outputs": [
        {
          "output_type": "display_data",
          "data": {
            "image/png": "[encoded data removed]",
            "text/plain": [
              "<Figure size 432x288 with 1 Axes>"
            ]
          },
          "metadata": {
            "tags": []
          }
        }
      ]
    },
    {
      "cell_type": "code",
      "metadata": {
        "id": "YVkU9wrEcNvI",
        "colab_type": "code",
        "colab": {
          "base_uri": "https://localhost:8080/",
          "height": 101
        },
        "outputId": "28e10968-91ba-460d-d815-bff1cc842bb2"
      },
      "source": [
        "app1[\"Content Rating\"].value_counts()"
      ],
      "execution_count": 143,
      "outputs": [
        {
          "output_type": "execute_result",
          "data": {
            "text/plain": [
              "Everyone        69\n",
              "Teen            24\n",
              "Everyone 10+     5\n",
              "Mature 17+       2\n",
              "Name: Content Rating, dtype: int64"
            ]
          },
          "metadata": {
            "tags": []
          },
          "execution_count": 143
        }
      ]
    },
    {
      "cell_type": "code",
      "metadata": {
        "id": "_MDL92yjcNvJ",
        "colab_type": "code",
        "colab": {
          "base_uri": "https://localhost:8080/",
          "height": 264
        },
        "outputId": "747893fc-16a6-4ba1-ce85-46cc8301b130"
      },
      "source": [
        "app2= top_installed_and_rated_apps.head(100)\n",
        "app2[\"Installs\"].value_counts().plot.pie()\n",
        "plt.title(\"Gradation of Installations - Main Top 100 Apps\")\n",
        "plt.show()"
      ],
      "execution_count": 144,
      "outputs": [
        {
          "output_type": "display_data",
          "data": {
            "image/png": "[encoded data removed]",
            "text/plain": [
              "<Figure size 432x288 with 1 Axes>"
            ]
          },
          "metadata": {
            "tags": []
          }
        }
      ]
    },
    {
      "cell_type": "code",
      "metadata": {
        "id": "8BRjbPl7cNvL",
        "colab_type": "code",
        "colab": {
          "base_uri": "https://localhost:8080/",
          "height": 101
        },
        "outputId": "c4a0c188-6ede-469f-9f4b-d3025aecc93d"
      },
      "source": [
        "app2[\"Installs\"].value_counts()"
      ],
      "execution_count": 145,
      "outputs": [
        {
          "output_type": "execute_result",
          "data": {
            "text/plain": [
              "100000000     38\n",
              "500000000     35\n",
              "1000000000    24\n",
              "5000000000     3\n",
              "Name: Installs, dtype: int64"
            ]
          },
          "metadata": {
            "tags": []
          },
          "execution_count": 145
        }
      ]
    },
    {
      "cell_type": "code",
      "metadata": {
        "id": "MD_09PNccNvO",
        "colab_type": "code",
        "colab": {
          "base_uri": "https://localhost:8080/",
          "height": 478
        },
        "outputId": "c3a284ed-fb28-4505-b7ea-ce241e044e48"
      },
      "source": [
        "top_10_installed_and_rated_apps"
      ],
      "execution_count": 146,
      "outputs": [
        {
          "output_type": "execute_result",
          "data": {
            "text/html": [
              "<div>\n",
              "<style scoped>\n",
              "    .dataframe tbody tr th:only-of-type {\n",
              "        vertical-align: middle;\n",
              "    }\n",
              "\n",
              "    .dataframe tbody tr th {\n",
              "        vertical-align: top;\n",
              "    }\n",
              "\n",
              "    .dataframe thead th {\n",
              "        text-align: right;\n",
              "    }\n",
              "</style>\n",
              "<table border=\"1\" class=\"dataframe\">\n",
              "  <thead>\n",
              "    <tr style=\"text-align: right;\">\n",
              "      <th></th>\n",
              "      <th>App Name</th>\n",
              "      <th>Category</th>\n",
              "      <th>Rating</th>\n",
              "      <th>Reviews</th>\n",
              "      <th>Installs</th>\n",
              "      <th>Size</th>\n",
              "      <th>Price</th>\n",
              "      <th>Content Rating</th>\n",
              "      <th>Last Updated</th>\n",
              "      <th>Minimum Version</th>\n",
              "      <th>Latest Version</th>\n",
              "    </tr>\n",
              "  </thead>\n",
              "  <tbody>\n",
              "    <tr>\n",
              "      <th>821</th>\n",
              "      <td>Google</td>\n",
              "      <td>TOOLS</td>\n",
              "      <td>4.408893</td>\n",
              "      <td>10870728.0</td>\n",
              "      <td>5000000000</td>\n",
              "      <td>Varies with device</td>\n",
              "      <td>0.0</td>\n",
              "      <td>Everyone</td>\n",
              "      <td>April 1, 2019</td>\n",
              "      <td>Varies with device</td>\n",
              "      <td>Varies with device</td>\n",
              "    </tr>\n",
              "    <tr>\n",
              "      <th>813</th>\n",
              "      <td>YouTube</td>\n",
              "      <td>VIDEO_PLAYERS</td>\n",
              "      <td>4.368428</td>\n",
              "      <td>41919102.0</td>\n",
              "      <td>5000000000</td>\n",
              "      <td>Varies with device</td>\n",
              "      <td>0.0</td>\n",
              "      <td>Teen</td>\n",
              "      <td>April 2, 2019</td>\n",
              "      <td>Varies with device</td>\n",
              "      <td>Varies with device</td>\n",
              "    </tr>\n",
              "    <tr>\n",
              "      <th>2177</th>\n",
              "      <td>Maps - Navigate &amp; Explore</td>\n",
              "      <td>TRAVEL_AND_LOCAL</td>\n",
              "      <td>4.342798</td>\n",
              "      <td>10083666.0</td>\n",
              "      <td>5000000000</td>\n",
              "      <td>Varies with device</td>\n",
              "      <td>0.0</td>\n",
              "      <td>Everyone</td>\n",
              "      <td>April 1, 2019</td>\n",
              "      <td>Varies with device</td>\n",
              "      <td>Varies with device</td>\n",
              "    </tr>\n",
              "    <tr>\n",
              "      <th>7064</th>\n",
              "      <td>Clean Master - Antivirus, Applock &amp; Cleaner</td>\n",
              "      <td>TOOLS</td>\n",
              "      <td>4.657038</td>\n",
              "      <td>44171776.0</td>\n",
              "      <td>1000000000</td>\n",
              "      <td>20</td>\n",
              "      <td>0.0</td>\n",
              "      <td>Everyone</td>\n",
              "      <td>April 1, 2019</td>\n",
              "      <td>Varies with device</td>\n",
              "      <td>7.0.6</td>\n",
              "    </tr>\n",
              "    <tr>\n",
              "      <th>6411</th>\n",
              "      <td>Google Duo - High Quality Video Calls</td>\n",
              "      <td>COMMUNICATION</td>\n",
              "      <td>4.596404</td>\n",
              "      <td>3641252.0</td>\n",
              "      <td>1000000000</td>\n",
              "      <td>20</td>\n",
              "      <td>0.0</td>\n",
              "      <td>Everyone</td>\n",
              "      <td>April 2, 2019</td>\n",
              "      <td>4.4 and up</td>\n",
              "      <td>50.1.240885383.DR50_RC06</td>\n",
              "    </tr>\n",
              "    <tr>\n",
              "      <th>3269</th>\n",
              "      <td>SHAREit - Transfer &amp; Share</td>\n",
              "      <td>TOOLS</td>\n",
              "      <td>4.579340</td>\n",
              "      <td>10450444.0</td>\n",
              "      <td>1000000000</td>\n",
              "      <td>20</td>\n",
              "      <td>0.0</td>\n",
              "      <td>Everyone</td>\n",
              "      <td>April 1, 2019</td>\n",
              "      <td>4.1 and up</td>\n",
              "      <td>4.7.38_ww</td>\n",
              "    </tr>\n",
              "    <tr>\n",
              "      <th>1259</th>\n",
              "      <td>Google Photos</td>\n",
              "      <td>PHOTOGRAPHY</td>\n",
              "      <td>4.542380</td>\n",
              "      <td>16278468.0</td>\n",
              "      <td>1000000000</td>\n",
              "      <td>Varies with device</td>\n",
              "      <td>0.0</td>\n",
              "      <td>Everyone</td>\n",
              "      <td>April 2, 2019</td>\n",
              "      <td>Varies with device</td>\n",
              "      <td>Varies with device</td>\n",
              "    </tr>\n",
              "    <tr>\n",
              "      <th>653</th>\n",
              "      <td>Instagram</td>\n",
              "      <td>SOCIAL</td>\n",
              "      <td>4.519560</td>\n",
              "      <td>79726403.0</td>\n",
              "      <td>1000000000</td>\n",
              "      <td>Varies with device</td>\n",
              "      <td>0.0</td>\n",
              "      <td>Teen</td>\n",
              "      <td>April 2, 2019</td>\n",
              "      <td>Varies with device</td>\n",
              "      <td>Varies with device</td>\n",
              "    </tr>\n",
              "    <tr>\n",
              "      <th>539</th>\n",
              "      <td>Subway Surfers</td>\n",
              "      <td>GAME_ARCADE</td>\n",
              "      <td>4.498131</td>\n",
              "      <td>29834812.0</td>\n",
              "      <td>1000000000</td>\n",
              "      <td>85</td>\n",
              "      <td>0.0</td>\n",
              "      <td>Everyone 10+</td>\n",
              "      <td>March 7, 2019</td>\n",
              "      <td>4.1 and up</td>\n",
              "      <td>1.100.0</td>\n",
              "    </tr>\n",
              "    <tr>\n",
              "      <th>3267</th>\n",
              "      <td>Samsung Internet Browser</td>\n",
              "      <td>COMMUNICATION</td>\n",
              "      <td>4.424015</td>\n",
              "      <td>832714.0</td>\n",
              "      <td>1000000000</td>\n",
              "      <td>Varies with device</td>\n",
              "      <td>0.0</td>\n",
              "      <td>Everyone</td>\n",
              "      <td>February 21, 2019</td>\n",
              "      <td>5.0 and up</td>\n",
              "      <td>Varies with device</td>\n",
              "    </tr>\n",
              "  </tbody>\n",
              "</table>\n",
              "</div>"
            ],
            "text/plain": [
              "                                         App Name  ...            Latest Version\n",
              "821                                        Google  ...        Varies with device\n",
              "813                                       YouTube  ...        Varies with device\n",
              "2177                    Maps - Navigate & Explore  ...        Varies with device\n",
              "7064  Clean Master - Antivirus, Applock & Cleaner  ...                     7.0.6\n",
              "6411        Google Duo - High Quality Video Calls  ...  50.1.240885383.DR50_RC06\n",
              "3269                   SHAREit - Transfer & Share  ...                 4.7.38_ww\n",
              "1259                                Google Photos  ...        Varies with device\n",
              "653                                     Instagram  ...        Varies with device\n",
              "539                                Subway Surfers  ...                   1.100.0\n",
              "3267                     Samsung Internet Browser  ...        Varies with device\n",
              "\n",
              "[10 rows x 11 columns]"
            ]
          },
          "metadata": {
            "tags": []
          },
          "execution_count": 146
        }
      ]
    },
    {
      "cell_type": "code",
      "metadata": {
        "id": "Pizz_eNTcNvQ",
        "colab_type": "code",
        "colab": {
          "base_uri": "https://localhost:8080/",
          "height": 332
        },
        "outputId": "5c7968ad-8bcb-477e-a43f-cce210e3d1bc"
      },
      "source": [
        "\n",
        "# top 10 main apps \n",
        "\n",
        "app4= top_10_installed_and_rated_apps\n",
        "top_apps=app4.groupby([\"Installs\", \"App Name\"]).size().unstack()\n",
        "top_apps.plot(kind=\"bar\", stacked=True)\n",
        "ax=plt.gca()\n",
        "plt.show()"
      ],
      "execution_count": 147,
      "outputs": [
        {
          "output_type": "display_data",
          "data": {
            "image/png": "[encoded data removed]",
            "text/plain": [
              "<Figure size 432x288 with 1 Axes>"
            ]
          },
          "metadata": {
            "tags": [],
            "needs_background": "light"
          }
        }
      ]
    },
    {
      "cell_type": "code",
      "metadata": {
        "id": "FYDwEjEocNvT",
        "colab_type": "code",
        "colab": {
          "base_uri": "https://localhost:8080/",
          "height": 101
        },
        "outputId": "f7f789fb-077b-47ed-d53f-aec3ebbbd5a6"
      },
      "source": [
        "top_installed_and_rated_apps.head(100)[\"Content Rating\"].value_counts(ascending= False) "
      ],
      "execution_count": 148,
      "outputs": [
        {
          "output_type": "execute_result",
          "data": {
            "text/plain": [
              "Everyone        69\n",
              "Teen            24\n",
              "Everyone 10+     5\n",
              "Mature 17+       2\n",
              "Name: Content Rating, dtype: int64"
            ]
          },
          "metadata": {
            "tags": []
          },
          "execution_count": 148
        }
      ]
    },
    {
      "cell_type": "code",
      "metadata": {
        "id": "S6-z6MMGcNvU",
        "colab_type": "code",
        "colab": {
          "base_uri": "https://localhost:8080/",
          "height": 616
        },
        "outputId": "49012068-6ce8-4796-8286-b9460c67de68"
      },
      "source": [
        "# violin plot - main top 100 apps - content rating vs installs\n",
        "app5=top_installed_and_rated_apps.head(100)\n",
        "plt.figure(figsize=(15,10))\n",
        "sns.violinplot(x= \"Content Rating\", y=\"Installs\", data= app5)\n",
        "plt.show()"
      ],
      "execution_count": 149,
      "outputs": [
        {
          "output_type": "display_data",
          "data": {
            "image/png": "[encoded data removed]",
            "text/plain": [
              "<Figure size 1080x720 with 1 Axes>"
            ]
          },
          "metadata": {
            "tags": [],
            "needs_background": "light"
          }
        }
      ]
    },
    {
      "cell_type": "code",
      "metadata": {
        "id": "vlJ428BncNvY",
        "colab_type": "code",
        "colab": {
          "base_uri": "https://localhost:8080/",
          "height": 487
        },
        "outputId": "aa64e9b8-3b34-42eb-e698-33b1c692f716"
      },
      "source": [
        "plt.figure(figsize=(16,8))\n",
        "corr= app.corr()\n",
        "sns.heatmap(corr)\n",
        "plt.show()"
      ],
      "execution_count": 150,
      "outputs": [
        {
          "output_type": "display_data",
          "data": {
            "image/png": "[encoded data removed]",
            "text/plain": [
              "<Figure size 1152x576 with 2 Axes>"
            ]
          },
          "metadata": {
            "tags": [],
            "needs_background": "light"
          }
        }
      ]
    },
    {
      "cell_type": "markdown",
      "metadata": {
        "id": "6diIChfAcNvh",
        "colab_type": "text"
      },
      "source": [
        "# Unsupervised Methods"
      ]
    },
    {
      "cell_type": "code",
      "metadata": {
        "id": "RdCQ1Kn9cNvh",
        "colab_type": "code",
        "colab": {}
      },
      "source": [
        "new_app = app.head(1000) # taking a part(sample) from the data set to apply supervided and unsupervised\n",
        "# i did not take a bigger sample because of memory crashes"
      ],
      "execution_count": 151,
      "outputs": []
    },
    {
      "cell_type": "code",
      "metadata": {
        "id": "4QS6OwT9cNvp",
        "colab_type": "code",
        "colab": {
          "base_uri": "https://localhost:8080/",
          "height": 34
        },
        "outputId": "85b17604-28a7-4877-848f-8a11fcfdc6ed"
      },
      "source": [
        "new_app.shape"
      ],
      "execution_count": 152,
      "outputs": [
        {
          "output_type": "execute_result",
          "data": {
            "text/plain": [
              "(1000, 11)"
            ]
          },
          "metadata": {
            "tags": []
          },
          "execution_count": 152
        }
      ]
    },
    {
      "cell_type": "code",
      "metadata": {
        "id": "dS2FNR_AcNvr",
        "colab_type": "code",
        "colab": {
          "base_uri": "https://localhost:8080/",
          "height": 269
        },
        "outputId": "6cae5e69-c792-40dc-83af-27a834899299"
      },
      "source": [
        "new_app[\"Installs\"].value_counts().sort_values(ascending=False)"
      ],
      "execution_count": 153,
      "outputs": [
        {
          "output_type": "execute_result",
          "data": {
            "text/plain": [
              "1000000       262\n",
              "10000000      229\n",
              "100000        113\n",
              "5000000       112\n",
              "500000         62\n",
              "50000000       54\n",
              "100000000      52\n",
              "10000          46\n",
              "50000          37\n",
              "500000000      12\n",
              "1000000000      8\n",
              "5000            8\n",
              "1000            3\n",
              "5000000000      2\n",
              "Name: Installs, dtype: int64"
            ]
          },
          "metadata": {
            "tags": []
          },
          "execution_count": 153
        }
      ]
    },
    {
      "cell_type": "code",
      "metadata": {
        "id": "fkOHxd_OcNvt",
        "colab_type": "code",
        "colab": {
          "base_uri": "https://localhost:8080/",
          "height": 348
        },
        "outputId": "3198eec3-83bf-4699-a0fd-e973d70bc343"
      },
      "source": [
        "# I want to see the gradation of the number of installations of the new dataframe(sample), so as to compare later \n",
        "# so as to compare the unsupervised and supervised methods results\n",
        "\n",
        "new_app[\"Installs\"].value_counts().sort_values(ascending=False).plot.bar()\n",
        "plt.ylabel(\"Number of Installations in the Sample\")\n",
        "plt.xlabel(\"Classes of Installations\")\n",
        "plt.title(\"Gradation in Number of Installations - Sample (first 1000 Lines of the Dataset)\")\n",
        "plt.show()"
      ],
      "execution_count": 154,
      "outputs": [
        {
          "output_type": "display_data",
          "data": {
            "image/png": "[encoded data removed]",
            "text/plain": [
              "<Figure size 432x288 with 1 Axes>"
            ]
          },
          "metadata": {
            "tags": [],
            "needs_background": "light"
          }
        }
      ]
    },
    {
      "cell_type": "code",
      "metadata": {
        "id": "iV6DTfK-cNvv",
        "colab_type": "code",
        "colab": {}
      },
      "source": [
        "#**********************************\n",
        "# Import packages from Scikit Learn\n",
        "\n",
        "from sklearn import cluster # in unsupervised method we have clusters/ data are grouped into clusters\n",
        "from sklearn import metrics # for the distances between the data \n",
        "from sklearn.preprocessing import scale # for scaling\n",
        "from sklearn.preprocessing import LabelEncoder # for converting strings to floats\n",
        "from sklearn.preprocessing import OrdinalEncoder # for converting strings to floats when x(attributes) are strings"
      ],
      "execution_count": 155,
      "outputs": []
    },
    {
      "cell_type": "code",
      "metadata": {
        "id": "kSAvhGETcNvy",
        "colab_type": "code",
        "colab": {}
      },
      "source": [
        "#********************************************************************************\n",
        "\n",
        "# Segmenting the data i have chosen into attributes (features)=x, and target=(y)\n",
        "\n",
        "# y will be the number of installations\n",
        "\n",
        "# x will be: Category, Rating, Reviews and Content Rating\n",
        "\n",
        "\n",
        "x= new_app[['Category', 'Rating', 'Reviews', 'Content Rating']] # attributes\n",
        "\n",
        "y= new_app[\"Installs\"] # y included the classes of installations. e.g. 100,000 in the dataset means more than 100,000 installations"
      ],
      "execution_count": 156,
      "outputs": []
    },
    {
      "cell_type": "code",
      "metadata": {
        "id": "DCdouT-scNv3",
        "colab_type": "code",
        "colab": {}
      },
      "source": [
        "# x has strings. This command is for converting strings to floats\n",
        "\n",
        "x_transformed= OrdinalEncoder().fit_transform(x) \n"
      ],
      "execution_count": 157,
      "outputs": []
    },
    {
      "cell_type": "code",
      "metadata": {
        "id": "fZaia-kucNv9",
        "colab_type": "code",
        "colab": {}
      },
      "source": [
        "# Preparing the data- Scaling/ Handling the data in such way they can belong in a spesific range\n",
        "# and represent the same degree of difference\n",
        "#***********************************************************************************************************\n",
        "\n",
        "scaled_data= scale(x_transformed)"
      ],
      "execution_count": 158,
      "outputs": []
    },
    {
      "cell_type": "code",
      "metadata": {
        "id": "jaN6A6UgcNwC",
        "colab_type": "code",
        "colab": {
          "base_uri": "https://localhost:8080/",
          "height": 134
        },
        "outputId": "290174fe-9586-4100-b870-a784222ae1ca"
      },
      "source": [
        "scaled_data"
      ],
      "execution_count": 159,
      "outputs": [
        {
          "output_type": "execute_result",
          "data": {
            "text/plain": [
              "array([[-0.77036381,  1.06735713,  0.86717825, -0.57690942],\n",
              "       [ 2.36819293,  0.28702897,  1.37371577, -0.57690942],\n",
              "       [ 1.96321786, -1.66552549, -1.2428125 , -0.57690942],\n",
              "       ...,\n",
              "       [ 2.1657054 , -1.68980237,  0.0043178 , -0.57690942],\n",
              "       [ 2.1657054 , -1.72448362,  0.30125358, -0.57690942],\n",
              "       [ 2.1657054 ,  1.16099651, -0.64894093, -0.57690942]])"
            ]
          },
          "metadata": {
            "tags": []
          },
          "execution_count": 159
        }
      ]
    },
    {
      "cell_type": "code",
      "metadata": {
        "id": "vVW1VWeHcNwG",
        "colab_type": "code",
        "colab": {}
      },
      "source": [
        "# import python libraries for creating clusters, for converting and for scaling\n",
        "\n",
        "from sklearn import cluster\n",
        "from sklearn.preprocessing import LabelEncoder\n",
        "from sklearn.preprocessing import scale "
      ],
      "execution_count": 160,
      "outputs": []
    },
    {
      "cell_type": "code",
      "metadata": {
        "id": "tkbwQjoQcNwI",
        "colab_type": "code",
        "colab": {
          "base_uri": "https://localhost:8080/",
          "height": 34
        },
        "outputId": "6bb397c8-1ca6-4c8c-bb6a-4e88b4b05092"
      },
      "source": [
        "# i have taken a sample, so now the clusters of installations are 14 from 21 that normally are for the whole dataset\n",
        "# creating  clusters using Agglomerative Clustering\n",
        "len(np.unique(y))"
      ],
      "execution_count": 161,
      "outputs": [
        {
          "output_type": "execute_result",
          "data": {
            "text/plain": [
              "14"
            ]
          },
          "metadata": {
            "tags": []
          },
          "execution_count": 161
        }
      ]
    },
    {
      "cell_type": "code",
      "metadata": {
        "id": "Cb_Fdrz1cNwQ",
        "colab_type": "code",
        "colab": {
          "base_uri": "https://localhost:8080/",
          "height": 67
        },
        "outputId": "ee5745b6-2379-4ecc-c160-c63fef21428b"
      },
      "source": [
        "y.unique()"
      ],
      "execution_count": 162,
      "outputs": [
        {
          "output_type": "execute_result",
          "data": {
            "text/plain": [
              "array([   5000000,  100000000,     100000,   10000000,      10000,\n",
              "          1000000,   50000000,     500000,      50000,       5000,\n",
              "             1000,  500000000, 1000000000, 5000000000])"
            ]
          },
          "metadata": {
            "tags": []
          },
          "execution_count": 162
        }
      ]
    },
    {
      "cell_type": "code",
      "metadata": {
        "id": "hGa4-4qQcNwT",
        "colab_type": "code",
        "colab": {
          "base_uri": "https://localhost:8080/",
          "height": 67
        },
        "outputId": "e7698bbc-02bd-4e2d-f7b4-20468e5e5572"
      },
      "source": [
        "#******************************************************************************************************\n",
        "# Hierarchical agglomerative clustering - bottom-up approach\n",
        "#******************************************************************************************************\n",
        "\n",
        "# Using average in linkage means that i use the average of the distances of each observation \n",
        "from sklearn.cluster import AgglomerativeClustering\n",
        "n_samples, n_features = scaled_data.shape \n",
        "n_digits = len(np.unique(y)) \n",
        "model = cluster.AgglomerativeClustering(n_clusters=n_digits, linkage=\"average\", affinity=\"cosine\") \n",
        "model.fit(scaled_data) \n",
        "# this is the model created"
      ],
      "execution_count": 163,
      "outputs": [
        {
          "output_type": "execute_result",
          "data": {
            "text/plain": [
              "AgglomerativeClustering(affinity='cosine', compute_full_tree='auto',\n",
              "                        connectivity=None, distance_threshold=None,\n",
              "                        linkage='average', memory=None, n_clusters=14)"
            ]
          },
          "metadata": {
            "tags": []
          },
          "execution_count": 163
        }
      ]
    },
    {
      "cell_type": "code",
      "metadata": {
        "id": "Xqkscn7acNwW",
        "colab_type": "code",
        "colab": {
          "base_uri": "https://localhost:8080/",
          "height": 722
        },
        "outputId": "91f4e847-ab35-4578-a8a9-62dca9d974fb"
      },
      "source": [
        "print (model.labels_)"
      ],
      "execution_count": 164,
      "outputs": [
        {
          "output_type": "stream",
          "text": [
            "[ 0  8  4  5  9  6  3  7  4  7  7  6  4  6  0  0  6  7  7  6  7  5  4  4\n",
            " 10  7  8  7  5  7  5  9  6  5  5  8  6  7  3  6  6  7  9  3  5  4  2  9\n",
            "  1  9 10  9  6 10  2 10  6  9  1  6  9  1  6  3  9  9 10  1 10  9  1  7\n",
            "  9  3  6  3  2  2 10  9  1  6  7  2  1  6  6  6  9  9  9 10  1  6  9  6\n",
            " 10  6  1  6  6  6  1  6 10  7  3  7  6  6  7  6  5  5  6  7  9  6  7  7\n",
            "  7  9  7  0  6  5  9  5  9  9  6  7  6  6  6  6  6  6  5  5  5  5  6  9\n",
            "  6  6  6  7  6  7  5  6  7  6  6  6  3  7  6  6  5  6  7  0  8  7  7  6\n",
            "  0  6  7  9  6  6  9  7  6  6  6  6  6  6  6  6  6  6  6  6  7  6  6  6\n",
            "  6  9  9  6  6  9  7  6  4  6  9  6  6  6  6  6  6  6  6  6  6  6  9  5\n",
            "  6  6  6  9  6  9  6  2  6  6  6  6  9  6  6  6  6  9  6  6  6  6  6  6\n",
            "  6  9  6  6  0  6  6  6  4  6  6  6  6  9  9  7  5  5  3  3  3  3  7  6\n",
            "  6  2 11  6  3  0  2  2  9  3  3  4  6  2  2  2  2  1  6  2  3  3  2  7\n",
            "  6  2  2  9  3  5  3  2  1 13  3  0  5  7  9  5  3  3  2  6  2  2  3 11\n",
            "  4  3  9  0  9 12  0  0 11  9  8  4  0  0  0  6  7  0  4 11  4 11 11  5\n",
            "  7  5  5 12 11  5 11  0 11  6 12  6  8  5 12  9  6 12 11  9  8 11 11  6\n",
            "  0 11  6  8  4  8  6  7 11  5  8  6  6  5  9  8  8  7  6  4  6  4  8  4\n",
            "  6  8  4  2  7  7  5  8  9  6  6  9  6  5  6  7  8  8  7  6  7  5  5  4\n",
            "  8  9  6  7  6  8  6  7  5  7  6  7  8  7  5 11  8  6  5  6  6  8  6  6\n",
            "  5  8  6  6  9 11  7  6  8  8  6  4  9  6  7  8  4 11  2  1  8 11  9  4\n",
            "  8  9  8  4  4  8  8  3 10  8 11  8  8  9  8  4  8  7  1  8  8  4  8  8\n",
            "  4 10  4 11  8 10  7  8  4  8  1  1  5 10  2  8  4  4  8  8 11  8  8  4\n",
            "  4 10  8  3  8  7  3  4 10  0  4  4  8 10  8  4  3  8  9  3  8  8  8  8\n",
            "  7  4  4 11  8  8  4  9  0  4  8  0  2  3  5  5  5  3  6  7  6  2  6  2\n",
            "  2  0  5  3  3  5  7  6  3  3  7  6  0  9  9  2  6  3  2  7  3  5  0  9\n",
            "  6  0  8  2  9  6  5  2  5  3  0  1  6  5  3  6  9  3  5  5  5  3  3  2\n",
            "  0  2  3  0  3  5  5  2  5  5  5  5  3  9  0  9  5  2  7  5  3  3  0  5\n",
            " 10  8  0  0  0 12  8 10  5  3  0 10  3  0  3 11  8  0  3  7 11  4  3  6\n",
            "  0 12  1  3  5  3  9  4  5  1  3  4  3  0  6  1  3 11  5  3 12  3  5  5\n",
            "  1  9  5  3  3  3  3  8  0  3  5  3  6  5  5  6 11  8  0  3  7  0  3  7\n",
            "  4  8  8 13  0  3  3  0  3  3  3  6  5  6  9  2  6  6  6  6  7  9 11  0\n",
            "  6 12  9  4  3  0  3  0  3  0  3 11  3  0  3  3  0  3  0  5  0  3  0  0\n",
            "  0  3  3  0  1  0  3  3  3  3  0  3  0  3  3  3  3  6  6  7  6  6  3  1\n",
            "  3  9  9 12  7  7  5  6  6  6  6  6  9  2  2  5  6  5  6  6  3  3  6  0\n",
            "  0  9  7  5  6  6  6  6  2  3  2  0  6  7  3  9  0  3 13  9  7  3  3  5\n",
            "  0  0  8 12 12  8 11  7  8  3  8  8 11  7  0  3  5  3  2  8  9  6  1  3\n",
            "  5  0  5  8  8  3  0  4  7  1 13  0  5  6 11  1  3  3  7  5  9  2  3  1\n",
            "  0  0  1  2  1  3  1  7  6  5  0  4  3  3 11  9  7  7 11  3  5  3 12 11\n",
            "  2  5  3  7  3  6  3  2  5  6  6  7  6 11  9 11  0  4  2  1  4  3  3  0\n",
            " 12  3  0  3  3 12 11  0 11  0  6 11  0 11  3 11  0  3 12  0  6  0 11 11\n",
            "  3  1 12 12  0 11  1 11 12  4 11 10  3  1  0 11 11  6 10  0 10  9 11 12\n",
            "  1 11 11 12  8 10  1  0 12 10  3  0  0  8 11  3  4  4  8  8 11  6  8  4\n",
            "  8  8  8  4  4  8  4  4  4  8  8  4  4  4  4  8]\n"
          ],
          "name": "stdout"
        }
      ]
    },
    {
      "cell_type": "code",
      "metadata": {
        "id": "uKTrtQNEcNwc",
        "colab_type": "code",
        "colab": {
          "base_uri": "https://localhost:8080/",
          "height": 67
        },
        "outputId": "abf44a54-daf6-48d2-c971-5d2532d005b9"
      },
      "source": [
        "\n",
        "# Silhouette score: comprares the similarity of an object to its own cluster with that to other clusters \n",
        "\n",
        "# models labels= models assigned to the model\n",
        "#\n",
        "#\n",
        "print (metrics.silhouette_score(scaled_data,model.labels_))\n",
        "print (metrics.completeness_score(y, model.labels_))\n",
        "print (metrics.homogeneity_score(y, model.labels_))"
      ],
      "execution_count": 165,
      "outputs": [
        {
          "output_type": "stream",
          "text": [
            "0.2046255768331342\n",
            "0.18939644179827697\n",
            "0.21934387424949217\n"
          ],
          "name": "stdout"
        }
      ]
    },
    {
      "cell_type": "code",
      "metadata": {
        "id": "w0Ocy8U_cNwe",
        "colab_type": "code",
        "colab": {
          "base_uri": "https://localhost:8080/",
          "height": 34
        },
        "outputId": "5e9553ec-ebec-4127-a0b4-9e77c44c6174"
      },
      "source": [
        "len(np.unique(y))"
      ],
      "execution_count": 166,
      "outputs": [
        {
          "output_type": "execute_result",
          "data": {
            "text/plain": [
              "14"
            ]
          },
          "metadata": {
            "tags": []
          },
          "execution_count": 166
        }
      ]
    },
    {
      "cell_type": "code",
      "metadata": {
        "id": "HQE3AkNHcNwk",
        "colab_type": "code",
        "colab": {}
      },
      "source": [
        "from scipy.cluster.hierarchy import dendrogram, linkage"
      ],
      "execution_count": 167,
      "outputs": []
    },
    {
      "cell_type": "code",
      "metadata": {
        "id": "UVsSMBJBcNwl",
        "colab_type": "code",
        "colab": {
          "base_uri": "https://localhost:8080/",
          "height": 301
        },
        "outputId": "5307d085-2d8e-4418-fc56-28317b171ecf"
      },
      "source": [
        "# Creating Hierarchical Clustering Dendrogram\n",
        "\n",
        "model= linkage(scaled_data, \"ward\")\n",
        "plt.figure()\n",
        "plt.title(\"Hierarchical Clustering Dendrogram\")\n",
        "plt.xlabel(\"sample index\")\n",
        "plt.ylabel(\"distance\")\n",
        "dendrogram(model, leaf_rotation=90.,  leaf_font_size=8.)\n",
        "plt.show()"
      ],
      "execution_count": 168,
      "outputs": [
        {
          "output_type": "display_data",
          "data": {
            "image/png": "[encoded data removed]",
            "text/plain": [
              "<Figure size 432x288 with 1 Axes>"
            ]
          },
          "metadata": {
            "tags": [],
            "needs_background": "light"
          }
        }
      ]
    },
    {
      "cell_type": "code",
      "metadata": {
        "id": "xpAfab24cNwm",
        "colab_type": "code",
        "colab": {
          "base_uri": "https://localhost:8080/",
          "height": 34
        },
        "outputId": "e1b79a50-be28-4c7d-a8b1-9cda820b9b91"
      },
      "source": [
        "len(np.unique(y))"
      ],
      "execution_count": 169,
      "outputs": [
        {
          "output_type": "execute_result",
          "data": {
            "text/plain": [
              "14"
            ]
          },
          "metadata": {
            "tags": []
          },
          "execution_count": 169
        }
      ]
    },
    {
      "cell_type": "code",
      "metadata": {
        "id": "kCuWOVvbcNwo",
        "colab_type": "code",
        "colab": {
          "base_uri": "https://localhost:8080/",
          "height": 890
        },
        "outputId": "7049d002-1f95-4794-a85f-1791430b9783"
      },
      "source": [
        "#******************************************************************************************************\n",
        "# Clustering using K-means\n",
        "# need for spesification of numbers of clusters\n",
        "# clusters in this sample are 14\n",
        "#******************************************************************************************************\n",
        "\n",
        "from sklearn import cluster \n",
        "from sklearn.preprocessing import LabelEncoder\n",
        "n_samples, n_features = scaled_data.shape\n",
        "n_digits = len(np.unique(y))\n",
        "for k in range(2, 15): \n",
        "    kmeans = cluster.KMeans(n_clusters=k)   \n",
        "    kmeans.fit(scaled_data)  \n",
        "    print(k)    \n",
        "    print(metrics.silhouette_score(scaled_data, kmeans.labels_))\n",
        "    print(metrics.completeness_score(y, kmeans.labels_))    \n",
        "    print(metrics.homogeneity_score(y, kmeans.labels_)) \n",
        "    \n",
        "# different results on every iteration because we are using random starting points# best score seems to be when k=13 (sometimes when k=14)"
      ],
      "execution_count": 170,
      "outputs": [
        {
          "output_type": "stream",
          "text": [
            "2\n",
            "0.3160804206956437\n",
            "0.01748956052802014\n",
            "0.004283511685507621\n",
            "3\n",
            "0.2712690890288309\n",
            "0.09333830946090167\n",
            "0.047178895119585326\n",
            "4\n",
            "0.27141363588810574\n",
            "0.08157230707935778\n",
            "0.05349742834246447\n",
            "5\n",
            "0.264274824043344\n",
            "0.1555394783970132\n",
            "0.11921920342643202\n",
            "6\n",
            "0.27390111430441044\n",
            "0.17666325277367081\n",
            "0.14712351125455048\n",
            "7\n",
            "0.27813375062386736\n",
            "0.16437907214944464\n",
            "0.1502193016427626\n",
            "8\n",
            "0.26963860947668\n",
            "0.18486261126468265\n",
            "0.18111787282636088\n",
            "9\n",
            "0.27557725044965187\n",
            "0.16845281046606472\n",
            "0.1715412241273527\n",
            "10\n",
            "0.27125138991156866\n",
            "0.17272048690164382\n",
            "0.1850531102066018\n",
            "11\n",
            "0.27485254037394674\n",
            "0.18967960130628694\n",
            "0.2083048848209933\n",
            "12\n",
            "0.25708577797292004\n",
            "0.17887293085635503\n",
            "0.20730843412470693\n",
            "13\n",
            "0.2757428555657989\n",
            "0.20643555746638143\n",
            "0.24790462543217665\n",
            "14\n",
            "0.27523865617707916\n",
            "0.2032036233986396\n",
            "0.25283399185714245\n"
          ],
          "name": "stdout"
        }
      ]
    },
    {
      "cell_type": "code",
      "metadata": {
        "id": "LvJfle14cNwp",
        "colab_type": "code",
        "colab": {
          "base_uri": "https://localhost:8080/",
          "height": 1000
        },
        "outputId": "75e5d208-8339-407b-be38-1d927dc30ec1"
      },
      "source": [
        "# same command with above, but now creating a list for every score in order to show it to a graph\n",
        "\n",
        "n_samples, n_features = scaled_data.shape\n",
        "n_digits = len(np.unique(y))\n",
        "\n",
        "y_silhouette=[]\n",
        "y_completeness=[]\n",
        "y_homogeneity=[]\n",
        "\n",
        "\n",
        "for k in range(2, 15): \n",
        "    kmeans = cluster.KMeans(n_clusters=k)   \n",
        "    kmeans.fit(scaled_data)  \n",
        "    print(k)    \n",
        "    print(metrics.silhouette_score(scaled_data, kmeans.labels_))\n",
        "    y_silhouette.append(metrics.silhouette_score(scaled_data, kmeans.labels_))\n",
        "    \n",
        "    print(metrics.completeness_score(y, kmeans.labels_))    \n",
        "    y_completeness.append(metrics.completeness_score(y, kmeans.labels_))\n",
        "    \n",
        "    \n",
        "    print(metrics.homogeneity_score(y, kmeans.labels_)) \n",
        "    y_homogeneity.append(metrics.homogeneity_score(y, kmeans.labels_))\n",
        "    \n",
        "\n",
        "   \n",
        "print(\"*********************************************************************************************************************\")\n",
        "print(\"*********************************************************************************************************************\")\n",
        "print (\"silhouette scores are:\\n{}\".format(y_silhouette))\n",
        "print(\"*********************************************************************************************************************\")\n",
        "print (\"completeness scores are:\\n{}\".format(y_completeness))\n",
        "print(\"*********************************************************************************************************************\")\n",
        "print (\"homogeneity scores are:\\n{}\".format(y_homogeneity))\n",
        "print(\"*********************************************************************************************************************\")\n"
      ],
      "execution_count": 171,
      "outputs": [
        {
          "output_type": "stream",
          "text": [
            "2\n",
            "0.3160804206956437\n",
            "0.017489560528020146\n",
            "0.004283511685507623\n",
            "3\n",
            "0.27121160128133726\n",
            "0.09437778328291656\n",
            "0.04771021643296381\n",
            "4\n",
            "0.27141363588810574\n",
            "0.08157230707935778\n",
            "0.05349742834246447\n",
            "5\n",
            "0.264274824043344\n",
            "0.1555394783970132\n",
            "0.11921920342643202\n",
            "6\n",
            "0.27390111430441044\n",
            "0.17666325277367084\n",
            "0.14712351125455048\n",
            "7\n",
            "0.27879443776719676\n",
            "0.1621441545679201\n",
            "0.1480581117908886\n",
            "8\n",
            "0.27277709687098467\n",
            "0.1909480825558646\n",
            "0.18544872213772343\n",
            "9\n",
            "0.27449942414182965\n",
            "0.16593232145761067\n",
            "0.16878332701444224\n",
            "10\n",
            "0.26984565320705517\n",
            "0.16791382003207297\n",
            "0.1805603329799097\n",
            "11\n",
            "0.2580221299998529\n",
            "0.17603168487257703\n",
            "0.19910609203323187\n",
            "12\n",
            "0.2736863444143874\n",
            "0.2011843570744462\n",
            "0.23647214321269086\n",
            "13\n",
            "0.27396922457974016\n",
            "0.20401084094015792\n",
            "0.24543278613509792\n",
            "14\n",
            "0.2717781151713433\n",
            "0.20021922646377197\n",
            "0.24921592976129558\n",
            "*********************************************************************************************************************\n",
            "*********************************************************************************************************************\n",
            "silhouette scores are:\n",
            "[0.3160804206956437, 0.27121160128133726, 0.27141363588810574, 0.264274824043344, 0.27390111430441044, 0.27879443776719676, 0.27277709687098467, 0.27449942414182965, 0.26984565320705517, 0.2580221299998529, 0.2736863444143874, 0.27396922457974016, 0.2717781151713433]\n",
            "*********************************************************************************************************************\n",
            "completeness scores are:\n",
            "[0.017489560528020146, 0.09437778328291656, 0.08157230707935778, 0.1555394783970132, 0.17666325277367084, 0.1621441545679201, 0.1909480825558646, 0.16593232145761067, 0.16791382003207297, 0.17603168487257703, 0.2011843570744462, 0.20401084094015792, 0.20021922646377197]\n",
            "*********************************************************************************************************************\n",
            "homogeneity scores are:\n",
            "[0.004283511685507623, 0.04771021643296381, 0.05349742834246447, 0.11921920342643202, 0.14712351125455048, 0.1480581117908886, 0.18544872213772343, 0.16878332701444224, 0.1805603329799097, 0.19910609203323187, 0.23647214321269086, 0.24543278613509792, 0.24921592976129558]\n",
            "*********************************************************************************************************************\n"
          ],
          "name": "stdout"
        }
      ]
    },
    {
      "cell_type": "code",
      "metadata": {
        "id": "hualPI25cNwt",
        "colab_type": "code",
        "colab": {
          "base_uri": "https://localhost:8080/",
          "height": 281
        },
        "outputId": "20a8173a-6247-473f-ab75-266874b614b0"
      },
      "source": [
        "plt.plot(y_silhouette)\n",
        "plt.plot(y_completeness)\n",
        "plt.plot(y_homogeneity)\n",
        "plt.legend([\"Silhouette\", \"Completeness\", \"Homogeneity\"])\n",
        "plt.title(\"K-means Scores\")\n",
        "plt.show()"
      ],
      "execution_count": 172,
      "outputs": [
        {
          "output_type": "display_data",
          "data": {
            "image/png": "[encoded data removed]",
            "text/plain": [
              "<Figure size 432x288 with 1 Axes>"
            ]
          },
          "metadata": {
            "tags": [],
            "needs_background": "light"
          }
        }
      ]
    },
    {
      "cell_type": "markdown",
      "metadata": {
        "id": "h_hM90-VcNw3",
        "colab_type": "text"
      },
      "source": [
        "# Supervised Methods"
      ]
    },
    {
      "cell_type": "code",
      "metadata": {
        "id": "lV9ZnPZ4cNw3",
        "colab_type": "code",
        "colab": {
          "base_uri": "https://localhost:8080/",
          "height": 34
        },
        "outputId": "e2261c3f-58bb-40de-9c8c-de78d1954eea"
      },
      "source": [
        "new_app.shape"
      ],
      "execution_count": 173,
      "outputs": [
        {
          "output_type": "execute_result",
          "data": {
            "text/plain": [
              "(1000, 11)"
            ]
          },
          "metadata": {
            "tags": []
          },
          "execution_count": 173
        }
      ]
    },
    {
      "cell_type": "code",
      "metadata": {
        "id": "GJLd-FsycNw6",
        "colab_type": "code",
        "colab": {}
      },
      "source": [
        "supervised_app_x= new_app[['Category', 'Rating', 'Reviews', 'Content Rating']] \n",
        "supervised_app_y= new_app[\"Installs\"]"
      ],
      "execution_count": 174,
      "outputs": []
    },
    {
      "cell_type": "code",
      "metadata": {
        "id": "zsdWoFVXcNw7",
        "colab_type": "code",
        "colab": {}
      },
      "source": [
        "supervised_x=supervised_app_x.values # attributes\n",
        "supervised_y= supervised_app_y.values #target"
      ],
      "execution_count": 175,
      "outputs": []
    },
    {
      "cell_type": "code",
      "metadata": {
        "id": "_HNXz0i5cNw8",
        "colab_type": "code",
        "colab": {}
      },
      "source": [
        "supervised_x_transformed= OrdinalEncoder().fit_transform(supervised_x) # conversting the string values to floats for applying distance metrics\n"
      ],
      "execution_count": 176,
      "outputs": []
    },
    {
      "cell_type": "code",
      "metadata": {
        "id": "Wwer17pycNw-",
        "colab_type": "code",
        "colab": {}
      },
      "source": [
        "# segmenting the data in a training and test set of a 60/40 split"
      ],
      "execution_count": 177,
      "outputs": []
    },
    {
      "cell_type": "code",
      "metadata": {
        "id": "QCsqoHGUcNw_",
        "colab_type": "code",
        "colab": {}
      },
      "source": [
        "from sklearn.model_selection import train_test_split"
      ],
      "execution_count": 178,
      "outputs": []
    },
    {
      "cell_type": "code",
      "metadata": {
        "id": "IuxxXByncNxB",
        "colab_type": "code",
        "colab": {}
      },
      "source": [
        "supervised_x_transformed_train, supervised_x_transformed_test, supervised_y_train, supervised_y_test= train_test_split(supervised_x_transformed, supervised_y, test_size=0.4)"
      ],
      "execution_count": 179,
      "outputs": []
    },
    {
      "cell_type": "code",
      "metadata": {
        "id": "R9keL_vVcNxC",
        "colab_type": "code",
        "colab": {}
      },
      "source": [
        "# Creating classifiers to predict the class of installations, using:\n",
        "# i. Logistic regression \n",
        "# ii. KNN\n"
      ],
      "execution_count": 180,
      "outputs": []
    },
    {
      "cell_type": "code",
      "metadata": {
        "id": "TUKy90CfcNxE",
        "colab_type": "code",
        "colab": {
          "base_uri": "https://localhost:8080/",
          "height": 403
        },
        "outputId": "ab2b4b8c-c806-4755-b990-af7432fd4f0b"
      },
      "source": [
        "\n",
        "print(\"LOGISTIC REGRESSION\") \n",
        "print(\"**************************************\") \n",
        "from sklearn.linear_model import LogisticRegression\n",
        "lm = LogisticRegression()\n",
        "lm.fit(supervised_x_transformed_train, supervised_y_train)\n",
        "lm.predict_proba(supervised_x_transformed_test)"
      ],
      "execution_count": 181,
      "outputs": [
        {
          "output_type": "stream",
          "text": [
            "LOGISTIC REGRESSION\n",
            "**************************************\n"
          ],
          "name": "stdout"
        },
        {
          "output_type": "stream",
          "text": [
            "/usr/local/lib/python3.6/dist-packages/sklearn/linear_model/_logistic.py:940: ConvergenceWarning: lbfgs failed to converge (status=1):\n",
            "STOP: TOTAL NO. of ITERATIONS REACHED LIMIT.\n",
            "\n",
            "Increase the number of iterations (max_iter) or scale the data as shown in:\n",
            "    https://scikit-learn.org/stable/modules/preprocessing.html\n",
            "Please also refer to the documentation for alternative solver options:\n",
            "    https://scikit-learn.org/stable/modules/linear_model.html#logistic-regression\n",
            "  extra_warning_msg=_LOGISTIC_SOLVER_CONVERGENCE_MSG)\n"
          ],
          "name": "stderr"
        },
        {
          "output_type": "execute_result",
          "data": {
            "text/plain": [
              "array([[1.98684662e-24, 7.19580082e-23, 7.04087936e-08, ...,\n",
              "        1.57494360e-02, 9.67128347e-03, 6.19564180e-04],\n",
              "       [1.76471696e-07, 7.04736320e-07, 3.88585840e-02, ...,\n",
              "        2.34953592e-03, 1.34127552e-03, 1.71211847e-04],\n",
              "       [1.26822321e-14, 1.30184713e-13, 4.57592990e-04, ...,\n",
              "        3.19867877e-03, 2.35914343e-03, 6.77778932e-05],\n",
              "       ...,\n",
              "       [3.29333857e-23, 1.00059824e-21, 5.03510836e-07, ...,\n",
              "        4.05554844e-03, 3.31991279e-03, 5.06400014e-05],\n",
              "       [2.66663570e-05, 7.79106886e-05, 2.15307177e-01, ...,\n",
              "        3.97721320e-04, 2.48304561e-04, 1.77841008e-05],\n",
              "       [2.70905724e-07, 1.28432683e-06, 6.02953854e-02, ...,\n",
              "        2.69928737e-04, 1.08981887e-04, 1.33508531e-05]])"
            ]
          },
          "metadata": {
            "tags": []
          },
          "execution_count": 181
        }
      ]
    },
    {
      "cell_type": "code",
      "metadata": {
        "id": "sxmNF0dicNxF",
        "colab_type": "code",
        "colab": {
          "base_uri": "https://localhost:8080/",
          "height": 84
        },
        "outputId": "d51bc5a4-401e-49ac-f572-194098396791"
      },
      "source": [
        "print(lm.intercept_)"
      ],
      "execution_count": 182,
      "outputs": [
        {
          "output_type": "stream",
          "text": [
            "[-4.42569650e-04 -1.63478135e-05  2.03110744e-03  1.36074287e-03\n",
            "  5.27869880e-03  2.27676398e-03  8.03947674e-03 -3.65258424e-04\n",
            " -3.45955718e-03 -4.22098547e-03 -5.06379976e-03 -2.44579786e-03\n",
            " -2.14437478e-03 -8.28098893e-04]\n"
          ],
          "name": "stdout"
        }
      ]
    },
    {
      "cell_type": "code",
      "metadata": {
        "id": "Zg9NJrpOcNxH",
        "colab_type": "code",
        "colab": {
          "base_uri": "https://localhost:8080/",
          "height": 252
        },
        "outputId": "e7610d93-9aa4-4f40-9303-af2790761f43"
      },
      "source": [
        "print(lm.coef_)"
      ],
      "execution_count": 183,
      "outputs": [
        {
          "output_type": "stream",
          "text": [
            "[[-0.00982919  0.006927   -0.0584481  -0.00070597]\n",
            " [ 0.00341712  0.00722684 -0.05475076  0.00063091]\n",
            " [ 0.02922758  0.00667063 -0.01192129  0.00421362]\n",
            " [ 0.04663884  0.00520035 -0.00572545  0.00301637]\n",
            " [ 0.08031863  0.00365358  0.00184378  0.00830331]\n",
            " [ 0.01183577  0.00254823  0.0069414   0.00404423]\n",
            " [ 0.03574871  0.00097535  0.01169264  0.00950203]\n",
            " [ 0.00315365 -0.00168526  0.01462466 -0.00188396]\n",
            " [-0.04588656 -0.00279878  0.01788788 -0.00874682]\n",
            " [-0.05772025 -0.00427256  0.01723193 -0.00607613]\n",
            " [-0.0450755  -0.00422402  0.01711146 -0.00537082]\n",
            " [-0.0117074  -0.00555455  0.01490854 -0.00374307]\n",
            " [-0.03310277 -0.00609507  0.01567918 -0.00262406]\n",
            " [-0.00701864 -0.00857175  0.01292412 -0.00055966]]\n"
          ],
          "name": "stdout"
        }
      ]
    },
    {
      "cell_type": "code",
      "metadata": {
        "id": "YR6KW3SQcNxJ",
        "colab_type": "code",
        "colab": {
          "base_uri": "https://localhost:8080/",
          "height": 658
        },
        "outputId": "39182833-e50c-47fd-bfaf-f32d84b40165"
      },
      "source": [
        "predicted = lm.predict(supervised_x_transformed_test)\n",
        "print(metrics.classification_report(supervised_y_test, predicted)) \n",
        "print(metrics.confusion_matrix(supervised_y_test, predicted))"
      ],
      "execution_count": 184,
      "outputs": [
        {
          "output_type": "stream",
          "text": [
            "              precision    recall  f1-score   support\n",
            "\n",
            "        1000       0.00      0.00      0.00         2\n",
            "        5000       0.00      0.00      0.00         4\n",
            "       10000       0.12      0.11      0.11        18\n",
            "       50000       0.00      0.00      0.00        13\n",
            "      100000       0.36      0.49      0.41        41\n",
            "      500000       0.00      0.00      0.00        19\n",
            "     1000000       0.44      0.53      0.48       107\n",
            "     5000000       0.00      0.00      0.00        41\n",
            "    10000000       0.42      0.80      0.55       100\n",
            "    50000000       0.00      0.00      0.00        26\n",
            "   100000000       0.00      0.00      0.00        22\n",
            "   500000000       0.00      0.00      0.00         4\n",
            "  1000000000       0.00      0.00      0.00         2\n",
            "  5000000000       0.00      0.00      0.00         1\n",
            "\n",
            "    accuracy                           0.40       400\n",
            "   macro avg       0.10      0.14      0.11       400\n",
            "weighted avg       0.26      0.40      0.31       400\n",
            "\n",
            "[[ 0  0  0  0  2  0  0  0  0  0  0  0  0  0]\n",
            " [ 0  0  3  0  1  0  0  0  0  0  0  0  0  0]\n",
            " [ 0  0  2  0 13  0  3  0  0  0  0  0  0  0]\n",
            " [ 0  0  6  0  6  0  1  0  0  0  0  0  0  0]\n",
            " [ 0  0  6  0 20  1  9  1  4  0  0  0  0  0]\n",
            " [ 0  0  0  0  5  0 13  0  1  0  0  0  0  0]\n",
            " [ 0  0  0  0  9  3 57  2 36  0  0  0  0  0]\n",
            " [ 0  0  0  0  0  0 19  0 22  0  0  0  0  0]\n",
            " [ 0  0  0  0  0  0 20  0 80  0  0  0  0  0]\n",
            " [ 0  0  0  0  0  0  2  0 24  0  0  0  0  0]\n",
            " [ 0  0  0  0  0  0  5  0 17  0  0  0  0  0]\n",
            " [ 0  0  0  0  0  0  0  0  4  0  0  0  0  0]\n",
            " [ 0  0  0  0  0  0  0  0  2  0  0  0  0  0]\n",
            " [ 0  0  0  0  0  0  0  0  1  0  0  0  0  0]]\n"
          ],
          "name": "stdout"
        },
        {
          "output_type": "stream",
          "text": [
            "/usr/local/lib/python3.6/dist-packages/sklearn/metrics/_classification.py:1272: UndefinedMetricWarning: Precision and F-score are ill-defined and being set to 0.0 in labels with no predicted samples. Use `zero_division` parameter to control this behavior.\n",
            "  _warn_prf(average, modifier, msg_start, len(result))\n"
          ],
          "name": "stderr"
        }
      ]
    },
    {
      "cell_type": "code",
      "metadata": {
        "id": "4j1zKqR9cNxK",
        "colab_type": "code",
        "colab": {
          "base_uri": "https://localhost:8080/",
          "height": 101
        },
        "outputId": "a86379b4-67a9-405f-ae37-91cb5c2d157b"
      },
      "source": [
        "#K nearest neighbours\n",
        "\n",
        "print(\"KNN\") \n",
        "print(\"**************************************\") \n",
        "from sklearn.neighbors import KNeighborsClassifier\n",
        "model = KNeighborsClassifier()\n",
        "model.fit(supervised_x_transformed_train, supervised_y_train) \n",
        "print(model)\n"
      ],
      "execution_count": 185,
      "outputs": [
        {
          "output_type": "stream",
          "text": [
            "KNN\n",
            "**************************************\n",
            "KNeighborsClassifier(algorithm='auto', leaf_size=30, metric='minkowski',\n",
            "                     metric_params=None, n_jobs=None, n_neighbors=5, p=2,\n",
            "                     weights='uniform')\n"
          ],
          "name": "stdout"
        }
      ]
    },
    {
      "cell_type": "code",
      "metadata": {
        "id": "nWMxSTQ2cNxL",
        "colab_type": "code",
        "colab": {
          "base_uri": "https://localhost:8080/",
          "height": 658
        },
        "outputId": "75559cf8-04db-4e51-ea67-bed0e1f94c98"
      },
      "source": [
        "predicted= model.predict(supervised_x_transformed_test)\n",
        "print (metrics.classification_report(supervised_y_test, predicted))\n",
        "print (metrics.confusion_matrix(supervised_y_test, predicted))"
      ],
      "execution_count": 186,
      "outputs": [
        {
          "output_type": "stream",
          "text": [
            "              precision    recall  f1-score   support\n",
            "\n",
            "        1000       0.00      0.00      0.00         2\n",
            "        5000       0.33      0.25      0.29         4\n",
            "       10000       0.19      0.22      0.21        18\n",
            "       50000       0.20      0.15      0.17        13\n",
            "      100000       0.43      0.56      0.48        41\n",
            "      500000       0.19      0.16      0.17        19\n",
            "     1000000       0.61      0.68      0.64       107\n",
            "     5000000       0.24      0.20      0.22        41\n",
            "    10000000       0.57      0.59      0.58       100\n",
            "    50000000       0.14      0.08      0.10        26\n",
            "   100000000       0.48      0.50      0.49        22\n",
            "   500000000       0.00      0.00      0.00         4\n",
            "  1000000000       0.00      0.00      0.00         2\n",
            "  5000000000       0.00      0.00      0.00         1\n",
            "\n",
            "    accuracy                           0.47       400\n",
            "   macro avg       0.24      0.24      0.24       400\n",
            "weighted avg       0.44      0.47      0.45       400\n",
            "\n",
            "[[ 0  0  1  1  0  0  0  0  0  0  0  0  0  0]\n",
            " [ 0  1  1  1  1  0  0  0  0  0  0  0  0  0]\n",
            " [ 0  1  4  3  8  2  0  0  0  0  0  0  0  0]\n",
            " [ 0  1  6  2  3  1  0  0  0  0  0  0  0  0]\n",
            " [ 0  0  9  3 23  3  3  0  0  0  0  0  0  0]\n",
            " [ 0  0  0  0  9  3  7  0  0  0  0  0  0  0]\n",
            " [ 0  0  0  0 10  7 73  8  9  0  0  0  0  0]\n",
            " [ 0  0  0  0  0  0 23  8 10  0  0  0  0  0]\n",
            " [ 0  0  0  0  0  0 14 16 59  8  3  0  0  0]\n",
            " [ 0  0  0  0  0  0  0  1 18  2  5  0  0  0]\n",
            " [ 0  0  0  0  0  0  0  0  7  3 11  1  0  0]\n",
            " [ 0  0  0  0  0  0  0  0  1  1  2  0  0  0]\n",
            " [ 0  0  0  0  0  0  0  0  0  0  1  1  0  0]\n",
            " [ 0  0  0  0  0  0  0  0  0  0  1  0  0  0]]\n"
          ],
          "name": "stdout"
        },
        {
          "output_type": "stream",
          "text": [
            "/usr/local/lib/python3.6/dist-packages/sklearn/metrics/_classification.py:1272: UndefinedMetricWarning: Precision and F-score are ill-defined and being set to 0.0 in labels with no predicted samples. Use `zero_division` parameter to control this behavior.\n",
            "  _warn_prf(average, modifier, msg_start, len(result))\n"
          ],
          "name": "stderr"
        }
      ]
    },
    {
      "cell_type": "code",
      "metadata": {
        "id": "IWJ3cy78cNxN",
        "colab_type": "code",
        "colab": {
          "base_uri": "https://localhost:8080/",
          "height": 34
        },
        "outputId": "33700b1b-cfdc-44f7-af56-e5525f3e8356"
      },
      "source": [
        "print (metrics.accuracy_score(supervised_y_test, predicted))"
      ],
      "execution_count": 187,
      "outputs": [
        {
          "output_type": "stream",
          "text": [
            "0.465\n"
          ],
          "name": "stdout"
        }
      ]
    }
  ]
}